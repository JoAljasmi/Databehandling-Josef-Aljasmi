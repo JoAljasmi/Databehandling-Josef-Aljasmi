{
 "cells": [
  {
   "cell_type": "markdown",
   "source": [
    "## Encoding categorical features\n",
    "Categorical features are non-numeric features with a limited amount of possible options.\n",
    "\n",
    "Before feeding them into most machine learning algortithms we must convert them into numerical features using either:\n",
    "- **Label encoding:** Each unique category is assigned to a numerical value: 0, 1, 2, 3 ...\n",
    "- **One-hot encoding:** A new binary feature is created for each category."
   ],
   "metadata": {
    "collapsed": false
   },
   "id": "ecb22d319d0951a6"
  },
  {
   "cell_type": "code",
   "execution_count": 33,
   "outputs": [],
   "source": [
    "import pandas as pd\n",
    "import seaborn as sns"
   ],
   "metadata": {
    "collapsed": false,
    "ExecuteTime": {
     "end_time": "2023-10-27T12:21:58.783426700Z",
     "start_time": "2023-10-27T12:21:58.760922600Z"
    }
   },
   "id": "fee1ae240a56fd10"
  },
  {
   "cell_type": "code",
   "execution_count": 34,
   "outputs": [],
   "source": [
    "titanic = sns.load_dataset(\"titanic\")"
   ],
   "metadata": {
    "collapsed": false,
    "ExecuteTime": {
     "end_time": "2023-10-27T12:21:59.966424400Z",
     "start_time": "2023-10-27T12:21:59.940919700Z"
    }
   },
   "id": "c0cc69584040b1a3"
  },
  {
   "cell_type": "code",
   "execution_count": 35,
   "outputs": [
    {
     "data": {
      "text/plain": "['sex', 'embarked', 'class', 'who', 'deck', 'embark_town', 'alive']"
     },
     "execution_count": 35,
     "metadata": {},
     "output_type": "execute_result"
    }
   ],
   "source": [
    "cat_columns = [col for col in titanic.columns if titanic[col].dtype in [\"object\", \"category\"]]\n",
    "cat_columns"
   ],
   "metadata": {
    "collapsed": false,
    "ExecuteTime": {
     "end_time": "2023-10-27T12:22:00.424602Z",
     "start_time": "2023-10-27T12:22:00.411600200Z"
    }
   },
   "id": "18318e6a6153e372"
  },
  {
   "cell_type": "code",
   "execution_count": 36,
   "outputs": [
    {
     "data": {
      "text/plain": "      sex embarked  class    who deck  embark_town alive\n0    male        S  Third    man  NaN  Southampton    no\n1  female        C  First  woman    C    Cherbourg   yes\n2  female        S  Third  woman  NaN  Southampton   yes\n3  female        S  First  woman    C  Southampton   yes\n4    male        S  Third    man  NaN  Southampton    no",
      "text/html": "<div>\n<style scoped>\n    .dataframe tbody tr th:only-of-type {\n        vertical-align: middle;\n    }\n\n    .dataframe tbody tr th {\n        vertical-align: top;\n    }\n\n    .dataframe thead th {\n        text-align: right;\n    }\n</style>\n<table border=\"1\" class=\"dataframe\">\n  <thead>\n    <tr style=\"text-align: right;\">\n      <th></th>\n      <th>sex</th>\n      <th>embarked</th>\n      <th>class</th>\n      <th>who</th>\n      <th>deck</th>\n      <th>embark_town</th>\n      <th>alive</th>\n    </tr>\n  </thead>\n  <tbody>\n    <tr>\n      <th>0</th>\n      <td>male</td>\n      <td>S</td>\n      <td>Third</td>\n      <td>man</td>\n      <td>NaN</td>\n      <td>Southampton</td>\n      <td>no</td>\n    </tr>\n    <tr>\n      <th>1</th>\n      <td>female</td>\n      <td>C</td>\n      <td>First</td>\n      <td>woman</td>\n      <td>C</td>\n      <td>Cherbourg</td>\n      <td>yes</td>\n    </tr>\n    <tr>\n      <th>2</th>\n      <td>female</td>\n      <td>S</td>\n      <td>Third</td>\n      <td>woman</td>\n      <td>NaN</td>\n      <td>Southampton</td>\n      <td>yes</td>\n    </tr>\n    <tr>\n      <th>3</th>\n      <td>female</td>\n      <td>S</td>\n      <td>First</td>\n      <td>woman</td>\n      <td>C</td>\n      <td>Southampton</td>\n      <td>yes</td>\n    </tr>\n    <tr>\n      <th>4</th>\n      <td>male</td>\n      <td>S</td>\n      <td>Third</td>\n      <td>man</td>\n      <td>NaN</td>\n      <td>Southampton</td>\n      <td>no</td>\n    </tr>\n  </tbody>\n</table>\n</div>"
     },
     "execution_count": 36,
     "metadata": {},
     "output_type": "execute_result"
    }
   ],
   "source": [
    "df_categories = titanic[cat_columns]\n",
    "df_categories.head()"
   ],
   "metadata": {
    "collapsed": false,
    "ExecuteTime": {
     "end_time": "2023-10-27T12:22:01.386993400Z",
     "start_time": "2023-10-27T12:22:01.361988800Z"
    }
   },
   "id": "3950ccc2738084d8"
  },
  {
   "cell_type": "code",
   "execution_count": 37,
   "outputs": [
    {
     "name": "stdout",
     "output_type": "stream",
     "text": [
      "sex: ['male' 'female']\n",
      "embarked: ['S' 'C' 'Q' nan]\n",
      "class: ['Third', 'First', 'Second']\n",
      "Categories (3, object): ['First', 'Second', 'Third']\n",
      "who: ['man' 'woman' 'child']\n",
      "deck: [NaN, 'C', 'E', 'G', 'D', 'A', 'B', 'F']\n",
      "Categories (7, object): ['A', 'B', 'C', 'D', 'E', 'F', 'G']\n",
      "embark_town: ['Southampton' 'Cherbourg' 'Queenstown' nan]\n",
      "alive: ['no' 'yes']\n"
     ]
    }
   ],
   "source": [
    "for cat in cat_columns:\n",
    "    print(f\"{cat}: {df_categories[cat].unique()}\")"
   ],
   "metadata": {
    "collapsed": false,
    "ExecuteTime": {
     "end_time": "2023-10-27T12:22:02.449875400Z",
     "start_time": "2023-10-27T12:22:02.433872600Z"
    }
   },
   "id": "71036212d01c95bc"
  },
  {
   "cell_type": "markdown",
   "source": [
    "### Label encoding\n",
    "Label encoding maps eachcategory into a numerical value.\n",
    "\n",
    "Use label encoding if:\n",
    "- Categories have a natural order\n",
    "- There are only 2 categories\n",
    "- Using One-hot encoding leads to a larage number of features"
   ],
   "metadata": {
    "collapsed": false
   },
   "id": "62a1211d3ea65ad"
  },
  {
   "cell_type": "code",
   "execution_count": 38,
   "outputs": [],
   "source": [
    "# Manual mapping\n",
    "titanic[\"embarked\"] = titanic[\"embarked\"].map({\"S\": 0, \"C\": 1, \"q\": 2})"
   ],
   "metadata": {
    "collapsed": false,
    "ExecuteTime": {
     "end_time": "2023-10-27T12:22:05.209265800Z",
     "start_time": "2023-10-27T12:22:05.194763400Z"
    }
   },
   "id": "538401589992628d"
  },
  {
   "cell_type": "markdown",
   "source": [
    "### Auto-mapping using label encoder from Scikit-learn"
   ],
   "metadata": {
    "collapsed": false
   },
   "id": "fed81851040af69e"
  },
  {
   "cell_type": "code",
   "execution_count": 39,
   "outputs": [],
   "source": [
    "from sklearn.preprocessing import LabelEncoder\n",
    "\n",
    "le = LabelEncoder()\n",
    "\n",
    "titanic[\"deck\"] = le.fit_transform(titanic[\"deck\"])"
   ],
   "metadata": {
    "collapsed": false,
    "ExecuteTime": {
     "end_time": "2023-10-27T12:22:06.932023800Z",
     "start_time": "2023-10-27T12:22:06.902518700Z"
    }
   },
   "id": "279a4b5e4b9fec26"
  },
  {
   "cell_type": "markdown",
   "source": [
    "### One-hot encoding\n",
    "In one-hot encoding, a new binary feature is created for each category, and the value of that feature is set to 1 if the observation belongs to that category, and 0 otherwise.\n",
    "\n",
    "Use one-hot encoding if:\n",
    "- Categories have no natural order.\n",
    "- Numbers of categories are small (but not 2)"
   ],
   "metadata": {
    "collapsed": false
   },
   "id": "ba7c959a3d022b5"
  },
  {
   "cell_type": "code",
   "execution_count": 41,
   "outputs": [],
   "source": [
    "titanic.head()\n",
    "titanic.to_json(\"../Data/titanic_encoded.json\", orient=\"records\")"
   ],
   "metadata": {
    "collapsed": false,
    "ExecuteTime": {
     "end_time": "2023-10-27T12:22:59.884011200Z",
     "start_time": "2023-10-27T12:22:59.869007400Z"
    }
   },
   "id": "452776955f6a19dc"
  },
  {
   "cell_type": "code",
   "execution_count": 42,
   "outputs": [],
   "source": [
    "titanic = pd.get_dummies(data=titanic, columns=[\"who\"])"
   ],
   "metadata": {
    "collapsed": false,
    "ExecuteTime": {
     "end_time": "2023-10-27T12:23:01.103465300Z",
     "start_time": "2023-10-27T12:23:01.072455500Z"
    }
   },
   "id": "5e43c0ea4cfb872d"
  },
  {
   "cell_type": "markdown",
   "source": [
    "### Auto-map remaining non-numerical features"
   ],
   "metadata": {
    "collapsed": false
   },
   "id": "cf62d0703aa85317"
  },
  {
   "cell_type": "code",
   "execution_count": 31,
   "outputs": [
    {
     "data": {
      "text/plain": "['sex', 'adult_male', 'embark_town', 'alive', 'alone']"
     },
     "execution_count": 31,
     "metadata": {},
     "output_type": "execute_result"
    }
   ],
   "source": [
    "cat_columns = [col for col in titanic.columns if titanic[col].dtype in ['object', 'catergory', 'bool']]\n",
    "cat_columns"
   ],
   "metadata": {
    "collapsed": false,
    "ExecuteTime": {
     "end_time": "2023-10-27T12:20:39.998059800Z",
     "start_time": "2023-10-27T12:20:39.965050200Z"
    }
   },
   "id": "bbd496e7f829d1f4"
  },
  {
   "cell_type": "code",
   "execution_count": null,
   "outputs": [],
   "source": [],
   "metadata": {
    "collapsed": false
   },
   "id": "588b166dd6917210"
  }
 ],
 "metadata": {
  "kernelspec": {
   "display_name": "Python 3",
   "language": "python",
   "name": "python3"
  },
  "language_info": {
   "codemirror_mode": {
    "name": "ipython",
    "version": 2
   },
   "file_extension": ".py",
   "mimetype": "text/x-python",
   "name": "python",
   "nbconvert_exporter": "python",
   "pygments_lexer": "ipython2",
   "version": "2.7.6"
  }
 },
 "nbformat": 4,
 "nbformat_minor": 5
}

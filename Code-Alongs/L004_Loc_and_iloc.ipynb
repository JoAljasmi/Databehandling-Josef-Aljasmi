{
 "cells": [
  {
   "cell_type": "markdown",
   "source": [
    "# Loc, iloc and []\n",
    "Pandas supports three types of multi-axis indexing for object seletion.\n",
    "\n",
    "- loc is a method for label based indexing.\n",
    "- iloc is a method for integer position based indexing.\n",
    "- [colnamn] returns the column as a pandas Series object.\n",
    "***Important note:*** When slicing, the upper bound is included for loc, while excluded for iloc"
   ],
   "metadata": {
    "collapsed": false
   },
   "id": "6b20a1d8e200b85b"
  },
  {
   "cell_type": "code",
   "execution_count": 1,
   "outputs": [],
   "source": [
    "import pandas as pd"
   ],
   "metadata": {
    "collapsed": false,
    "ExecuteTime": {
     "end_time": "2023-10-30T15:44:03.217851500Z",
     "start_time": "2023-10-30T15:44:03.204349800Z"
    }
   },
   "id": "38b882e7a80eb11b"
  },
  {
   "cell_type": "code",
   "execution_count": 2,
   "outputs": [
    {
     "data": {
      "text/plain": "  Column1 Column2 Column3 Column4\nA      A1      A2      A3      A4\nB      B1      B2      B3      B4\nC      C1      C2      C3      C4\nD      D1      D2      D3      D4\nE      E1      E2      E3      E4\nF      F1      F2      F3      F4\nG      G1      G2      G3      G4",
      "text/html": "<div>\n<style scoped>\n    .dataframe tbody tr th:only-of-type {\n        vertical-align: middle;\n    }\n\n    .dataframe tbody tr th {\n        vertical-align: top;\n    }\n\n    .dataframe thead th {\n        text-align: right;\n    }\n</style>\n<table border=\"1\" class=\"dataframe\">\n  <thead>\n    <tr style=\"text-align: right;\">\n      <th></th>\n      <th>Column1</th>\n      <th>Column2</th>\n      <th>Column3</th>\n      <th>Column4</th>\n    </tr>\n  </thead>\n  <tbody>\n    <tr>\n      <th>A</th>\n      <td>A1</td>\n      <td>A2</td>\n      <td>A3</td>\n      <td>A4</td>\n    </tr>\n    <tr>\n      <th>B</th>\n      <td>B1</td>\n      <td>B2</td>\n      <td>B3</td>\n      <td>B4</td>\n    </tr>\n    <tr>\n      <th>C</th>\n      <td>C1</td>\n      <td>C2</td>\n      <td>C3</td>\n      <td>C4</td>\n    </tr>\n    <tr>\n      <th>D</th>\n      <td>D1</td>\n      <td>D2</td>\n      <td>D3</td>\n      <td>D4</td>\n    </tr>\n    <tr>\n      <th>E</th>\n      <td>E1</td>\n      <td>E2</td>\n      <td>E3</td>\n      <td>E4</td>\n    </tr>\n    <tr>\n      <th>F</th>\n      <td>F1</td>\n      <td>F2</td>\n      <td>F3</td>\n      <td>F4</td>\n    </tr>\n    <tr>\n      <th>G</th>\n      <td>G1</td>\n      <td>G2</td>\n      <td>G3</td>\n      <td>G4</td>\n    </tr>\n  </tbody>\n</table>\n</div>"
     },
     "execution_count": 2,
     "metadata": {},
     "output_type": "execute_result"
    }
   ],
   "source": [
    "column_values = [f\"Column{i}\" for i in range(1, 5)]\n",
    "index_values = [chr(i) for i in range(65, 72)]\n",
    "\n",
    "df = pd.DataFrame([[f\"{ind}{col}\" for col in range(1,5)] for ind in index_values],\n",
    "                  index=index_values, columns=column_values)\n",
    "\n",
    "df"
   ],
   "metadata": {
    "collapsed": false,
    "ExecuteTime": {
     "end_time": "2023-10-30T15:44:03.264860500Z",
     "start_time": "2023-10-30T15:44:03.221352500Z"
    }
   },
   "id": "d5214d21cee944ff"
  },
  {
   "cell_type": "code",
   "execution_count": 3,
   "outputs": [
    {
     "data": {
      "text/plain": "  Column2 Column4\nA      A2      A4\nD      D2      D4\nF      F2      F4",
      "text/html": "<div>\n<style scoped>\n    .dataframe tbody tr th:only-of-type {\n        vertical-align: middle;\n    }\n\n    .dataframe tbody tr th {\n        vertical-align: top;\n    }\n\n    .dataframe thead th {\n        text-align: right;\n    }\n</style>\n<table border=\"1\" class=\"dataframe\">\n  <thead>\n    <tr style=\"text-align: right;\">\n      <th></th>\n      <th>Column2</th>\n      <th>Column4</th>\n    </tr>\n  </thead>\n  <tbody>\n    <tr>\n      <th>A</th>\n      <td>A2</td>\n      <td>A4</td>\n    </tr>\n    <tr>\n      <th>D</th>\n      <td>D2</td>\n      <td>D4</td>\n    </tr>\n    <tr>\n      <th>F</th>\n      <td>F2</td>\n      <td>F4</td>\n    </tr>\n  </tbody>\n</table>\n</div>"
     },
     "execution_count": 3,
     "metadata": {},
     "output_type": "execute_result"
    }
   ],
   "source": [
    "# Using no slices, returns the value of a single cell\n",
    "df.iloc[1, 0]\n",
    "\n",
    "# Using slice on one axis return a pandas Series object\n",
    "df.iloc[1, :] # Full row 1 (\"B\")\n",
    "df.iloc[:, 0] # Full column 0 (\"Column 1\")\n",
    "df.iloc[:3, 1]# First 3 cells of column 1 (\"Column2\")\n",
    "\n",
    "# Using slice on both axis returns a pandas DataFrame object\n",
    "df.iloc[:2, :2] # returns the four cells in the upper left corner\n",
    "df.iloc[2:6, 1:3] # return col 2 & 3, and rows C-F\n",
    "df.iloc[:, :] # returns a copy of dataframe\n",
    "\n",
    "# Lists can be used instead of slices for either axis\n",
    "df.iloc[[0, 3, 5], [1, 3]]"
   ],
   "metadata": {
    "collapsed": false,
    "ExecuteTime": {
     "end_time": "2023-10-30T15:44:07.943677200Z",
     "start_time": "2023-10-30T15:44:07.890168100Z"
    }
   },
   "id": "a0813e0e2ffbd741"
  },
  {
   "cell_type": "code",
   "execution_count": 4,
   "outputs": [
    {
     "data": {
      "text/plain": "  Column2 Column4\nA      A2      A4\nD      D2      D4\nF      F2      F4",
      "text/html": "<div>\n<style scoped>\n    .dataframe tbody tr th:only-of-type {\n        vertical-align: middle;\n    }\n\n    .dataframe tbody tr th {\n        vertical-align: top;\n    }\n\n    .dataframe thead th {\n        text-align: right;\n    }\n</style>\n<table border=\"1\" class=\"dataframe\">\n  <thead>\n    <tr style=\"text-align: right;\">\n      <th></th>\n      <th>Column2</th>\n      <th>Column4</th>\n    </tr>\n  </thead>\n  <tbody>\n    <tr>\n      <th>A</th>\n      <td>A2</td>\n      <td>A4</td>\n    </tr>\n    <tr>\n      <th>D</th>\n      <td>D2</td>\n      <td>D4</td>\n    </tr>\n    <tr>\n      <th>F</th>\n      <td>F2</td>\n      <td>F4</td>\n    </tr>\n  </tbody>\n</table>\n</div>"
     },
     "execution_count": 4,
     "metadata": {},
     "output_type": "execute_result"
    }
   ],
   "source": [
    "# Using no slices, returns the value of a single cell\n",
    "df.loc[\"B\", \"Column1\"]\n",
    "\n",
    "# Using slice on one axis return a pandas Series object\n",
    "df.loc[\"B\", :] # Full row 1 (\"B\")\n",
    "df.loc[:, \"Column1\"] # Full column 0 (\"Column 1\")\n",
    "df.loc[:\"C\", \"Column2\"] # First 3 cells of column 1 (\"Column2\")\n",
    "\n",
    "# Using slice on both axis returns a pandas DataFrame object\n",
    "df.loc[:\"B\", :\"Column2\"] # returns the four cells in the upper left corner\n",
    "df.loc[\"C\":\"F\", \"Column2\":\"Column3\"] # return col 2 & 3, and rows C-F\n",
    "df.loc[:, :] # returns a copy of dataframe\n",
    "\n",
    "# Lists can be used instead of slices for either axis\n",
    "df.loc[[\"A\", \"D\", \"F\"], [\"Column2\", \"Column4\"]]"
   ],
   "metadata": {
    "collapsed": false,
    "ExecuteTime": {
     "end_time": "2023-10-30T15:44:14.795874300Z",
     "start_time": "2023-10-30T15:44:14.728863Z"
    }
   },
   "id": "76e11c4cf0ea2cd"
  },
  {
   "cell_type": "code",
   "execution_count": 5,
   "outputs": [
    {
     "data": {
      "text/plain": "A    A3\nB    B3\nC    C3\nD    D3\nE    E3\nF    F3\nG    G3\nName: Column3, dtype: object"
     },
     "execution_count": 5,
     "metadata": {},
     "output_type": "execute_result"
    }
   ],
   "source": [
    "# df[colname] returns a column as a pandas Series object\n",
    "df[\"Column2\"]\n",
    "\n",
    "# df[[list of colnames]] returns a new dataframe withe the given columns\n",
    "df[[\"Column1\", \"Column4\", \"Column3\", \"Column1\"]]\n",
    "\n",
    "# series[index] returns a scalar value\n",
    "df[\"Column2\"][\"D\"]\n",
    "\n",
    "# Indexing a dataframe with a list (of columns) returns a dataframe,\n",
    "# so indexingagain would be on the new dataframe (but don't do this).\n",
    "df[[\"Column1\", \"Column4\", \"Column3\", \"Column1\"]][\"Column3\"]"
   ],
   "metadata": {
    "collapsed": false,
    "ExecuteTime": {
     "end_time": "2023-10-30T15:44:18.555530600Z",
     "start_time": "2023-10-30T15:44:18.519524600Z"
    }
   },
   "id": "c21e299a7da9758a"
  },
  {
   "cell_type": "code",
   "execution_count": null,
   "outputs": [],
   "source": [],
   "metadata": {
    "collapsed": false
   },
   "id": "76d7d254422c8b95"
  }
 ],
 "metadata": {
  "kernelspec": {
   "display_name": "Python 3",
   "language": "python",
   "name": "python3"
  },
  "language_info": {
   "codemirror_mode": {
    "name": "ipython",
    "version": 2
   },
   "file_extension": ".py",
   "mimetype": "text/x-python",
   "name": "python",
   "nbconvert_exporter": "python",
   "pygments_lexer": "ipython2",
   "version": "2.7.6"
  }
 },
 "nbformat": 4,
 "nbformat_minor": 5
}

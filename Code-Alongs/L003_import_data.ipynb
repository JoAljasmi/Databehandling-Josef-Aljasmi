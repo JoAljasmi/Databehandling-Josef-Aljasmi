{
 "cells": [
  {
   "cell_type": "code",
   "execution_count": 3,
   "id": "initial_id",
   "metadata": {
    "collapsed": true,
    "ExecuteTime": {
     "end_time": "2023-10-27T07:53:50.268755800Z",
     "start_time": "2023-10-27T07:53:50.252127100Z"
    }
   },
   "outputs": [],
   "source": [
    "import pandas as pd"
   ]
  },
  {
   "cell_type": "code",
   "execution_count": 4,
   "outputs": [
    {
     "data": {
      "text/plain": "   name  class            email\n0  adam   AI23   adam@gmail.com",
      "text/html": "<div>\n<style scoped>\n    .dataframe tbody tr th:only-of-type {\n        vertical-align: middle;\n    }\n\n    .dataframe tbody tr th {\n        vertical-align: top;\n    }\n\n    .dataframe thead th {\n        text-align: right;\n    }\n</style>\n<table border=\"1\" class=\"dataframe\">\n  <thead>\n    <tr style=\"text-align: right;\">\n      <th></th>\n      <th>name</th>\n      <th>class</th>\n      <th>email</th>\n    </tr>\n  </thead>\n  <tbody>\n    <tr>\n      <th>0</th>\n      <td>adam</td>\n      <td>AI23</td>\n      <td>adam@gmail.com</td>\n    </tr>\n  </tbody>\n</table>\n</div>"
     },
     "execution_count": 4,
     "metadata": {},
     "output_type": "execute_result"
    }
   ],
   "source": [
    "students = pd.read_csv(\"..\\\\data\\\\students.csv\", header= 0)\n",
    "students.head(1)"
   ],
   "metadata": {
    "collapsed": false,
    "ExecuteTime": {
     "end_time": "2023-10-27T07:53:51.877965Z",
     "start_time": "2023-10-27T07:53:51.843957200Z"
    }
   },
   "id": "324fa0bc7a7be01a"
  },
  {
   "cell_type": "code",
   "execution_count": 5,
   "outputs": [
    {
     "data": {
      "text/plain": "  aspiration   body-style  bore  city-mpg  compression-ratio  curb-weight  \\\n0        std  convertible  3.47        21                9.0         2548   \n1        std  convertible  3.47        21                9.0         2548   \n2        std    hatchback  2.68        19                9.0         2823   \n3        std        sedan  3.19        24               10.0         2337   \n4        std        sedan  3.19        18                8.0         2824   \n\n  drive-wheels engine-location  engine-size engine-type  ...         make  \\\n0          rwd           front          130        dohc  ...  alfa-romero   \n1          rwd           front          130        dohc  ...  alfa-romero   \n2          rwd           front          152        ohcv  ...  alfa-romero   \n3          fwd           front          109         ohc  ...         audi   \n4          4wd           front          136         ohc  ...         audi   \n\n  normalized-losses  num-of-cylinders  num-of-doors  peak-rpm    price stroke  \\\n0               NaN              four           two    5000.0  13495.0   2.68   \n1               NaN              four           two    5000.0  16500.0   2.68   \n2               NaN               six           two    5000.0  16500.0   3.47   \n3             164.0              four          four    5500.0  13950.0   3.40   \n4             164.0              five          four    5500.0  17450.0   3.40   \n\n   symboling wheel-base width  \n0          3       88.6  64.1  \n1          3       88.6  64.1  \n2          1       94.5  65.5  \n3          2       99.8  66.2  \n4          2       99.4  66.4  \n\n[5 rows x 26 columns]",
      "text/html": "<div>\n<style scoped>\n    .dataframe tbody tr th:only-of-type {\n        vertical-align: middle;\n    }\n\n    .dataframe tbody tr th {\n        vertical-align: top;\n    }\n\n    .dataframe thead th {\n        text-align: right;\n    }\n</style>\n<table border=\"1\" class=\"dataframe\">\n  <thead>\n    <tr style=\"text-align: right;\">\n      <th></th>\n      <th>aspiration</th>\n      <th>body-style</th>\n      <th>bore</th>\n      <th>city-mpg</th>\n      <th>compression-ratio</th>\n      <th>curb-weight</th>\n      <th>drive-wheels</th>\n      <th>engine-location</th>\n      <th>engine-size</th>\n      <th>engine-type</th>\n      <th>...</th>\n      <th>make</th>\n      <th>normalized-losses</th>\n      <th>num-of-cylinders</th>\n      <th>num-of-doors</th>\n      <th>peak-rpm</th>\n      <th>price</th>\n      <th>stroke</th>\n      <th>symboling</th>\n      <th>wheel-base</th>\n      <th>width</th>\n    </tr>\n  </thead>\n  <tbody>\n    <tr>\n      <th>0</th>\n      <td>std</td>\n      <td>convertible</td>\n      <td>3.47</td>\n      <td>21</td>\n      <td>9.0</td>\n      <td>2548</td>\n      <td>rwd</td>\n      <td>front</td>\n      <td>130</td>\n      <td>dohc</td>\n      <td>...</td>\n      <td>alfa-romero</td>\n      <td>NaN</td>\n      <td>four</td>\n      <td>two</td>\n      <td>5000.0</td>\n      <td>13495.0</td>\n      <td>2.68</td>\n      <td>3</td>\n      <td>88.6</td>\n      <td>64.1</td>\n    </tr>\n    <tr>\n      <th>1</th>\n      <td>std</td>\n      <td>convertible</td>\n      <td>3.47</td>\n      <td>21</td>\n      <td>9.0</td>\n      <td>2548</td>\n      <td>rwd</td>\n      <td>front</td>\n      <td>130</td>\n      <td>dohc</td>\n      <td>...</td>\n      <td>alfa-romero</td>\n      <td>NaN</td>\n      <td>four</td>\n      <td>two</td>\n      <td>5000.0</td>\n      <td>16500.0</td>\n      <td>2.68</td>\n      <td>3</td>\n      <td>88.6</td>\n      <td>64.1</td>\n    </tr>\n    <tr>\n      <th>2</th>\n      <td>std</td>\n      <td>hatchback</td>\n      <td>2.68</td>\n      <td>19</td>\n      <td>9.0</td>\n      <td>2823</td>\n      <td>rwd</td>\n      <td>front</td>\n      <td>152</td>\n      <td>ohcv</td>\n      <td>...</td>\n      <td>alfa-romero</td>\n      <td>NaN</td>\n      <td>six</td>\n      <td>two</td>\n      <td>5000.0</td>\n      <td>16500.0</td>\n      <td>3.47</td>\n      <td>1</td>\n      <td>94.5</td>\n      <td>65.5</td>\n    </tr>\n    <tr>\n      <th>3</th>\n      <td>std</td>\n      <td>sedan</td>\n      <td>3.19</td>\n      <td>24</td>\n      <td>10.0</td>\n      <td>2337</td>\n      <td>fwd</td>\n      <td>front</td>\n      <td>109</td>\n      <td>ohc</td>\n      <td>...</td>\n      <td>audi</td>\n      <td>164.0</td>\n      <td>four</td>\n      <td>four</td>\n      <td>5500.0</td>\n      <td>13950.0</td>\n      <td>3.40</td>\n      <td>2</td>\n      <td>99.8</td>\n      <td>66.2</td>\n    </tr>\n    <tr>\n      <th>4</th>\n      <td>std</td>\n      <td>sedan</td>\n      <td>3.19</td>\n      <td>18</td>\n      <td>8.0</td>\n      <td>2824</td>\n      <td>4wd</td>\n      <td>front</td>\n      <td>136</td>\n      <td>ohc</td>\n      <td>...</td>\n      <td>audi</td>\n      <td>164.0</td>\n      <td>five</td>\n      <td>four</td>\n      <td>5500.0</td>\n      <td>17450.0</td>\n      <td>3.40</td>\n      <td>2</td>\n      <td>99.4</td>\n      <td>66.4</td>\n    </tr>\n  </tbody>\n</table>\n<p>5 rows × 26 columns</p>\n</div>"
     },
     "execution_count": 5,
     "metadata": {},
     "output_type": "execute_result"
    }
   ],
   "source": [
    "autos = pd.read_json(\"../data/autos_json.json\")\n",
    "autos.head()"
   ],
   "metadata": {
    "collapsed": false,
    "ExecuteTime": {
     "end_time": "2023-10-27T07:53:53.843738900Z",
     "start_time": "2023-10-27T07:53:53.798728900Z"
    }
   },
   "id": "d0eb0db3de4aab96"
  },
  {
   "cell_type": "markdown",
   "source": [
    "## Convert to common formats "
   ],
   "metadata": {
    "collapsed": false
   },
   "id": "337a092c4df53e92"
  },
  {
   "cell_type": "code",
   "execution_count": 6,
   "outputs": [],
   "source": [
    "# Copy dataframe to clipoard (then use Ctrl+V)\n",
    "autos.to_clipboard()"
   ],
   "metadata": {
    "collapsed": false,
    "ExecuteTime": {
     "end_time": "2023-10-27T07:53:55.950588300Z",
     "start_time": "2023-10-27T07:53:55.918078800Z"
    }
   },
   "id": "4966239fc8adc1a7"
  },
  {
   "cell_type": "code",
   "execution_count": 11,
   "outputs": [
    {
     "name": "stdout",
     "output_type": "stream",
     "text": [
      ",aspiration,body-style,bore,city-mpg,compression-ratio,curb-weight,drive-wheels,engine-location,engine-size,engine-type,fuel-system,fuel-type,height,highway-mpg,horsepower,length,make,normalized-losses,num-of-cylinders,num-of-doors,peak-rpm,price,stroke,symboling,wheel-base,width\r\n",
      "0,std,convertible,3.47,21,9.0,2548,rwd,front,130,dohc,mpfi,gas,48.8,27,111.0,168.8,alfa-romero,,four,two,5000.0,13495.0,2.68,3,88.6,64.1\r\n",
      "1,std,convertible,3.47,21,9.0,2548,rwd,front,130,dohc,mpfi,gas,48.8,27,111.0,168.8,alfa-romero,,four,two,5000.0,16500.0,2.68,3,88.6,64.1\r\n",
      "2,std,hatchback,2.68,19,9.0,2823,rwd,front,152,ohcv,mpfi,gas,52.4,26,154.0,171.2,alfa-romero,,six,two,5000.0,16500.0,3.47,1,94.5,65.5\r\n",
      "3,std,sedan,3.19,24,10.0,2337,fwd,front,109,ohc,mpfi,gas,54.3,30,102.0,176.6,audi,164.0,four,four,5500.0,13950.0,3.4,2,99.8,66.2\r\n",
      "4,std,sedan,3.19,18,8.0,2824,4wd,front,136,ohc,mpfi,gas,54.3,22,115.0,176.6,audi,164.0,five,four,5500.0,17450.0,3.4,2,99.4,66.4\r\n",
      "5,std,sedan,3.19,19,8.5,2507,fwd,front,136,ohc,m\n"
     ]
    }
   ],
   "source": [
    "autos.to_csv(\"../Data/autos.csv\", index = None)\n",
    "csv_string = autos.to_csv()\n",
    "print(csv_string[:1000])"
   ],
   "metadata": {
    "collapsed": false,
    "ExecuteTime": {
     "end_time": "2023-10-27T07:58:01.604213600Z",
     "start_time": "2023-10-27T07:58:01.566612200Z"
    }
   },
   "id": "1dcb14ff86b8df4b"
  },
  {
   "cell_type": "code",
   "execution_count": 16,
   "outputs": [
    {
     "name": "stdout",
     "output_type": "stream",
     "text": [
      "[\n",
      "    {\n",
      "        \"aspiration\":\"std\",\n",
      "        \"body-style\":\"convertible\",\n",
      "        \"bore\":3.47,\n",
      "        \"city-mpg\":21,\n",
      "        \"compression-ratio\":9.0,\n",
      "        \"curb-weight\":2548,\n",
      "        \"drive-wheels\":\n"
     ]
    }
   ],
   "source": [
    "autos.to_json(\"../Data/new_autos.json\", orient=\"records\")\n",
    "json_string = autos.to_json(indent=4, orient=\"records\")\n",
    "print(json_string[:200])"
   ],
   "metadata": {
    "collapsed": false,
    "ExecuteTime": {
     "end_time": "2023-10-27T08:04:30.264151900Z",
     "start_time": "2023-10-27T08:04:30.202219600Z"
    }
   },
   "id": "491a3cd6e0d72733"
  },
  {
   "cell_type": "code",
   "execution_count": 1,
   "outputs": [
    {
     "ename": "NameError",
     "evalue": "name 'autos' is not defined",
     "output_type": "error",
     "traceback": [
      "\u001B[1;31m---------------------------------------------------------------------------\u001B[0m",
      "\u001B[1;31mNameError\u001B[0m                                 Traceback (most recent call last)",
      "Cell \u001B[1;32mIn[1], line 1\u001B[0m\n\u001B[1;32m----> 1\u001B[0m my_dict \u001B[38;5;241m=\u001B[39m \u001B[43mautos\u001B[49m\u001B[38;5;241m.\u001B[39mto_json(orient\u001B[38;5;241m=\u001B[39m\u001B[38;5;124m\"\u001B[39m\u001B[38;5;124mrecords\u001B[39m\u001B[38;5;124m\"\u001B[39m)\n\u001B[0;32m      2\u001B[0m my_dict[\u001B[38;5;241m0\u001B[39m]\n",
      "\u001B[1;31mNameError\u001B[0m: name 'autos' is not defined"
     ]
    }
   ],
   "source": [
    "my_dict = autos.to_json(orient=\"records\")\n",
    "my_dict[0]"
   ],
   "metadata": {
    "collapsed": false,
    "ExecuteTime": {
     "end_time": "2023-10-30T15:42:53.641697600Z",
     "start_time": "2023-10-30T15:42:52.993085600Z"
    }
   },
   "id": "5cb1086407bc92d0"
  },
  {
   "cell_type": "code",
   "execution_count": null,
   "outputs": [],
   "source": [],
   "metadata": {
    "collapsed": false
   },
   "id": "3f806a5597b38c39"
  }
 ],
 "metadata": {
  "kernelspec": {
   "display_name": "Python 3",
   "language": "python",
   "name": "python3"
  },
  "language_info": {
   "codemirror_mode": {
    "name": "ipython",
    "version": 2
   },
   "file_extension": ".py",
   "mimetype": "text/x-python",
   "name": "python",
   "nbconvert_exporter": "python",
   "pygments_lexer": "ipython2",
   "version": "2.7.6"
  }
 },
 "nbformat": 4,
 "nbformat_minor": 5
}

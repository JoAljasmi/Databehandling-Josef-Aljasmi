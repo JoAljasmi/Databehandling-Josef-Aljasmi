{
 "cells": [
  {
   "cell_type": "markdown",
   "source": [
    "# Working with datetime"
   ],
   "metadata": {
    "collapsed": false
   },
   "id": "40864fd168ac711"
  },
  {
   "cell_type": "code",
   "execution_count": 1,
   "id": "initial_id",
   "metadata": {
    "collapsed": true,
    "ExecuteTime": {
     "end_time": "2023-11-10T08:09:26.320656600Z",
     "start_time": "2023-11-10T08:09:26.300653500Z"
    }
   },
   "outputs": [],
   "source": [
    "from datetime import datetime, timedelta, date, time "
   ]
  },
  {
   "cell_type": "code",
   "execution_count": 2,
   "outputs": [
    {
     "data": {
      "text/plain": "datetime.datetime"
     },
     "execution_count": 2,
     "metadata": {},
     "output_type": "execute_result"
    }
   ],
   "source": [
    "now = datetime.now()\n",
    "type(now)"
   ],
   "metadata": {
    "collapsed": false,
    "ExecuteTime": {
     "end_time": "2023-11-10T08:09:40.407842700Z",
     "start_time": "2023-11-10T08:09:40.391339700Z"
    }
   },
   "id": "a1bb509ca26a79fb"
  },
  {
   "cell_type": "code",
   "execution_count": 3,
   "outputs": [
    {
     "name": "stdout",
     "output_type": "stream",
     "text": [
      "Now is 2023-11-10 09:09:40.390338\n",
      "now = datetime.datetime(2023, 11, 10, 9, 9, 40, 390338)\n"
     ]
    }
   ],
   "source": [
    "print(f\"Now is {now}\")\n",
    "print(f\"{now = }\")"
   ],
   "metadata": {
    "collapsed": false,
    "ExecuteTime": {
     "end_time": "2023-11-10T08:10:15.969725100Z",
     "start_time": "2023-11-10T08:10:15.951222100Z"
    }
   },
   "id": "232d4428c7e337ec"
  },
  {
   "cell_type": "code",
   "execution_count": 4,
   "outputs": [
    {
     "name": "stdout",
     "output_type": "stream",
     "text": [
      "now.year = 2023\n",
      "now.month = 11\n",
      "now.day = 10\n",
      "now.hour = 9\n",
      "now.minute = 9\n",
      "now.second = 40\n",
      "now.microsecond = 390338\n"
     ]
    }
   ],
   "source": [
    "print(f\"{now.year = }\")\n",
    "print(f\"{now.month = }\")\n",
    "print(f\"{now.day = }\")\n",
    "print(f\"{now.hour = }\")\n",
    "print(f\"{now.minute = }\")\n",
    "print(f\"{now.second = }\")\n",
    "print(f\"{now.microsecond = }\")\n"
   ],
   "metadata": {
    "collapsed": false,
    "ExecuteTime": {
     "end_time": "2023-11-10T08:11:24.692304800Z",
     "start_time": "2023-11-10T08:11:24.670801Z"
    }
   },
   "id": "7d11a8609d11edf8"
  },
  {
   "cell_type": "code",
   "execution_count": 6,
   "outputs": [
    {
     "name": "stdout",
     "output_type": "stream",
     "text": [
      "now.strftime('%Y-%m-%d') = '2023-11-10'\n",
      "now.strftime('Today is a %A in %B') = 'Today is a Friday in November'\n"
     ]
    }
   ],
   "source": [
    "print(f\"{now.strftime('%Y-%m-%d') = }\")\n",
    "print(f\"{now.strftime('Today is a %A in %B') = }\")"
   ],
   "metadata": {
    "collapsed": false,
    "ExecuteTime": {
     "end_time": "2023-11-10T08:15:32.734579600Z",
     "start_time": "2023-11-10T08:15:32.721578200Z"
    }
   },
   "id": "695b5e215614350"
  },
  {
   "cell_type": "code",
   "execution_count": 7,
   "outputs": [
    {
     "data": {
      "text/plain": "'2023-12-24 00:00:00'"
     },
     "execution_count": 7,
     "metadata": {},
     "output_type": "execute_result"
    }
   ],
   "source": [
    "christmas = datetime(2023, 12, 24)\n",
    "str(christmas)"
   ],
   "metadata": {
    "collapsed": false,
    "ExecuteTime": {
     "end_time": "2023-11-10T08:21:03.835977Z",
     "start_time": "2023-11-10T08:21:03.805472200Z"
    }
   },
   "id": "63cdef7ed488a194"
  },
  {
   "cell_type": "code",
   "execution_count": 10,
   "outputs": [
    {
     "name": "stdout",
     "output_type": "stream",
     "text": [
      "2024-01-01 00:00:00\n"
     ]
    }
   ],
   "source": [
    "new_year = \"2024-01-01\"\n",
    "next_year = datetime.strptime(new_year, \"%Y-%d-%m\")\n",
    "print(next_year)"
   ],
   "metadata": {
    "collapsed": false,
    "ExecuteTime": {
     "end_time": "2023-11-10T08:27:59.638090800Z",
     "start_time": "2023-11-10T08:27:59.614585600Z"
    }
   },
   "id": "c8e2e60f5ecf2cbd"
  },
  {
   "cell_type": "code",
   "execution_count": 13,
   "outputs": [
    {
     "name": "stdout",
     "output_type": "stream",
     "text": [
      "2023-11-10\n",
      "09:09:40.390338\n"
     ]
    }
   ],
   "source": [
    "print(now.date())\n",
    "print(now.time())\n"
   ],
   "metadata": {
    "collapsed": false,
    "ExecuteTime": {
     "end_time": "2023-11-10T08:28:57.578834900Z",
     "start_time": "2023-11-10T08:28:57.546829900Z"
    }
   },
   "id": "4ab536e9846b0136"
  },
  {
   "cell_type": "markdown",
   "source": [
    "### Timedelta"
   ],
   "metadata": {
    "collapsed": false
   },
   "id": "c51a29091346f8d7"
  },
  {
   "cell_type": "code",
   "execution_count": 14,
   "outputs": [
    {
     "data": {
      "text/plain": "datetime.timedelta"
     },
     "execution_count": 14,
     "metadata": {},
     "output_type": "execute_result"
    }
   ],
   "source": [
    "# Calculating the diff between two datetimes gives us a timedelta object\n",
    "time_until_next_year = next_year - now\n",
    "type(time_until_next_year)"
   ],
   "metadata": {
    "collapsed": false,
    "ExecuteTime": {
     "end_time": "2023-11-10T08:31:54.901856700Z",
     "start_time": "2023-11-10T08:31:54.881853300Z"
    }
   },
   "id": "6fc67a56707d5160"
  },
  {
   "cell_type": "code",
   "execution_count": 16,
   "outputs": [
    {
     "name": "stdout",
     "output_type": "stream",
     "text": [
      "str(time_until_next_year) = '51 days, 14:50:19.609662'\n",
      "repr(time_until_next_year) = 'datetime.timedelta(days=51, seconds=53419, microseconds=609662)'\n"
     ]
    }
   ],
   "source": [
    "print(f\"{str(time_until_next_year) = }\")\n",
    "print(f\"{repr(time_until_next_year) = }\")"
   ],
   "metadata": {
    "collapsed": false,
    "ExecuteTime": {
     "end_time": "2023-11-10T08:33:00.204970900Z",
     "start_time": "2023-11-10T08:33:00.171461700Z"
    }
   },
   "id": "238d25967790f2cf"
  },
  {
   "cell_type": "code",
   "execution_count": 17,
   "outputs": [
    {
     "name": "stdout",
     "output_type": "stream",
     "text": [
      "51 days, 14:25:24.579950\n"
     ]
    }
   ],
   "source": [
    "print(next_year - datetime.now())"
   ],
   "metadata": {
    "collapsed": false,
    "ExecuteTime": {
     "end_time": "2023-11-10T08:34:35.443054700Z",
     "start_time": "2023-11-10T08:34:35.422050600Z"
    }
   },
   "id": "5dacfc447d540206"
  },
  {
   "cell_type": "code",
   "execution_count": 19,
   "outputs": [
    {
     "name": "stdout",
     "output_type": "stream",
     "text": [
      "time_until_next_year.days = 51\n",
      "time_until_next_year.seconds = 53419\n",
      "time_until_next_year.microseconds = 609662\n",
      "time_until_next_year.total_seconds() = 4459819.609662\n"
     ]
    }
   ],
   "source": [
    "print(f\"{time_until_next_year.days = }\")\n",
    "print(f\"{time_until_next_year.seconds = }\")\n",
    "print(f\"{time_until_next_year.microseconds = }\")\n",
    "print(f\"{time_until_next_year.total_seconds() = }\")"
   ],
   "metadata": {
    "collapsed": false,
    "ExecuteTime": {
     "end_time": "2023-11-10T08:36:30.495850600Z",
     "start_time": "2023-11-10T08:36:30.482348100Z"
    }
   },
   "id": "1676348dd3c01958"
  },
  {
   "cell_type": "code",
   "execution_count": 24,
   "outputs": [
    {
     "data": {
      "text/plain": "datetime.timedelta(days=25, seconds=69909, microseconds=804831)"
     },
     "execution_count": 24,
     "metadata": {},
     "output_type": "execute_result"
    }
   ],
   "source": [
    "# Arithmetics can be applied on timedelta \n",
    "time_until_next_year * 2"
   ],
   "metadata": {
    "collapsed": false,
    "ExecuteTime": {
     "end_time": "2023-11-10T08:37:49.598836300Z",
     "start_time": "2023-11-10T08:37:49.585333900Z"
    }
   },
   "id": "714036b09a9dd665"
  },
  {
   "cell_type": "code",
   "execution_count": 25,
   "outputs": [
    {
     "name": "stdout",
     "output_type": "stream",
     "text": [
      "2024-04-13 05:40:39.219324\n"
     ]
    }
   ],
   "source": [
    "# Adding (or subtracting) a timedelta to a datetime gives us a new datetime\n",
    "print(next_year + time_until_next_year * 2 )"
   ],
   "metadata": {
    "collapsed": false,
    "ExecuteTime": {
     "end_time": "2023-11-10T08:42:07.205548300Z",
     "start_time": "2023-11-10T08:42:07.144037Z"
    }
   },
   "id": "ddf1e0fb4e9a5d5e"
  },
  {
   "cell_type": "code",
   "execution_count": 26,
   "outputs": [
    {
     "name": "stdout",
     "output_type": "stream",
     "text": [
      "2023-11-15 09:43:08.342829\n"
     ]
    }
   ],
   "source": [
    "print(datetime.now() + timedelta(5))"
   ],
   "metadata": {
    "collapsed": false,
    "ExecuteTime": {
     "end_time": "2023-11-10T08:43:08.383837300Z",
     "start_time": "2023-11-10T08:43:08.344831200Z"
    }
   },
   "id": "1c95681a263438a3"
  },
  {
   "cell_type": "code",
   "execution_count": 27,
   "outputs": [],
   "source": [
    "from dateutil.relativedelta import relativedelta"
   ],
   "metadata": {
    "collapsed": false,
    "ExecuteTime": {
     "end_time": "2023-11-10T08:46:27.330801600Z",
     "start_time": "2023-11-10T08:46:27.302296300Z"
    }
   },
   "id": "5f444d33960613b1"
  },
  {
   "cell_type": "code",
   "execution_count": 29,
   "outputs": [
    {
     "name": "stdout",
     "output_type": "stream",
     "text": [
      "2023-11-24 09:46:55.401244\n"
     ]
    }
   ],
   "source": [
    "print(datetime.now() + relativedelta(weeks=2))"
   ],
   "metadata": {
    "collapsed": false,
    "ExecuteTime": {
     "end_time": "2023-11-10T08:46:55.422085100Z",
     "start_time": "2023-11-10T08:46:55.402243800Z"
    }
   },
   "id": "a3571ff1ae637900"
  },
  {
   "cell_type": "code",
   "execution_count": null,
   "outputs": [],
   "source": [],
   "metadata": {
    "collapsed": false
   },
   "id": "696df9ce3927ad5c"
  }
 ],
 "metadata": {
  "kernelspec": {
   "display_name": "Python 3",
   "language": "python",
   "name": "python3"
  },
  "language_info": {
   "codemirror_mode": {
    "name": "ipython",
    "version": 2
   },
   "file_extension": ".py",
   "mimetype": "text/x-python",
   "name": "python",
   "nbconvert_exporter": "python",
   "pygments_lexer": "ipython2",
   "version": "2.7.6"
  }
 },
 "nbformat": 4,
 "nbformat_minor": 5
}

{
 "cells": [
  {
   "cell_type": "code",
   "execution_count": 1,
   "id": "initial_id",
   "metadata": {
    "collapsed": true,
    "ExecuteTime": {
     "end_time": "2023-10-27T07:15:35.573906600Z",
     "start_time": "2023-10-27T07:15:35.559909Z"
    }
   },
   "outputs": [],
   "source": [
    "import pandas as pd\n",
    "import numpy as np\n",
    "import seaborn as sns"
   ]
  },
  {
   "cell_type": "markdown",
   "source": [
    "## Missing data\n",
    "Missing data occurs when values are simply absent or contain NaN (not a number) for any feature (column) in a given dataset. This will cause issues with many machine learning algorithms.\n",
    "    \n",
    "**Missing data can negatively impact:**\n",
    "- Data visualization\n",
    "- Arithemetic computations\n",
    "- Machine learning algorithms \n",
    "\n",
    "**Common methods to deal with missing data:**\n",
    "- Remove rows or columns containing missing data\n",
    "- Impute with mean or median\n",
    "- Impute with mide (most frequently occuring feature)\n",
    "- Impute with forward or backward fill\n",
    "- Interpolate data between two points\n",
    "\n",
    "*Note: Domain knowledge is often needed to deide how to fill nulls*"
   ],
   "metadata": {
    "collapsed": false
   },
   "id": "90ea74701ff36bc5"
  },
  {
   "cell_type": "code",
   "execution_count": 2,
   "outputs": [
    {
     "data": {
      "text/plain": "          A         B         C         D\n0       NaN  1.148903       NaN       NaN\n1  0.656314  0.361729  0.550628       NaN\n2  0.583379  0.278862       NaN  0.188553\n3       NaN  0.511401  0.665607  1.345865\n4       NaN       NaN  2.265588  0.214301\n5  1.059949       NaN  1.792069       NaN\n6  0.490142       NaN  0.165171       NaN\n7       NaN       NaN  0.571278  0.249931\n8  0.177948       NaN  1.216372  0.920182\n9  1.009402  0.491551       NaN  0.023520",
      "text/html": "<div>\n<style scoped>\n    .dataframe tbody tr th:only-of-type {\n        vertical-align: middle;\n    }\n\n    .dataframe tbody tr th {\n        vertical-align: top;\n    }\n\n    .dataframe thead th {\n        text-align: right;\n    }\n</style>\n<table border=\"1\" class=\"dataframe\">\n  <thead>\n    <tr style=\"text-align: right;\">\n      <th></th>\n      <th>A</th>\n      <th>B</th>\n      <th>C</th>\n      <th>D</th>\n    </tr>\n  </thead>\n  <tbody>\n    <tr>\n      <th>0</th>\n      <td>NaN</td>\n      <td>1.148903</td>\n      <td>NaN</td>\n      <td>NaN</td>\n    </tr>\n    <tr>\n      <th>1</th>\n      <td>0.656314</td>\n      <td>0.361729</td>\n      <td>0.550628</td>\n      <td>NaN</td>\n    </tr>\n    <tr>\n      <th>2</th>\n      <td>0.583379</td>\n      <td>0.278862</td>\n      <td>NaN</td>\n      <td>0.188553</td>\n    </tr>\n    <tr>\n      <th>3</th>\n      <td>NaN</td>\n      <td>0.511401</td>\n      <td>0.665607</td>\n      <td>1.345865</td>\n    </tr>\n    <tr>\n      <th>4</th>\n      <td>NaN</td>\n      <td>NaN</td>\n      <td>2.265588</td>\n      <td>0.214301</td>\n    </tr>\n    <tr>\n      <th>5</th>\n      <td>1.059949</td>\n      <td>NaN</td>\n      <td>1.792069</td>\n      <td>NaN</td>\n    </tr>\n    <tr>\n      <th>6</th>\n      <td>0.490142</td>\n      <td>NaN</td>\n      <td>0.165171</td>\n      <td>NaN</td>\n    </tr>\n    <tr>\n      <th>7</th>\n      <td>NaN</td>\n      <td>NaN</td>\n      <td>0.571278</td>\n      <td>0.249931</td>\n    </tr>\n    <tr>\n      <th>8</th>\n      <td>0.177948</td>\n      <td>NaN</td>\n      <td>1.216372</td>\n      <td>0.920182</td>\n    </tr>\n    <tr>\n      <th>9</th>\n      <td>1.009402</td>\n      <td>0.491551</td>\n      <td>NaN</td>\n      <td>0.023520</td>\n    </tr>\n  </tbody>\n</table>\n</div>"
     },
     "execution_count": 2,
     "metadata": {},
     "output_type": "execute_result"
    }
   ],
   "source": [
    "df = pd.DataFrame(np.random.randn(10, 4), columns=[\"A\", \"B\", \"C\", \"D\"])\n",
    "df = df[df > 0]\n",
    "df"
   ],
   "metadata": {
    "collapsed": false,
    "ExecuteTime": {
     "end_time": "2023-10-27T07:32:51.674223100Z",
     "start_time": "2023-10-27T07:32:51.635216200Z"
    }
   },
   "id": "166bdd2978478f7b"
  },
  {
   "cell_type": "markdown",
   "source": [
    "## dropna\n",
    "remove rows (default), or columns, containing null.\n",
    "\n",
    "**Parameters**\n",
    "- **how** = \"any\" (default), or \"all\"\n",
    "- **thresh** = set number of (non-missing) values a row must contain in order to *not* drop\n",
    "- **subset** only look for NaN in subset of columns (or rows)\n",
    "- **axis** = \"index\" (default), or \"columns\""
   ],
   "metadata": {
    "collapsed": false
   },
   "id": "2f808645f91dbf3e"
  },
  {
   "cell_type": "code",
   "execution_count": 17,
   "outputs": [
    {
     "data": {
      "text/plain": "          B\n0  1.148903\n1  0.361729\n2  0.278862\n3  0.511401\n4       NaN\n5       NaN\n6       NaN\n7       NaN\n8       NaN\n9  0.491551",
      "text/html": "<div>\n<style scoped>\n    .dataframe tbody tr th:only-of-type {\n        vertical-align: middle;\n    }\n\n    .dataframe tbody tr th {\n        vertical-align: top;\n    }\n\n    .dataframe thead th {\n        text-align: right;\n    }\n</style>\n<table border=\"1\" class=\"dataframe\">\n  <thead>\n    <tr style=\"text-align: right;\">\n      <th></th>\n      <th>B</th>\n    </tr>\n  </thead>\n  <tbody>\n    <tr>\n      <th>0</th>\n      <td>1.148903</td>\n    </tr>\n    <tr>\n      <th>1</th>\n      <td>0.361729</td>\n    </tr>\n    <tr>\n      <th>2</th>\n      <td>0.278862</td>\n    </tr>\n    <tr>\n      <th>3</th>\n      <td>0.511401</td>\n    </tr>\n    <tr>\n      <th>4</th>\n      <td>NaN</td>\n    </tr>\n    <tr>\n      <th>5</th>\n      <td>NaN</td>\n    </tr>\n    <tr>\n      <th>6</th>\n      <td>NaN</td>\n    </tr>\n    <tr>\n      <th>7</th>\n      <td>NaN</td>\n    </tr>\n    <tr>\n      <th>8</th>\n      <td>NaN</td>\n    </tr>\n    <tr>\n      <th>9</th>\n      <td>0.491551</td>\n    </tr>\n  </tbody>\n</table>\n</div>"
     },
     "execution_count": 17,
     "metadata": {},
     "output_type": "execute_result"
    }
   ],
   "source": [
    "copy = df\n",
    "copy.dropna(axis=\"columns\", subset=0)"
   ],
   "metadata": {
    "collapsed": false,
    "ExecuteTime": {
     "end_time": "2023-10-27T07:52:15.911232900Z",
     "start_time": "2023-10-27T07:52:15.870726900Z"
    }
   },
   "id": "d3b9700d73af18c0"
  },
  {
   "cell_type": "markdown",
   "source": [
    "## Fillna\n",
    "- Fill missing values"
   ],
   "metadata": {
    "collapsed": false
   },
   "id": "80ccacb14942523e"
  },
  {
   "cell_type": "code",
   "execution_count": 24,
   "outputs": [
    {
     "data": {
      "text/plain": "          A         B         C         D\n0  0.619847  1.148903       NaN  0.188553\n1  0.656314  0.361729  0.550628  0.188553\n2  0.583379  0.278862       NaN  0.188553\n3  0.619847  0.511401  0.665607  1.345865\n4  0.619847  0.511401  2.265588  0.214301\n5  1.059949  0.511401  1.792069  0.249931\n6  0.490142  0.511401  0.165171  0.249931\n7  0.619847  0.511401  0.571278  0.249931\n8  0.177948  0.511401  1.216372  0.920182\n9  1.009402  0.491551       NaN  0.023520",
      "text/html": "<div>\n<style scoped>\n    .dataframe tbody tr th:only-of-type {\n        vertical-align: middle;\n    }\n\n    .dataframe tbody tr th {\n        vertical-align: top;\n    }\n\n    .dataframe thead th {\n        text-align: right;\n    }\n</style>\n<table border=\"1\" class=\"dataframe\">\n  <thead>\n    <tr style=\"text-align: right;\">\n      <th></th>\n      <th>A</th>\n      <th>B</th>\n      <th>C</th>\n      <th>D</th>\n    </tr>\n  </thead>\n  <tbody>\n    <tr>\n      <th>0</th>\n      <td>0.619847</td>\n      <td>1.148903</td>\n      <td>NaN</td>\n      <td>0.188553</td>\n    </tr>\n    <tr>\n      <th>1</th>\n      <td>0.656314</td>\n      <td>0.361729</td>\n      <td>0.550628</td>\n      <td>0.188553</td>\n    </tr>\n    <tr>\n      <th>2</th>\n      <td>0.583379</td>\n      <td>0.278862</td>\n      <td>NaN</td>\n      <td>0.188553</td>\n    </tr>\n    <tr>\n      <th>3</th>\n      <td>0.619847</td>\n      <td>0.511401</td>\n      <td>0.665607</td>\n      <td>1.345865</td>\n    </tr>\n    <tr>\n      <th>4</th>\n      <td>0.619847</td>\n      <td>0.511401</td>\n      <td>2.265588</td>\n      <td>0.214301</td>\n    </tr>\n    <tr>\n      <th>5</th>\n      <td>1.059949</td>\n      <td>0.511401</td>\n      <td>1.792069</td>\n      <td>0.249931</td>\n    </tr>\n    <tr>\n      <th>6</th>\n      <td>0.490142</td>\n      <td>0.511401</td>\n      <td>0.165171</td>\n      <td>0.249931</td>\n    </tr>\n    <tr>\n      <th>7</th>\n      <td>0.619847</td>\n      <td>0.511401</td>\n      <td>0.571278</td>\n      <td>0.249931</td>\n    </tr>\n    <tr>\n      <th>8</th>\n      <td>0.177948</td>\n      <td>0.511401</td>\n      <td>1.216372</td>\n      <td>0.920182</td>\n    </tr>\n    <tr>\n      <th>9</th>\n      <td>1.009402</td>\n      <td>0.491551</td>\n      <td>NaN</td>\n      <td>0.023520</td>\n    </tr>\n  </tbody>\n</table>\n</div>"
     },
     "execution_count": 24,
     "metadata": {},
     "output_type": "execute_result"
    }
   ],
   "source": [
    "copy = df.copy()\n",
    "copy[\"A\"].fillna(copy[\"A\"].median(), inplace=True)\n",
    "# copy[\"B].mode()[0] # Mainly for categorical data\n",
    "copy[\"B\"].ffill(inplace=True)\n",
    "copy[\"D\"].bfill(inplace=True)\n",
    "copy[\"C\"].interpolate()\n",
    "copy"
   ],
   "metadata": {
    "collapsed": false,
    "ExecuteTime": {
     "end_time": "2023-10-27T08:23:44.201221800Z",
     "start_time": "2023-10-27T08:23:44.190220300Z"
    }
   },
   "id": "b08b050fb22d4fc1"
  },
  {
   "cell_type": "code",
   "execution_count": 27,
   "outputs": [
    {
     "data": {
      "text/plain": "<seaborn.axisgrid.FacetGrid at 0x22c84116830>"
     },
     "execution_count": 27,
     "metadata": {},
     "output_type": "execute_result"
    },
    {
     "data": {
      "text/plain": "<Figure size 500x500 with 1 Axes>",
      "image/png": "[encoded data removed]"
     },
     "metadata": {},
     "output_type": "display_data"
    }
   ],
   "source": [
    "copy = df.copy()\n",
    "copy[\"Isnull\"] = copy[\"A\"].isna()\n",
    "copy[\"A\"].interpolate(inplace=True)\n",
    "sns.relplot(x=copy.index, y=\"A\", data=copy)"
   ],
   "metadata": {
    "collapsed": false,
    "ExecuteTime": {
     "end_time": "2023-10-27T08:34:38.622245Z",
     "start_time": "2023-10-27T08:34:38.314192100Z"
    }
   },
   "id": "b2f223812327317a"
  },
  {
   "cell_type": "code",
   "execution_count": null,
   "outputs": [],
   "source": [],
   "metadata": {
    "collapsed": false
   },
   "id": "8227b4574b64ed15"
  }
 ],
 "metadata": {
  "kernelspec": {
   "display_name": "Python 3",
   "language": "python",
   "name": "python3"
  },
  "language_info": {
   "codemirror_mode": {
    "name": "ipython",
    "version": 2
   },
   "file_extension": ".py",
   "mimetype": "text/x-python",
   "name": "python",
   "nbconvert_exporter": "python",
   "pygments_lexer": "ipython2",
   "version": "2.7.6"
  }
 },
 "nbformat": 4,
 "nbformat_minor": 5
}

{
 "cells": [
  {
   "cell_type": "markdown",
   "metadata": {},
   "source": [
    "# Data aggregation\n",
    "\n",
    "Data aggregation iis the process where raw data is gathered and expressed in a summary from for statistical analysis.\n",
    "\n",
    "For example. raw data can be aggregated over a given time period to provide statistics such as average, minimum, maximum, sum, and count. After the data is aggregated and written to a view or report you can analyze the aggregated data to gain insights about particular i resources or resource groups."
   ]
  },
  {
   "cell_type": "code",
   "execution_count": 12,
   "metadata": {},
   "outputs": [],
   "source": [
    "import pandas as pd\n",
    "import numpy as np"
   ]
  },
  {
   "cell_type": "code",
   "execution_count": 13,
   "metadata": {},
   "outputs": [],
   "source": [
    "numbers = pd.Series(np.random.randint(low=1, high=100, size=5))"
   ]
  },
  {
   "cell_type": "code",
   "execution_count": 19,
   "metadata": {},
   "outputs": [
    {
     "name": "stdout",
     "output_type": "stream",
     "text": [
      "numbers.min() = 10\n",
      "numbers.max() = 84\n",
      "numbers.median() = 65.0\n",
      "numbers.mean() = 52.2\n",
      "numbers.sum() = 261\n",
      "numbers.sum() / numbers.count() = 52.2\n",
      "numbers.mode() = 0    10\n",
      "1    28\n",
      "2    65\n",
      "3    74\n",
      "4    84\n",
      "dtype: int32\n",
      "numbers.count() = 5\n",
      "numbers.size = 5\n"
     ]
    }
   ],
   "source": [
    "# Some of Pandas aggregation methods are:\n",
    "print(f\"{numbers.min() = }\")\n",
    "print(f\"{numbers.max() = }\")\n",
    "print(f\"{numbers.median() = }\")\n",
    "print(f\"{numbers.mean() = }\")\n",
    "print(f\"{numbers.sum() = }\")\n",
    "print(f\"{numbers.sum() / numbers.count() = }\")\n",
    "print(f\"{numbers.mode() = }\")\n",
    "print(f\"{numbers.count() = }\")\n",
    "print(f\"{numbers.size = }\")\n"
   ]
  },
  {
   "cell_type": "markdown",
   "metadata": {},
   "source": [
    "### When run on a dataframe (multiple Series) they return a single value for each Series , forming a new Series"
   ]
  },
  {
   "cell_type": "code",
   "execution_count": 21,
   "metadata": {},
   "outputs": [
    {
     "data": {
      "text/html": [
       "<div>\n",
       "<style scoped>\n",
       "    .dataframe tbody tr th:only-of-type {\n",
       "        vertical-align: middle;\n",
       "    }\n",
       "\n",
       "    .dataframe tbody tr th {\n",
       "        vertical-align: top;\n",
       "    }\n",
       "\n",
       "    .dataframe thead th {\n",
       "        text-align: right;\n",
       "    }\n",
       "</style>\n",
       "<table border=\"1\" class=\"dataframe\">\n",
       "  <thead>\n",
       "    <tr style=\"text-align: right;\">\n",
       "      <th></th>\n",
       "      <th>0</th>\n",
       "      <th>1</th>\n",
       "      <th>2</th>\n",
       "      <th>3</th>\n",
       "      <th>4</th>\n",
       "    </tr>\n",
       "  </thead>\n",
       "  <tbody>\n",
       "    <tr>\n",
       "      <th>0</th>\n",
       "      <td>94</td>\n",
       "      <td>84</td>\n",
       "      <td>92</td>\n",
       "      <td>NaN</td>\n",
       "      <td>NaN</td>\n",
       "    </tr>\n",
       "    <tr>\n",
       "      <th>1</th>\n",
       "      <td>57</td>\n",
       "      <td>76</td>\n",
       "      <td>75</td>\n",
       "      <td>47.0</td>\n",
       "      <td>67.0</td>\n",
       "    </tr>\n",
       "    <tr>\n",
       "      <th>2</th>\n",
       "      <td>98</td>\n",
       "      <td>89</td>\n",
       "      <td>29</td>\n",
       "      <td>78.0</td>\n",
       "      <td>48.0</td>\n",
       "    </tr>\n",
       "    <tr>\n",
       "      <th>3</th>\n",
       "      <td>40</td>\n",
       "      <td>14</td>\n",
       "      <td>6</td>\n",
       "      <td>NaN</td>\n",
       "      <td>NaN</td>\n",
       "    </tr>\n",
       "    <tr>\n",
       "      <th>4</th>\n",
       "      <td>21</td>\n",
       "      <td>13</td>\n",
       "      <td>72</td>\n",
       "      <td>93.0</td>\n",
       "      <td>28.0</td>\n",
       "    </tr>\n",
       "  </tbody>\n",
       "</table>\n",
       "</div>"
      ],
      "text/plain": [
       "    0   1   2     3     4\n",
       "0  94  84  92   NaN   NaN\n",
       "1  57  76  75  47.0  67.0\n",
       "2  98  89  29  78.0  48.0\n",
       "3  40  14   6   NaN   NaN\n",
       "4  21  13  72  93.0  28.0"
      ]
     },
     "execution_count": 21,
     "metadata": {},
     "output_type": "execute_result"
    }
   ],
   "source": [
    "numbers_df = pd.DataFrame(np.random.randint(low=1, high=100, size=[5, 5], ))\n",
    "numbers_df.loc[[0, 3], [3, 4]] = np.nan\n",
    "numbers_df"
   ]
  },
  {
   "cell_type": "code",
   "execution_count": 17,
   "metadata": {},
   "outputs": [
    {
     "data": {
      "text/plain": [
       "20.0"
      ]
     },
     "execution_count": 17,
     "metadata": {},
     "output_type": "execute_result"
    }
   ],
   "source": [
    "numbers_df.min(axis=\"columns\")\n",
    "numbers_df.min(axis=\"columns\").min()\n",
    "numbers_df.min(axis=\"index\").median()\n",
    "numbers_df.min(axis=\"columns\").median()"
   ]
  },
  {
   "cell_type": "code",
   "execution_count": 23,
   "metadata": {},
   "outputs": [
    {
     "data": {
      "text/plain": [
       "0    0\n",
       "1    0\n",
       "2    0\n",
       "3    2\n",
       "4    2\n",
       "dtype: int64"
      ]
     },
     "execution_count": 23,
     "metadata": {},
     "output_type": "execute_result"
    }
   ],
   "source": [
    "# Count null values in each column\n",
    "numbers_df.isna().sum(axis=\"index\")"
   ]
  },
  {
   "cell_type": "markdown",
   "metadata": {},
   "source": [
    "### Working with real data"
   ]
  },
  {
   "cell_type": "code",
   "execution_count": 24,
   "metadata": {},
   "outputs": [
    {
     "ename": "FileNotFoundError",
     "evalue": "File ../Data/autos.json does not exist",
     "output_type": "error",
     "traceback": [
      "\u001b[1;31m---------------------------------------------------------------------------\u001b[0m",
      "\u001b[1;31mFileNotFoundError\u001b[0m                         Traceback (most recent call last)",
      "\u001b[1;32mc:\\Users\\Josef\\Documents\\Github\\Databehandling-Josef-Aljasmi\\Code-Alongs\\L011_Aggregations.ipynb Cell 10\u001b[0m line \u001b[0;36m1\n\u001b[1;32m----> <a href='vscode-notebook-cell:/c%3A/Users/Josef/Documents/Github/Databehandling-Josef-Aljasmi/Code-Alongs/L011_Aggregations.ipynb#X20sZmlsZQ%3D%3D?line=0'>1</a>\u001b[0m autos \u001b[39m=\u001b[39m pd\u001b[39m.\u001b[39mread_json(\u001b[39m\"\u001b[39m\u001b[39m../Data/autos.json\u001b[39m\u001b[39m\"\u001b[39m)\n\u001b[0;32m      <a href='vscode-notebook-cell:/c%3A/Users/Josef/Documents/Github/Databehandling-Josef-Aljasmi/Code-Alongs/L011_Aggregations.ipynb#X20sZmlsZQ%3D%3D?line=1'>2</a>\u001b[0m autos\u001b[39m.\u001b[39mtail(\u001b[39m3\u001b[39m)\n",
      "File \u001b[1;32mc:\\Users\\Josef\\anaconda3\\Lib\\site-packages\\pandas\\util\\_decorators.py:211\u001b[0m, in \u001b[0;36mdeprecate_kwarg.<locals>._deprecate_kwarg.<locals>.wrapper\u001b[1;34m(*args, **kwargs)\u001b[0m\n\u001b[0;32m    209\u001b[0m     \u001b[39melse\u001b[39;00m:\n\u001b[0;32m    210\u001b[0m         kwargs[new_arg_name] \u001b[39m=\u001b[39m new_arg_value\n\u001b[1;32m--> 211\u001b[0m \u001b[39mreturn\u001b[39;00m func(\u001b[39m*\u001b[39margs, \u001b[39m*\u001b[39m\u001b[39m*\u001b[39mkwargs)\n",
      "File \u001b[1;32mc:\\Users\\Josef\\anaconda3\\Lib\\site-packages\\pandas\\util\\_decorators.py:331\u001b[0m, in \u001b[0;36mdeprecate_nonkeyword_arguments.<locals>.decorate.<locals>.wrapper\u001b[1;34m(*args, **kwargs)\u001b[0m\n\u001b[0;32m    325\u001b[0m \u001b[39mif\u001b[39;00m \u001b[39mlen\u001b[39m(args) \u001b[39m>\u001b[39m num_allow_args:\n\u001b[0;32m    326\u001b[0m     warnings\u001b[39m.\u001b[39mwarn(\n\u001b[0;32m    327\u001b[0m         msg\u001b[39m.\u001b[39mformat(arguments\u001b[39m=\u001b[39m_format_argument_list(allow_args)),\n\u001b[0;32m    328\u001b[0m         \u001b[39mFutureWarning\u001b[39;00m,\n\u001b[0;32m    329\u001b[0m         stacklevel\u001b[39m=\u001b[39mfind_stack_level(),\n\u001b[0;32m    330\u001b[0m     )\n\u001b[1;32m--> 331\u001b[0m \u001b[39mreturn\u001b[39;00m func(\u001b[39m*\u001b[39margs, \u001b[39m*\u001b[39m\u001b[39m*\u001b[39mkwargs)\n",
      "File \u001b[1;32mc:\\Users\\Josef\\anaconda3\\Lib\\site-packages\\pandas\\io\\json\\_json.py:733\u001b[0m, in \u001b[0;36mread_json\u001b[1;34m(path_or_buf, orient, typ, dtype, convert_axes, convert_dates, keep_default_dates, numpy, precise_float, date_unit, encoding, encoding_errors, lines, chunksize, compression, nrows, storage_options)\u001b[0m\n\u001b[0;32m    730\u001b[0m \u001b[39mif\u001b[39;00m convert_axes \u001b[39mis\u001b[39;00m \u001b[39mNone\u001b[39;00m \u001b[39mand\u001b[39;00m orient \u001b[39m!=\u001b[39m \u001b[39m\"\u001b[39m\u001b[39mtable\u001b[39m\u001b[39m\"\u001b[39m:\n\u001b[0;32m    731\u001b[0m     convert_axes \u001b[39m=\u001b[39m \u001b[39mTrue\u001b[39;00m\n\u001b[1;32m--> 733\u001b[0m json_reader \u001b[39m=\u001b[39m JsonReader(\n\u001b[0;32m    734\u001b[0m     path_or_buf,\n\u001b[0;32m    735\u001b[0m     orient\u001b[39m=\u001b[39morient,\n\u001b[0;32m    736\u001b[0m     typ\u001b[39m=\u001b[39mtyp,\n\u001b[0;32m    737\u001b[0m     dtype\u001b[39m=\u001b[39mdtype,\n\u001b[0;32m    738\u001b[0m     convert_axes\u001b[39m=\u001b[39mconvert_axes,\n\u001b[0;32m    739\u001b[0m     convert_dates\u001b[39m=\u001b[39mconvert_dates,\n\u001b[0;32m    740\u001b[0m     keep_default_dates\u001b[39m=\u001b[39mkeep_default_dates,\n\u001b[0;32m    741\u001b[0m     numpy\u001b[39m=\u001b[39mnumpy,\n\u001b[0;32m    742\u001b[0m     precise_float\u001b[39m=\u001b[39mprecise_float,\n\u001b[0;32m    743\u001b[0m     date_unit\u001b[39m=\u001b[39mdate_unit,\n\u001b[0;32m    744\u001b[0m     encoding\u001b[39m=\u001b[39mencoding,\n\u001b[0;32m    745\u001b[0m     lines\u001b[39m=\u001b[39mlines,\n\u001b[0;32m    746\u001b[0m     chunksize\u001b[39m=\u001b[39mchunksize,\n\u001b[0;32m    747\u001b[0m     compression\u001b[39m=\u001b[39mcompression,\n\u001b[0;32m    748\u001b[0m     nrows\u001b[39m=\u001b[39mnrows,\n\u001b[0;32m    749\u001b[0m     storage_options\u001b[39m=\u001b[39mstorage_options,\n\u001b[0;32m    750\u001b[0m     encoding_errors\u001b[39m=\u001b[39mencoding_errors,\n\u001b[0;32m    751\u001b[0m )\n\u001b[0;32m    753\u001b[0m \u001b[39mif\u001b[39;00m chunksize:\n\u001b[0;32m    754\u001b[0m     \u001b[39mreturn\u001b[39;00m json_reader\n",
      "File \u001b[1;32mc:\\Users\\Josef\\anaconda3\\Lib\\site-packages\\pandas\\io\\json\\_json.py:818\u001b[0m, in \u001b[0;36mJsonReader.__init__\u001b[1;34m(self, filepath_or_buffer, orient, typ, dtype, convert_axes, convert_dates, keep_default_dates, numpy, precise_float, date_unit, encoding, lines, chunksize, compression, nrows, storage_options, encoding_errors)\u001b[0m\n\u001b[0;32m    815\u001b[0m     \u001b[39mif\u001b[39;00m \u001b[39mnot\u001b[39;00m \u001b[39mself\u001b[39m\u001b[39m.\u001b[39mlines:\n\u001b[0;32m    816\u001b[0m         \u001b[39mraise\u001b[39;00m \u001b[39mValueError\u001b[39;00m(\u001b[39m\"\u001b[39m\u001b[39mnrows can only be passed if lines=True\u001b[39m\u001b[39m\"\u001b[39m)\n\u001b[1;32m--> 818\u001b[0m data \u001b[39m=\u001b[39m \u001b[39mself\u001b[39m\u001b[39m.\u001b[39m_get_data_from_filepath(filepath_or_buffer)\n\u001b[0;32m    819\u001b[0m \u001b[39mself\u001b[39m\u001b[39m.\u001b[39mdata \u001b[39m=\u001b[39m \u001b[39mself\u001b[39m\u001b[39m.\u001b[39m_preprocess_data(data)\n",
      "File \u001b[1;32mc:\\Users\\Josef\\anaconda3\\Lib\\site-packages\\pandas\\io\\json\\_json.py:874\u001b[0m, in \u001b[0;36mJsonReader._get_data_from_filepath\u001b[1;34m(self, filepath_or_buffer)\u001b[0m\n\u001b[0;32m    866\u001b[0m     filepath_or_buffer \u001b[39m=\u001b[39m \u001b[39mself\u001b[39m\u001b[39m.\u001b[39mhandles\u001b[39m.\u001b[39mhandle\n\u001b[0;32m    867\u001b[0m \u001b[39melif\u001b[39;00m (\n\u001b[0;32m    868\u001b[0m     \u001b[39misinstance\u001b[39m(filepath_or_buffer, \u001b[39mstr\u001b[39m)\n\u001b[0;32m    869\u001b[0m     \u001b[39mand\u001b[39;00m filepath_or_buffer\u001b[39m.\u001b[39mlower()\u001b[39m.\u001b[39mendswith(\n\u001b[1;32m   (...)\u001b[0m\n\u001b[0;32m    872\u001b[0m     \u001b[39mand\u001b[39;00m \u001b[39mnot\u001b[39;00m file_exists(filepath_or_buffer)\n\u001b[0;32m    873\u001b[0m ):\n\u001b[1;32m--> 874\u001b[0m     \u001b[39mraise\u001b[39;00m \u001b[39mFileNotFoundError\u001b[39;00m(\u001b[39mf\u001b[39m\u001b[39m\"\u001b[39m\u001b[39mFile \u001b[39m\u001b[39m{\u001b[39;00mfilepath_or_buffer\u001b[39m}\u001b[39;00m\u001b[39m does not exist\u001b[39m\u001b[39m\"\u001b[39m)\n\u001b[0;32m    876\u001b[0m \u001b[39mreturn\u001b[39;00m filepath_or_buffer\n",
      "\u001b[1;31mFileNotFoundError\u001b[0m: File ../Data/autos.json does not exist"
     ]
    }
   ],
   "source": [
    "autos = pd.read_json(\"../Data/autos.json\")\n",
    "autos.tail(3)"
   ]
  },
  {
   "cell_type": "code",
   "execution_count": 25,
   "metadata": {},
   "outputs": [
    {
     "ename": "NameError",
     "evalue": "name 'autos' is not defined",
     "output_type": "error",
     "traceback": [
      "\u001b[1;31m---------------------------------------------------------------------------\u001b[0m",
      "\u001b[1;31mNameError\u001b[0m                                 Traceback (most recent call last)",
      "\u001b[1;32mc:\\Users\\Josef\\Documents\\Github\\Databehandling-Josef-Aljasmi\\Code-Alongs\\L011_Aggregations.ipynb Cell 11\u001b[0m line \u001b[0;36m1\n\u001b[1;32m----> <a href='vscode-notebook-cell:/c%3A/Users/Josef/Documents/Github/Databehandling-Josef-Aljasmi/Code-Alongs/L011_Aggregations.ipynb#X21sZmlsZQ%3D%3D?line=0'>1</a>\u001b[0m autos[\u001b[39m\"\u001b[39m\u001b[39mprice\u001b[39m\u001b[39m\"\u001b[39m]\u001b[39m.\u001b[39mmean()\n",
      "\u001b[1;31mNameError\u001b[0m: name 'autos' is not defined"
     ]
    }
   ],
   "source": [
    "autos[\"price\"].mean()"
   ]
  },
  {
   "cell_type": "code",
   "execution_count": 26,
   "metadata": {},
   "outputs": [
    {
     "ename": "NameError",
     "evalue": "name 'autos' is not defined",
     "output_type": "error",
     "traceback": [
      "\u001b[1;31m---------------------------------------------------------------------------\u001b[0m",
      "\u001b[1;31mNameError\u001b[0m                                 Traceback (most recent call last)",
      "\u001b[1;32mc:\\Users\\Josef\\Documents\\Github\\Databehandling-Josef-Aljasmi\\Code-Alongs\\L011_Aggregations.ipynb Cell 12\u001b[0m line \u001b[0;36m1\n\u001b[1;32m----> <a href='vscode-notebook-cell:/c%3A/Users/Josef/Documents/Github/Databehandling-Josef-Aljasmi/Code-Alongs/L011_Aggregations.ipynb#X22sZmlsZQ%3D%3D?line=0'>1</a>\u001b[0m autos[[\u001b[39m\"\u001b[39m\u001b[39mlength\u001b[39m\u001b[39m\"\u001b[39m, \u001b[39m\"\u001b[39m\u001b[39mwidth\u001b[39m\u001b[39m\"\u001b[39m, \u001b[39m\"\u001b[39m\u001b[39mheight\u001b[39m\u001b[39m\"\u001b[39m]]\u001b[39m.\u001b[39mhead(\u001b[39m3\u001b[39m)\n",
      "\u001b[1;31mNameError\u001b[0m: name 'autos' is not defined"
     ]
    }
   ],
   "source": [
    "autos[[\"length\", \"width\", \"height\"]].head(3)"
   ]
  },
  {
   "cell_type": "code",
   "execution_count": 27,
   "metadata": {},
   "outputs": [
    {
     "ename": "NameError",
     "evalue": "name 'autos' is not defined",
     "output_type": "error",
     "traceback": [
      "\u001b[1;31m---------------------------------------------------------------------------\u001b[0m",
      "\u001b[1;31mNameError\u001b[0m                                 Traceback (most recent call last)",
      "\u001b[1;32mc:\\Users\\Josef\\Documents\\Github\\Databehandling-Josef-Aljasmi\\Code-Alongs\\L011_Aggregations.ipynb Cell 13\u001b[0m line \u001b[0;36m2\n\u001b[0;32m      <a href='vscode-notebook-cell:/c%3A/Users/Josef/Documents/Github/Databehandling-Josef-Aljasmi/Code-Alongs/L011_Aggregations.ipynb#X23sZmlsZQ%3D%3D?line=0'>1</a>\u001b[0m \u001b[39m# Running mean() on multiple columns (DataFrame) returns a Series of means.\u001b[39;00m\n\u001b[1;32m----> <a href='vscode-notebook-cell:/c%3A/Users/Josef/Documents/Github/Databehandling-Josef-Aljasmi/Code-Alongs/L011_Aggregations.ipynb#X23sZmlsZQ%3D%3D?line=1'>2</a>\u001b[0m autos[[\u001b[39m\"\u001b[39m\u001b[39mlength\u001b[39m\u001b[39m\"\u001b[39m, \u001b[39m\"\u001b[39m\u001b[39mwidth\u001b[39m\u001b[39m\"\u001b[39m, \u001b[39m\"\u001b[39m\u001b[39mheight\u001b[39m\u001b[39m\"\u001b[39m]]\u001b[39m.\u001b[39mhead(\u001b[39m3\u001b[39m)\u001b[39m.\u001b[39mmean()\n\u001b[0;32m      <a href='vscode-notebook-cell:/c%3A/Users/Josef/Documents/Github/Databehandling-Josef-Aljasmi/Code-Alongs/L011_Aggregations.ipynb#X23sZmlsZQ%3D%3D?line=2'>3</a>\u001b[0m autos[[\u001b[39m\"\u001b[39m\u001b[39mlength\u001b[39m\u001b[39m\"\u001b[39m, \u001b[39m\"\u001b[39m\u001b[39mwidth\u001b[39m\u001b[39m\"\u001b[39m, \u001b[39m\"\u001b[39m\u001b[39mheight\u001b[39m\u001b[39m\"\u001b[39m]]\u001b[39m.\u001b[39mmean()\n\u001b[0;32m      <a href='vscode-notebook-cell:/c%3A/Users/Josef/Documents/Github/Databehandling-Josef-Aljasmi/Code-Alongs/L011_Aggregations.ipynb#X23sZmlsZQ%3D%3D?line=3'>4</a>\u001b[0m autos[autos[\u001b[39m\"\u001b[39m\u001b[39mmake\u001b[39m\u001b[39m\"\u001b[39m] \u001b[39m==\u001b[39m \u001b[39m\"\u001b[39m\u001b[39mvolvo\u001b[39m\u001b[39m\"\u001b[39m][[\u001b[39m\"\u001b[39m\u001b[39mlength\u001b[39m\u001b[39m\"\u001b[39m, \u001b[39m\"\u001b[39m\u001b[39mwidth\u001b[39m\u001b[39m\"\u001b[39m, \u001b[39m\"\u001b[39m\u001b[39mheight\u001b[39m\u001b[39m\"\u001b[39m]]\u001b[39m.\u001b[39mmean()\n",
      "\u001b[1;31mNameError\u001b[0m: name 'autos' is not defined"
     ]
    }
   ],
   "source": [
    "# Running mean() on multiple columns (DataFrame) returns a Series of means.\n",
    "autos[[\"length\", \"width\", \"height\"]].head(3).mean()\n",
    "autos[[\"length\", \"width\", \"height\"]].mean()\n",
    "autos[autos[\"make\"] == \"volvo\"][[\"length\", \"width\", \"height\"]].mean()\n",
    "autos.query(\"make=='volvo'\")[[\"length\", \"width\", \"height\"]].mean()"
   ]
  },
  {
   "cell_type": "markdown",
   "metadata": {},
   "source": [
    "### Multiple aggregation"
   ]
  },
  {
   "cell_type": "code",
   "execution_count": 28,
   "metadata": {},
   "outputs": [
    {
     "ename": "NameError",
     "evalue": "name 'autos' is not defined",
     "output_type": "error",
     "traceback": [
      "\u001b[1;31m---------------------------------------------------------------------------\u001b[0m",
      "\u001b[1;31mNameError\u001b[0m                                 Traceback (most recent call last)",
      "\u001b[1;32mc:\\Users\\Josef\\Documents\\Github\\Databehandling-Josef-Aljasmi\\Code-Alongs\\L011_Aggregations.ipynb Cell 15\u001b[0m line \u001b[0;36m1\n\u001b[1;32m----> <a href='vscode-notebook-cell:/c%3A/Users/Josef/Documents/Github/Databehandling-Josef-Aljasmi/Code-Alongs/L011_Aggregations.ipynb#X30sZmlsZQ%3D%3D?line=0'>1</a>\u001b[0m autos[[\u001b[39m\"\u001b[39m\u001b[39mlength\u001b[39m\u001b[39m\"\u001b[39m, \u001b[39m\"\u001b[39m\u001b[39mwidth\u001b[39m\u001b[39m\"\u001b[39m, \u001b[39m\"\u001b[39m\u001b[39mheight\u001b[39m\u001b[39m\"\u001b[39m]]\u001b[39m.\u001b[39magg(\u001b[39m\"\u001b[39m\u001b[39mmax\u001b[39m\u001b[39m\"\u001b[39m)\n",
      "\u001b[1;31mNameError\u001b[0m: name 'autos' is not defined"
     ]
    }
   ],
   "source": [
    "autos[[\"length\", \"width\", \"height\"]].agg(\"max\")"
   ]
  },
  {
   "cell_type": "code",
   "execution_count": 29,
   "metadata": {},
   "outputs": [
    {
     "ename": "NameError",
     "evalue": "name 'autos' is not defined",
     "output_type": "error",
     "traceback": [
      "\u001b[1;31m---------------------------------------------------------------------------\u001b[0m",
      "\u001b[1;31mNameError\u001b[0m                                 Traceback (most recent call last)",
      "\u001b[1;32mc:\\Users\\Josef\\Documents\\Github\\Databehandling-Josef-Aljasmi\\Code-Alongs\\L011_Aggregations.ipynb Cell 16\u001b[0m line \u001b[0;36m1\n\u001b[1;32m----> <a href='vscode-notebook-cell:/c%3A/Users/Josef/Documents/Github/Databehandling-Josef-Aljasmi/Code-Alongs/L011_Aggregations.ipynb#X31sZmlsZQ%3D%3D?line=0'>1</a>\u001b[0m autos[[\u001b[39m\"\u001b[39m\u001b[39mlength\u001b[39m\u001b[39m\"\u001b[39m, \u001b[39m\"\u001b[39m\u001b[39mwidth\u001b[39m\u001b[39m\"\u001b[39m, \u001b[39m\"\u001b[39m\u001b[39mheight\u001b[39m\u001b[39m\"\u001b[39m]]\u001b[39m.\u001b[39magg([\u001b[39m\"\u001b[39m\u001b[39mmin\u001b[39m\u001b[39m\"\u001b[39m, \u001b[39m\"\u001b[39m\u001b[39mmean\u001b[39m\u001b[39m\"\u001b[39m, \u001b[39m\"\u001b[39m\u001b[39mmax\u001b[39m\u001b[39m\"\u001b[39m])\n\u001b[0;32m      <a href='vscode-notebook-cell:/c%3A/Users/Josef/Documents/Github/Databehandling-Josef-Aljasmi/Code-Alongs/L011_Aggregations.ipynb#X31sZmlsZQ%3D%3D?line=1'>2</a>\u001b[0m \u001b[39m#autos.info()\u001b[39;00m\n\u001b[0;32m      <a href='vscode-notebook-cell:/c%3A/Users/Josef/Documents/Github/Databehandling-Josef-Aljasmi/Code-Alongs/L011_Aggregations.ipynb#X31sZmlsZQ%3D%3D?line=2'>3</a>\u001b[0m \u001b[39m#autos.agg([\"min\", \"mean\", \"max\"])\u001b[39;00m\n\u001b[0;32m      <a href='vscode-notebook-cell:/c%3A/Users/Josef/Documents/Github/Databehandling-Josef-Aljasmi/Code-Alongs/L011_Aggregations.ipynb#X31sZmlsZQ%3D%3D?line=3'>4</a>\u001b[0m [col \u001b[39mfor\u001b[39;00m col \u001b[39min\u001b[39;00m autos\u001b[39m.\u001b[39mcolumns \u001b[39mif\u001b[39;00m autos[col]\u001b[39m.\u001b[39mdtype \u001b[39min\u001b[39;00m[\u001b[39m\"\u001b[39m\u001b[39mint64\u001b[39m\u001b[39m\"\u001b[39m, \u001b[39m\"\u001b[39m\u001b[39mfloat64\u001b[39m\u001b[39m\"\u001b[39m]]\n",
      "\u001b[1;31mNameError\u001b[0m: name 'autos' is not defined"
     ]
    }
   ],
   "source": [
    "autos[[\"length\", \"width\", \"height\"]].agg([\"min\", \"mean\", \"max\"])\n",
    "#autos.info()\n",
    "#autos.agg([\"min\", \"mean\", \"max\"])\n",
    "[col for col in autos.columns if autos[col].dtype in[\"int64\", \"float64\"]]\n",
    "#{col: autos[col].dtype for col in autos.columns if autos[col].dtype in[\"int64\", \"float64\"]} #dictionary form"
   ]
  },
  {
   "cell_type": "code",
   "execution_count": 30,
   "metadata": {},
   "outputs": [
    {
     "ename": "NameError",
     "evalue": "name 'autos' is not defined",
     "output_type": "error",
     "traceback": [
      "\u001b[1;31m---------------------------------------------------------------------------\u001b[0m",
      "\u001b[1;31mNameError\u001b[0m                                 Traceback (most recent call last)",
      "\u001b[1;32mc:\\Users\\Josef\\Documents\\Github\\Databehandling-Josef-Aljasmi\\Code-Alongs\\L011_Aggregations.ipynb Cell 17\u001b[0m line \u001b[0;36m1\n\u001b[1;32m----> <a href='vscode-notebook-cell:/c%3A/Users/Josef/Documents/Github/Databehandling-Josef-Aljasmi/Code-Alongs/L011_Aggregations.ipynb#X32sZmlsZQ%3D%3D?line=0'>1</a>\u001b[0m autos\u001b[39m.\u001b[39mdescribe()\n",
      "\u001b[1;31mNameError\u001b[0m: name 'autos' is not defined"
     ]
    }
   ],
   "source": [
    "autos.describe()"
   ]
  },
  {
   "cell_type": "markdown",
   "metadata": {},
   "source": [
    "### Split-Apply-Combine\n",
    "- Select a feature to use as key\n",
    "- Split the dataset into group for each unique key value \n",
    "- Apply aggregation to each group\n",
    "- Combine aggregated data into a new dataset\n",
    "![image](https://nicholasvadivelu.com/assets/images/posts/groupby/split-apply-combine.svg#center)"
   ]
  },
  {
   "cell_type": "markdown",
   "metadata": {},
   "source": [
    "### Group by\n",
    "Use Pandas .groupby() method to select a key and split into groups.\n",
    "\n",
    "This creates a new DataFrameGroupBy object containing the grouped DataFramess"
   ]
  },
  {
   "cell_type": "code",
   "execution_count": 31,
   "metadata": {},
   "outputs": [
    {
     "ename": "NameError",
     "evalue": "name 'autos' is not defined",
     "output_type": "error",
     "traceback": [
      "\u001b[1;31m---------------------------------------------------------------------------\u001b[0m",
      "\u001b[1;31mNameError\u001b[0m                                 Traceback (most recent call last)",
      "\u001b[1;32mc:\\Users\\Josef\\Documents\\Github\\Databehandling-Josef-Aljasmi\\Code-Alongs\\L011_Aggregations.ipynb Cell 20\u001b[0m line \u001b[0;36m1\n\u001b[1;32m----> <a href='vscode-notebook-cell:/c%3A/Users/Josef/Documents/Github/Databehandling-Josef-Aljasmi/Code-Alongs/L011_Aggregations.ipynb#X40sZmlsZQ%3D%3D?line=0'>1</a>\u001b[0m makes \u001b[39m=\u001b[39m autos\u001b[39m.\u001b[39mgroupby(\u001b[39m\"\u001b[39m\u001b[39mmake\u001b[39m\u001b[39m\"\u001b[39m)\n",
      "\u001b[1;31mNameError\u001b[0m: name 'autos' is not defined"
     ]
    }
   ],
   "source": [
    "makes = autos.groupby(\"make\")"
   ]
  },
  {
   "cell_type": "code",
   "execution_count": 32,
   "metadata": {},
   "outputs": [
    {
     "ename": "NameError",
     "evalue": "name 'makes' is not defined",
     "output_type": "error",
     "traceback": [
      "\u001b[1;31m---------------------------------------------------------------------------\u001b[0m",
      "\u001b[1;31mNameError\u001b[0m                                 Traceback (most recent call last)",
      "\u001b[1;32mc:\\Users\\Josef\\Documents\\Github\\Databehandling-Josef-Aljasmi\\Code-Alongs\\L011_Aggregations.ipynb Cell 21\u001b[0m line \u001b[0;36m1\n\u001b[1;32m----> <a href='vscode-notebook-cell:/c%3A/Users/Josef/Documents/Github/Databehandling-Josef-Aljasmi/Code-Alongs/L011_Aggregations.ipynb#X41sZmlsZQ%3D%3D?line=0'>1</a>\u001b[0m \u001b[39mtype\u001b[39m(makes)\n",
      "\u001b[1;31mNameError\u001b[0m: name 'makes' is not defined"
     ]
    }
   ],
   "source": [
    "type(makes)"
   ]
  },
  {
   "cell_type": "code",
   "execution_count": 33,
   "metadata": {},
   "outputs": [
    {
     "ename": "NameError",
     "evalue": "name 'makes' is not defined",
     "output_type": "error",
     "traceback": [
      "\u001b[1;31m---------------------------------------------------------------------------\u001b[0m",
      "\u001b[1;31mNameError\u001b[0m                                 Traceback (most recent call last)",
      "\u001b[1;32mc:\\Users\\Josef\\Documents\\Github\\Databehandling-Josef-Aljasmi\\Code-Alongs\\L011_Aggregations.ipynb Cell 22\u001b[0m line \u001b[0;36m1\n\u001b[1;32m----> <a href='vscode-notebook-cell:/c%3A/Users/Josef/Documents/Github/Databehandling-Josef-Aljasmi/Code-Alongs/L011_Aggregations.ipynb#X42sZmlsZQ%3D%3D?line=0'>1</a>\u001b[0m \u001b[39mlen\u001b[39m(makes)\n",
      "\u001b[1;31mNameError\u001b[0m: name 'makes' is not defined"
     ]
    }
   ],
   "source": [
    "#autos[\"make\"].unique()\n",
    "#autos[\"make\"].nunique()\n",
    "#autos[\"make\"].value_counts()\n",
    "len(makes)"
   ]
  },
  {
   "cell_type": "code",
   "execution_count": 34,
   "metadata": {},
   "outputs": [
    {
     "ename": "NameError",
     "evalue": "name 'makes' is not defined",
     "output_type": "error",
     "traceback": [
      "\u001b[1;31m---------------------------------------------------------------------------\u001b[0m",
      "\u001b[1;31mNameError\u001b[0m                                 Traceback (most recent call last)",
      "\u001b[1;32mc:\\Users\\Josef\\Documents\\Github\\Databehandling-Josef-Aljasmi\\Code-Alongs\\L011_Aggregations.ipynb Cell 23\u001b[0m line \u001b[0;36m1\n\u001b[1;32m----> <a href='vscode-notebook-cell:/c%3A/Users/Josef/Documents/Github/Databehandling-Josef-Aljasmi/Code-Alongs/L011_Aggregations.ipynb#X43sZmlsZQ%3D%3D?line=0'>1</a>\u001b[0m makes\u001b[39m.\u001b[39mgroups\n\u001b[0;32m      <a href='vscode-notebook-cell:/c%3A/Users/Josef/Documents/Github/Databehandling-Josef-Aljasmi/Code-Alongs/L011_Aggregations.ipynb#X43sZmlsZQ%3D%3D?line=1'>2</a>\u001b[0m autos\u001b[39m.\u001b[39mloc[makes\u001b[39m.\u001b[39mgroups[\u001b[39m\"\u001b[39m\u001b[39mjaguar\u001b[39m\u001b[39m\"\u001b[39m]]\n\u001b[0;32m      <a href='vscode-notebook-cell:/c%3A/Users/Josef/Documents/Github/Databehandling-Josef-Aljasmi/Code-Alongs/L011_Aggregations.ipynb#X43sZmlsZQ%3D%3D?line=2'>3</a>\u001b[0m makes\u001b[39m.\u001b[39mget_group([\u001b[39m\"\u001b[39m\u001b[39mjaguar\u001b[39m\u001b[39m\"\u001b[39m])\n",
      "\u001b[1;31mNameError\u001b[0m: name 'makes' is not defined"
     ]
    }
   ],
   "source": [
    "makes.groups\n",
    "autos.loc[makes.groups[\"jaguar\"]]\n",
    "makes.get_group([\"jaguar\"])\n"
   ]
  },
  {
   "cell_type": "code",
   "execution_count": 36,
   "metadata": {},
   "outputs": [
    {
     "ename": "NameError",
     "evalue": "name 'makes' is not defined",
     "output_type": "error",
     "traceback": [
      "\u001b[1;31m---------------------------------------------------------------------------\u001b[0m",
      "\u001b[1;31mNameError\u001b[0m                                 Traceback (most recent call last)",
      "\u001b[1;32mc:\\Users\\Josef\\Documents\\Github\\Databehandling-Josef-Aljasmi\\Code-Alongs\\L011_Aggregations.ipynb Cell 24\u001b[0m line \u001b[0;36m1\n\u001b[1;32m----> <a href='vscode-notebook-cell:/c%3A/Users/Josef/Documents/Github/Databehandling-Josef-Aljasmi/Code-Alongs/L011_Aggregations.ipynb#X44sZmlsZQ%3D%3D?line=0'>1</a>\u001b[0m makes\u001b[39m.\u001b[39mcount()\u001b[39m.\u001b[39mhead(\u001b[39m3\u001b[39m)\n\u001b[0;32m      <a href='vscode-notebook-cell:/c%3A/Users/Josef/Documents/Github/Databehandling-Josef-Aljasmi/Code-Alongs/L011_Aggregations.ipynb#X44sZmlsZQ%3D%3D?line=1'>2</a>\u001b[0m makes[[\u001b[39m\"\u001b[39m\u001b[39mlength\u001b[39m\u001b[39m\"\u001b[39m, \u001b[39m\"\u001b[39m\u001b[39mwidth\u001b[39m\u001b[39m\"\u001b[39m, \u001b[39m\"\u001b[39m\u001b[39mheight\u001b[39m\u001b[39m\"\u001b[39m]]\u001b[39m.\u001b[39mmean()\u001b[39m.\u001b[39mhead(\u001b[39m3\u001b[39m)\n",
      "\u001b[1;31mNameError\u001b[0m: name 'makes' is not defined"
     ]
    }
   ],
   "source": [
    "makes.count().head(3)\n",
    "makes[[\"length\", \"width\", \"height\"]].mean().head(3)"
   ]
  },
  {
   "cell_type": "markdown",
   "metadata": {},
   "source": [
    "### SeriesGroupBy\n",
    "Indexing a DataFrameGroupBy object with a single column will return a SeriesGroupBy object"
   ]
  },
  {
   "cell_type": "code",
   "execution_count": null,
   "metadata": {},
   "outputs": [],
   "source": [
    "sgb = makes[\"price\"]\n",
    "type(sgb)\n",
    "sgb.groups \n",
    "sgb.get_group(\"jaguar\")\n",
    "sgb.mean().head(3)\n",
    "\n",
    "autos.groupby(\"make\")[\"price\"].mean()"
   ]
  },
  {
   "cell_type": "markdown",
   "metadata": {},
   "source": [
    "### Multiple aggregations on SeriesGroupBy\n",
    "Use Pandas .agg() method on SeriesGroupBy to do multiple aggregation on a single feature"
   ]
  },
  {
   "cell_type": "code",
   "execution_count": 1,
   "metadata": {},
   "outputs": [
    {
     "ename": "NameError",
     "evalue": "name 'sgb' is not defined",
     "output_type": "error",
     "traceback": [
      "\u001b[1;31m---------------------------------------------------------------------------\u001b[0m",
      "\u001b[1;31mNameError\u001b[0m                                 Traceback (most recent call last)",
      "\u001b[1;32mc:\\Users\\Josef\\Documents\\Github\\Databehandling-Josef-Aljasmi\\Code-Alongs\\L011_Aggregations.ipynb Cell 28\u001b[0m line \u001b[0;36m1\n\u001b[1;32m----> <a href='vscode-notebook-cell:/c%3A/Users/Josef/Documents/Github/Databehandling-Josef-Aljasmi/Code-Alongs/L011_Aggregations.ipynb#X54sZmlsZQ%3D%3D?line=0'>1</a>\u001b[0m sgb\u001b[39m.\u001b[39mmin()\n\u001b[0;32m      <a href='vscode-notebook-cell:/c%3A/Users/Josef/Documents/Github/Databehandling-Josef-Aljasmi/Code-Alongs/L011_Aggregations.ipynb#X54sZmlsZQ%3D%3D?line=1'>2</a>\u001b[0m sgb\u001b[39m.\u001b[39magg([\u001b[39m\"\u001b[39m\u001b[39mmin\u001b[39m\u001b[39m\"\u001b[39m, \u001b[39m\"\u001b[39m\u001b[39mmean\u001b[39m\u001b[39m\"\u001b[39m, \u001b[39m\"\u001b[39m\u001b[39mmax\u001b[39m\u001b[39m\"\u001b[39m])\n\u001b[0;32m      <a href='vscode-notebook-cell:/c%3A/Users/Josef/Documents/Github/Databehandling-Josef-Aljasmi/Code-Alongs/L011_Aggregations.ipynb#X54sZmlsZQ%3D%3D?line=2'>3</a>\u001b[0m autos\u001b[39m.\u001b[39mgroupby(\u001b[39m\"\u001b[39m\u001b[39mmake\u001b[39m\u001b[39m\"\u001b[39m)[\u001b[39m\"\u001b[39m\u001b[39mprice\u001b[39m\u001b[39m\"\u001b[39m]\u001b[39m.\u001b[39magg([\u001b[39m\"\u001b[39m\u001b[39mmin\u001b[39m\u001b[39m\"\u001b[39m, \u001b[39m\"\u001b[39m\u001b[39mmean\u001b[39m\u001b[39m\"\u001b[39m, \u001b[39m\"\u001b[39m\u001b[39mmax\u001b[39m\u001b[39m\"\u001b[39m])\n",
      "\u001b[1;31mNameError\u001b[0m: name 'sgb' is not defined"
     ]
    }
   ],
   "source": [
    "sgb.min()\n",
    "sgb.agg([\"min\", \"mean\", \"max\"])\n",
    "autos.groupby(\"make\")[\"price\"].agg([\"min\", \"mean\", \"max\"])\n",
    "autos.groupby(\"make\")[\"price\"].describe().transpose()"
   ]
  },
  {
   "cell_type": "markdown",
   "metadata": {},
   "source": [
    "### Multiple aggregation on DataFrameGroupBy\n",
    "\n",
    "Using pandas .agg() method on a DataFrameGroupBy to do multiple aggregation on multiple features will return a multi-index column dataframe."
   ]
  },
  {
   "cell_type": "code",
   "execution_count": 2,
   "metadata": {},
   "outputs": [
    {
     "ename": "NameError",
     "evalue": "name 'makes' is not defined",
     "output_type": "error",
     "traceback": [
      "\u001b[1;31m---------------------------------------------------------------------------\u001b[0m",
      "\u001b[1;31mNameError\u001b[0m                                 Traceback (most recent call last)",
      "\u001b[1;32mc:\\Users\\Josef\\Documents\\Github\\Databehandling-Josef-Aljasmi\\Code-Alongs\\L011_Aggregations.ipynb Cell 30\u001b[0m line \u001b[0;36m1\n\u001b[1;32m----> <a href='vscode-notebook-cell:/c%3A/Users/Josef/Documents/Github/Databehandling-Josef-Aljasmi/Code-Alongs/L011_Aggregations.ipynb#X61sZmlsZQ%3D%3D?line=0'>1</a>\u001b[0m makes[[\u001b[39m\"\u001b[39m\u001b[39mlength\u001b[39m\u001b[39m\"\u001b[39m, \u001b[39m\"\u001b[39m\u001b[39mwidth\u001b[39m\u001b[39m\"\u001b[39m, \u001b[39m\"\u001b[39m\u001b[39mheight\u001b[39m\u001b[39m\"\u001b[39m]]\u001b[39m.\u001b[39magg([\u001b[39m\"\u001b[39m\u001b[39mmin\u001b[39m\u001b[39m\"\u001b[39m, \u001b[39m\"\u001b[39m\u001b[39mmean\u001b[39m\u001b[39m\"\u001b[39m, \u001b[39m\"\u001b[39m\u001b[39mmax\u001b[39m\u001b[39m\"\u001b[39m])\n",
      "\u001b[1;31mNameError\u001b[0m: name 'makes' is not defined"
     ]
    }
   ],
   "source": [
    "makes[[\"length\", \"width\", \"height\"]].agg([\"min\", \"mean\", \"max\"])"
   ]
  },
  {
   "cell_type": "markdown",
   "metadata": {},
   "source": [
    "### Custom columns aggregation"
   ]
  },
  {
   "cell_type": "code",
   "execution_count": 4,
   "metadata": {},
   "outputs": [
    {
     "ename": "SyntaxError",
     "evalue": "invalid syntax (982817112.py, line 1)",
     "output_type": "error",
     "traceback": [
      "\u001b[1;36m  Cell \u001b[1;32mIn[4], line 1\u001b[1;36m\u001b[0m\n\u001b[1;33m    autos.groupby(\"make\").agg([\"price\": \"mean\", \"horsepower\": \"max\"])\u001b[0m\n\u001b[1;37m                                      ^\u001b[0m\n\u001b[1;31mSyntaxError\u001b[0m\u001b[1;31m:\u001b[0m invalid syntax\n"
     ]
    }
   ],
   "source": [
    "autos.groupby(\"make\").agg({\"price\": \"mean\", \"horsepower\": \"max\"})"
   ]
  },
  {
   "cell_type": "code",
   "execution_count": 1,
   "metadata": {},
   "outputs": [
    {
     "ename": "SyntaxError",
     "evalue": "invalid syntax. Perhaps you forgot a comma? (1023709184.py, line 2)",
     "output_type": "error",
     "traceback": [
      "\u001b[1;36m  Cell \u001b[1;32mIn[1], line 2\u001b[1;36m\u001b[0m\n\u001b[1;33m    average_price = pd.NamedAgg(column=\"price\", aggfunc=\"mean\")\u001b[0m\n\u001b[1;37m                    ^\u001b[0m\n\u001b[1;31mSyntaxError\u001b[0m\u001b[1;31m:\u001b[0m invalid syntax. Perhaps you forgot a comma?\n"
     ]
    }
   ],
   "source": [
    "autos.groupby(\"make\").agg(\n",
    "    average_price = pd.NamedAgg(column=\"price\", aggfunc=\"mean\")\n",
    "    min_horsepower = pd.NamedAgg(column=\"horsepower\", aggfunc=\"min\")\n",
    "    max_horsepower = pd.NamedAgg(column=\"horsepower\", aggfunc=\"max\")\n",
    ").head(3)"
   ]
  },
  {
   "cell_type": "code",
   "execution_count": null,
   "metadata": {},
   "outputs": [],
   "source": [
    "def list_unique(x):\n",
    "    return \", \".join(x)\n",
    "\n",
    "autos.groupby(\"make\").agg(\n",
    "    average_price = pd.NamedAgg(column=\"price\", aggfunc=\"mean\")\n",
    "    min_horsepower = pd.NamedAgg(column=\"horsepower\", aggfunc=\"min\")\n",
    "    max_horsepower = pd.NamedAgg(column=\"horsepower\", aggfunc=\"max\")\n",
    "    body_styles = pd.NamedAgg(column=\"body-style\", aggfunc=list_unique)\n",
    ").sort_valuew(by=\"average_price\", ascending=False)"
   ]
  },
  {
   "cell_type": "code",
   "execution_count": 4,
   "metadata": {},
   "outputs": [
    {
     "data": {
      "text/plain": [
       "[{'FirstName': 'Fredrik', 'Lastname': 'Johansson', 'Age': 42},\n",
       " {'FirstName': 'Anders', 'Lastname': 'Svensson', 'Age': 22},\n",
       " {'FirstName': 'Maria', 'Lastname': 'Karlsson', 'Age': 27},\n",
       " {'FirstName': 'Anna', 'Lastname': 'Bengtsson', 'Age': 39}]"
      ]
     },
     "execution_count": 4,
     "metadata": {},
     "output_type": "execute_result"
    }
   ],
   "source": [
    "def my_sorting_func(person):\n",
    "    return person[\"Age\"]\n",
    "\n",
    "mylist = [\n",
    "    {\"FirstName\": \"Fredrik\", \"Lastname\": \"Johansson\", \"Age\": 42},\n",
    "    {\"FirstName\": \"Anders\", \"Lastname\": \"Svensson\", \"Age\": 22},\n",
    "    {\"FirstName\": \"Maria\", \"Lastname\": \"Karlsson\", \"Age\": 27},\n",
    "    {\"FirstName\": \"Anna\", \"Lastname\": \"Bengtsson\", \"Age\": 39},\n",
    "    \n",
    "]\n",
    "sorted(mylist, key=lambda person: len(person[\"FirstName\"]), reverse=True)"
   ]
  },
  {
   "cell_type": "code",
   "execution_count": 8,
   "metadata": {},
   "outputs": [
    {
     "name": "stdout",
     "output_type": "stream",
     "text": [
      "Hello\n"
     ]
    }
   ],
   "source": [
    "def myfunc():\n",
    "    return \"Hello\"\n",
    "\n",
    "myfunc = lambda: \"Hello\"\n",
    "\n",
    "otherfunc = myfunc\n",
    "\n",
    "print(otherfunc())"
   ]
  },
  {
   "cell_type": "code",
   "execution_count": null,
   "metadata": {},
   "outputs": [],
   "source": []
  }
 ],
 "metadata": {
  "kernelspec": {
   "display_name": "Python 3",
   "language": "python",
   "name": "python3"
  },
  "language_info": {
   "codemirror_mode": {
    "name": "ipython",
    "version": 3
   },
   "file_extension": ".py",
   "mimetype": "text/x-python",
   "name": "python",
   "nbconvert_exporter": "python",
   "pygments_lexer": "ipython3",
   "version": "3.11.4"
  },
  "orig_nbformat": 4
 },
 "nbformat": 4,
 "nbformat_minor": 2
}

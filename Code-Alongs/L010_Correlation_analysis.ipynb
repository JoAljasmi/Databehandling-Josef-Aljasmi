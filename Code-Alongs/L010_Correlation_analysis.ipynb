{
 "cells": [
  {
   "cell_type": "code",
   "execution_count": 5,
   "id": "initial_id",
   "metadata": {
    "collapsed": true,
    "ExecuteTime": {
     "end_time": "2023-10-27T12:39:55.745403200Z",
     "start_time": "2023-10-27T12:39:55.728399300Z"
    }
   },
   "outputs": [],
   "source": [
    "import pandas as pd\n",
    "import seaborn as sns"
   ]
  },
  {
   "cell_type": "code",
   "execution_count": 6,
   "outputs": [],
   "source": [
    "titanic = pd.read_json(\"../data/titanic_encoded.json\")"
   ],
   "metadata": {
    "collapsed": false,
    "ExecuteTime": {
     "end_time": "2023-10-27T12:39:57.308614800Z",
     "start_time": "2023-10-27T12:39:57.270059600Z"
    }
   },
   "id": "b141a102b1a62652"
  },
  {
   "cell_type": "markdown",
   "source": [
    "## Correlation analysis\n",
    "Correlation analysis is a statistical technique used to examine the strength and direction of the relationship between two or more variables. It involves analysing the degree to which changes in one variable are associated with changes in another variable.\n"
   ],
   "metadata": {
    "collapsed": false
   },
   "id": "9579fecbd48d6da9"
  },
  {
   "cell_type": "markdown",
   "source": [
    "### Pandas .corr() method\n",
    "\n",
    "Calculates the correlation coeffecients between all pairs of features in a dataframe, and returns a new dataframe with where the number of rows and columns "
   ],
   "metadata": {
    "collapsed": false
   },
   "id": "83da07e052295641"
  },
  {
   "cell_type": "code",
   "execution_count": 8,
   "outputs": [
    {
     "name": "stderr",
     "output_type": "stream",
     "text": [
      "C:\\Users\\Jaket\\AppData\\Local\\Temp\\ipykernel_25840\\1696369850.py:1: FutureWarning: The default value of numeric_only in DataFrame.corr is deprecated. In a future version, it will default to False. Select only valid columns or specify the value of numeric_only to silence this warning.\n",
      "  correlation_matrix = titanic.corr()\n"
     ]
    },
    {
     "data": {
      "text/plain": "            survived    pclass       age     sibsp     parch      fare  \\\nsurvived    1.000000 -0.338481 -0.077221 -0.035322  0.081629  0.257307   \npclass     -0.338481  1.000000 -0.369226  0.083081  0.018443 -0.549500   \nage        -0.077221 -0.369226  1.000000 -0.308247 -0.189119  0.096067   \nsibsp      -0.035322  0.083081 -0.308247  1.000000  0.414838  0.159651   \nparch       0.081629  0.018443 -0.189119  0.414838  1.000000  0.216225   \nfare        0.257307 -0.549500  0.096067  0.159651  0.216225  1.000000   \nembarked    0.180615 -0.222747  0.037348 -0.067084 -0.024781  0.258913   \nadult_male -0.557080  0.094035  0.280328 -0.253586 -0.349943 -0.182024   \ndeck       -0.294804  0.743251 -0.267987  0.041333 -0.031308 -0.525994   \nalone      -0.203367  0.135207  0.198270 -0.584471 -0.583398 -0.271832   \n\n            embarked  adult_male      deck     alone  \nsurvived    0.180615   -0.557080 -0.294804 -0.203367  \npclass     -0.222747    0.094035  0.743251  0.135207  \nage         0.037348    0.280328 -0.267987  0.198270  \nsibsp      -0.067084   -0.253586  0.041333 -0.584471  \nparch      -0.024781   -0.349943 -0.031308 -0.583398  \nfare        0.258913   -0.182024 -0.525994 -0.271832  \nembarked    1.000000   -0.084055 -0.239419 -0.085858  \nadult_male -0.084055    1.000000  0.098553  0.404744  \ndeck       -0.239419    0.098553  1.000000  0.137515  \nalone      -0.085858    0.404744  0.137515  1.000000  ",
      "text/html": "<div>\n<style scoped>\n    .dataframe tbody tr th:only-of-type {\n        vertical-align: middle;\n    }\n\n    .dataframe tbody tr th {\n        vertical-align: top;\n    }\n\n    .dataframe thead th {\n        text-align: right;\n    }\n</style>\n<table border=\"1\" class=\"dataframe\">\n  <thead>\n    <tr style=\"text-align: right;\">\n      <th></th>\n      <th>survived</th>\n      <th>pclass</th>\n      <th>age</th>\n      <th>sibsp</th>\n      <th>parch</th>\n      <th>fare</th>\n      <th>embarked</th>\n      <th>adult_male</th>\n      <th>deck</th>\n      <th>alone</th>\n    </tr>\n  </thead>\n  <tbody>\n    <tr>\n      <th>survived</th>\n      <td>1.000000</td>\n      <td>-0.338481</td>\n      <td>-0.077221</td>\n      <td>-0.035322</td>\n      <td>0.081629</td>\n      <td>0.257307</td>\n      <td>0.180615</td>\n      <td>-0.557080</td>\n      <td>-0.294804</td>\n      <td>-0.203367</td>\n    </tr>\n    <tr>\n      <th>pclass</th>\n      <td>-0.338481</td>\n      <td>1.000000</td>\n      <td>-0.369226</td>\n      <td>0.083081</td>\n      <td>0.018443</td>\n      <td>-0.549500</td>\n      <td>-0.222747</td>\n      <td>0.094035</td>\n      <td>0.743251</td>\n      <td>0.135207</td>\n    </tr>\n    <tr>\n      <th>age</th>\n      <td>-0.077221</td>\n      <td>-0.369226</td>\n      <td>1.000000</td>\n      <td>-0.308247</td>\n      <td>-0.189119</td>\n      <td>0.096067</td>\n      <td>0.037348</td>\n      <td>0.280328</td>\n      <td>-0.267987</td>\n      <td>0.198270</td>\n    </tr>\n    <tr>\n      <th>sibsp</th>\n      <td>-0.035322</td>\n      <td>0.083081</td>\n      <td>-0.308247</td>\n      <td>1.000000</td>\n      <td>0.414838</td>\n      <td>0.159651</td>\n      <td>-0.067084</td>\n      <td>-0.253586</td>\n      <td>0.041333</td>\n      <td>-0.584471</td>\n    </tr>\n    <tr>\n      <th>parch</th>\n      <td>0.081629</td>\n      <td>0.018443</td>\n      <td>-0.189119</td>\n      <td>0.414838</td>\n      <td>1.000000</td>\n      <td>0.216225</td>\n      <td>-0.024781</td>\n      <td>-0.349943</td>\n      <td>-0.031308</td>\n      <td>-0.583398</td>\n    </tr>\n    <tr>\n      <th>fare</th>\n      <td>0.257307</td>\n      <td>-0.549500</td>\n      <td>0.096067</td>\n      <td>0.159651</td>\n      <td>0.216225</td>\n      <td>1.000000</td>\n      <td>0.258913</td>\n      <td>-0.182024</td>\n      <td>-0.525994</td>\n      <td>-0.271832</td>\n    </tr>\n    <tr>\n      <th>embarked</th>\n      <td>0.180615</td>\n      <td>-0.222747</td>\n      <td>0.037348</td>\n      <td>-0.067084</td>\n      <td>-0.024781</td>\n      <td>0.258913</td>\n      <td>1.000000</td>\n      <td>-0.084055</td>\n      <td>-0.239419</td>\n      <td>-0.085858</td>\n    </tr>\n    <tr>\n      <th>adult_male</th>\n      <td>-0.557080</td>\n      <td>0.094035</td>\n      <td>0.280328</td>\n      <td>-0.253586</td>\n      <td>-0.349943</td>\n      <td>-0.182024</td>\n      <td>-0.084055</td>\n      <td>1.000000</td>\n      <td>0.098553</td>\n      <td>0.404744</td>\n    </tr>\n    <tr>\n      <th>deck</th>\n      <td>-0.294804</td>\n      <td>0.743251</td>\n      <td>-0.267987</td>\n      <td>0.041333</td>\n      <td>-0.031308</td>\n      <td>-0.525994</td>\n      <td>-0.239419</td>\n      <td>0.098553</td>\n      <td>1.000000</td>\n      <td>0.137515</td>\n    </tr>\n    <tr>\n      <th>alone</th>\n      <td>-0.203367</td>\n      <td>0.135207</td>\n      <td>0.198270</td>\n      <td>-0.584471</td>\n      <td>-0.583398</td>\n      <td>-0.271832</td>\n      <td>-0.085858</td>\n      <td>0.404744</td>\n      <td>0.137515</td>\n      <td>1.000000</td>\n    </tr>\n  </tbody>\n</table>\n</div>"
     },
     "execution_count": 8,
     "metadata": {},
     "output_type": "execute_result"
    }
   ],
   "source": [
    "correlation_matrix = titanic.corr()\n",
    "correlation_matrix"
   ],
   "metadata": {
    "collapsed": false,
    "ExecuteTime": {
     "end_time": "2023-10-27T12:40:08.957310600Z",
     "start_time": "2023-10-27T12:40:08.904802200Z"
    }
   },
   "id": "3d99c475f979bc32"
  },
  {
   "cell_type": "code",
   "execution_count": 25,
   "outputs": [],
   "source": [
    "# Setting correlation threshold. Anything above this is considered as highly correlated.\n",
    "threshold = 0.85"
   ],
   "metadata": {
    "collapsed": false,
    "ExecuteTime": {
     "end_time": "2023-10-27T12:46:31.770488200Z",
     "start_time": "2023-10-27T12:46:31.753977Z"
    }
   },
   "id": "5dbcd29180c62513"
  },
  {
   "cell_type": "code",
   "execution_count": 20,
   "outputs": [
    {
     "data": {
      "text/plain": "            survived    pclass       age     sibsp     parch      fare  \\\nsurvived         NaN -0.338481 -0.077221 -0.035322  0.081629  0.257307   \npclass           NaN       NaN -0.369226  0.083081  0.018443 -0.549500   \nage              NaN       NaN       NaN -0.308247 -0.189119  0.096067   \nsibsp            NaN       NaN       NaN       NaN  0.414838  0.159651   \nparch            NaN       NaN       NaN       NaN       NaN  0.216225   \nfare             NaN       NaN       NaN       NaN       NaN       NaN   \nembarked         NaN       NaN       NaN       NaN       NaN       NaN   \nadult_male       NaN       NaN       NaN       NaN       NaN       NaN   \ndeck             NaN       NaN       NaN       NaN       NaN       NaN   \nalone            NaN       NaN       NaN       NaN       NaN       NaN   \n\n            embarked  adult_male      deck     alone  \nsurvived    0.180615   -0.557080 -0.294804 -0.203367  \npclass     -0.222747    0.094035  0.743251  0.135207  \nage         0.037348    0.280328 -0.267987  0.198270  \nsibsp      -0.067084   -0.253586  0.041333 -0.584471  \nparch      -0.024781   -0.349943 -0.031308 -0.583398  \nfare        0.258913   -0.182024 -0.525994 -0.271832  \nembarked         NaN   -0.084055 -0.239419 -0.085858  \nadult_male       NaN         NaN  0.098553  0.404744  \ndeck             NaN         NaN       NaN  0.137515  \nalone            NaN         NaN       NaN       NaN  ",
      "text/html": "<div>\n<style scoped>\n    .dataframe tbody tr th:only-of-type {\n        vertical-align: middle;\n    }\n\n    .dataframe tbody tr th {\n        vertical-align: top;\n    }\n\n    .dataframe thead th {\n        text-align: right;\n    }\n</style>\n<table border=\"1\" class=\"dataframe\">\n  <thead>\n    <tr style=\"text-align: right;\">\n      <th></th>\n      <th>survived</th>\n      <th>pclass</th>\n      <th>age</th>\n      <th>sibsp</th>\n      <th>parch</th>\n      <th>fare</th>\n      <th>embarked</th>\n      <th>adult_male</th>\n      <th>deck</th>\n      <th>alone</th>\n    </tr>\n  </thead>\n  <tbody>\n    <tr>\n      <th>survived</th>\n      <td>NaN</td>\n      <td>-0.338481</td>\n      <td>-0.077221</td>\n      <td>-0.035322</td>\n      <td>0.081629</td>\n      <td>0.257307</td>\n      <td>0.180615</td>\n      <td>-0.557080</td>\n      <td>-0.294804</td>\n      <td>-0.203367</td>\n    </tr>\n    <tr>\n      <th>pclass</th>\n      <td>NaN</td>\n      <td>NaN</td>\n      <td>-0.369226</td>\n      <td>0.083081</td>\n      <td>0.018443</td>\n      <td>-0.549500</td>\n      <td>-0.222747</td>\n      <td>0.094035</td>\n      <td>0.743251</td>\n      <td>0.135207</td>\n    </tr>\n    <tr>\n      <th>age</th>\n      <td>NaN</td>\n      <td>NaN</td>\n      <td>NaN</td>\n      <td>-0.308247</td>\n      <td>-0.189119</td>\n      <td>0.096067</td>\n      <td>0.037348</td>\n      <td>0.280328</td>\n      <td>-0.267987</td>\n      <td>0.198270</td>\n    </tr>\n    <tr>\n      <th>sibsp</th>\n      <td>NaN</td>\n      <td>NaN</td>\n      <td>NaN</td>\n      <td>NaN</td>\n      <td>0.414838</td>\n      <td>0.159651</td>\n      <td>-0.067084</td>\n      <td>-0.253586</td>\n      <td>0.041333</td>\n      <td>-0.584471</td>\n    </tr>\n    <tr>\n      <th>parch</th>\n      <td>NaN</td>\n      <td>NaN</td>\n      <td>NaN</td>\n      <td>NaN</td>\n      <td>NaN</td>\n      <td>0.216225</td>\n      <td>-0.024781</td>\n      <td>-0.349943</td>\n      <td>-0.031308</td>\n      <td>-0.583398</td>\n    </tr>\n    <tr>\n      <th>fare</th>\n      <td>NaN</td>\n      <td>NaN</td>\n      <td>NaN</td>\n      <td>NaN</td>\n      <td>NaN</td>\n      <td>NaN</td>\n      <td>0.258913</td>\n      <td>-0.182024</td>\n      <td>-0.525994</td>\n      <td>-0.271832</td>\n    </tr>\n    <tr>\n      <th>embarked</th>\n      <td>NaN</td>\n      <td>NaN</td>\n      <td>NaN</td>\n      <td>NaN</td>\n      <td>NaN</td>\n      <td>NaN</td>\n      <td>NaN</td>\n      <td>-0.084055</td>\n      <td>-0.239419</td>\n      <td>-0.085858</td>\n    </tr>\n    <tr>\n      <th>adult_male</th>\n      <td>NaN</td>\n      <td>NaN</td>\n      <td>NaN</td>\n      <td>NaN</td>\n      <td>NaN</td>\n      <td>NaN</td>\n      <td>NaN</td>\n      <td>NaN</td>\n      <td>0.098553</td>\n      <td>0.404744</td>\n    </tr>\n    <tr>\n      <th>deck</th>\n      <td>NaN</td>\n      <td>NaN</td>\n      <td>NaN</td>\n      <td>NaN</td>\n      <td>NaN</td>\n      <td>NaN</td>\n      <td>NaN</td>\n      <td>NaN</td>\n      <td>NaN</td>\n      <td>0.137515</td>\n    </tr>\n    <tr>\n      <th>alone</th>\n      <td>NaN</td>\n      <td>NaN</td>\n      <td>NaN</td>\n      <td>NaN</td>\n      <td>NaN</td>\n      <td>NaN</td>\n      <td>NaN</td>\n      <td>NaN</td>\n      <td>NaN</td>\n      <td>NaN</td>\n    </tr>\n  </tbody>\n</table>\n</div>"
     },
     "execution_count": 20,
     "metadata": {},
     "output_type": "execute_result"
    }
   ],
   "source": [
    "import numpy as np\n",
    "\n",
    "upper = correlation_matrix.where(np.triu(np.ones(correlation_matrix.shape), k=1).astype(bool))\n",
    "\n",
    "upper"
   ],
   "metadata": {
    "collapsed": false,
    "ExecuteTime": {
     "end_time": "2023-10-27T12:44:15.215110Z",
     "start_time": "2023-10-27T12:44:15.185604800Z"
    }
   },
   "id": "231ba5dfd2d772b"
  },
  {
   "cell_type": "code",
   "execution_count": 24,
   "outputs": [
    {
     "data": {
      "text/plain": "['deck']"
     },
     "execution_count": 24,
     "metadata": {},
     "output_type": "execute_result"
    }
   ],
   "source": [
    "columns_to_drop = []\n",
    "\n",
    "for i in range(len(correlation_matrix.columns)):\n",
    "    columns_name = correlation_matrix.columns[i]\n",
    "    # print(columns_name, end=\": \")\n",
    "    \n",
    "    for j in range(i):\n",
    "        # print(correlation_matrix.iloc[i, j], end=\", \")  \n",
    "        if correlation_matrix.iloc[i, j] > threshold:\n",
    "            #row_name = correlation_matrix.columns[j]\n",
    "            columns_to_drop.append(columns_name)\n",
    "            break\n",
    "    # print()\n",
    "    \n",
    "columns_to_drop"
   ],
   "metadata": {
    "collapsed": false,
    "ExecuteTime": {
     "end_time": "2023-10-27T12:46:20.917954300Z",
     "start_time": "2023-10-27T12:46:20.896950500Z"
    }
   },
   "id": "5cf26ca166171702"
  },
  {
   "cell_type": "code",
   "execution_count": 22,
   "outputs": [
    {
     "data": {
      "text/plain": "     survived  pclass     sex   age  sibsp  parch     fare  embarked   class  \\\n0           0       3    male  22.0      1      0   7.2500       0.0   Third   \n1           1       1  female  38.0      1      0  71.2833       1.0   First   \n2           1       3  female  26.0      0      0   7.9250       0.0   Third   \n3           1       1  female  35.0      1      0  53.1000       0.0   First   \n4           0       3    male  35.0      0      0   8.0500       0.0   Third   \n..        ...     ...     ...   ...    ...    ...      ...       ...     ...   \n886         0       2    male  27.0      0      0  13.0000       0.0  Second   \n887         1       1  female  19.0      0      0  30.0000       0.0   First   \n888         0       3  female   NaN      1      2  23.4500       0.0   Third   \n889         1       1    male  26.0      0      0  30.0000       1.0   First   \n890         0       3    male  32.0      0      0   7.7500       NaN   Third   \n\n       who  adult_male  deck  embark_town alive  alone  \n0      man        True     7  Southampton    no  False  \n1    woman       False     2    Cherbourg   yes  False  \n2    woman       False     7  Southampton   yes   True  \n3    woman       False     2  Southampton   yes  False  \n4      man        True     7  Southampton    no   True  \n..     ...         ...   ...          ...   ...    ...  \n886    man        True     7  Southampton    no   True  \n887  woman       False     1  Southampton   yes   True  \n888  woman       False     7  Southampton    no  False  \n889    man        True     2    Cherbourg   yes   True  \n890    man        True     7   Queenstown    no   True  \n\n[891 rows x 15 columns]",
      "text/html": "<div>\n<style scoped>\n    .dataframe tbody tr th:only-of-type {\n        vertical-align: middle;\n    }\n\n    .dataframe tbody tr th {\n        vertical-align: top;\n    }\n\n    .dataframe thead th {\n        text-align: right;\n    }\n</style>\n<table border=\"1\" class=\"dataframe\">\n  <thead>\n    <tr style=\"text-align: right;\">\n      <th></th>\n      <th>survived</th>\n      <th>pclass</th>\n      <th>sex</th>\n      <th>age</th>\n      <th>sibsp</th>\n      <th>parch</th>\n      <th>fare</th>\n      <th>embarked</th>\n      <th>class</th>\n      <th>who</th>\n      <th>adult_male</th>\n      <th>deck</th>\n      <th>embark_town</th>\n      <th>alive</th>\n      <th>alone</th>\n    </tr>\n  </thead>\n  <tbody>\n    <tr>\n      <th>0</th>\n      <td>0</td>\n      <td>3</td>\n      <td>male</td>\n      <td>22.0</td>\n      <td>1</td>\n      <td>0</td>\n      <td>7.2500</td>\n      <td>0.0</td>\n      <td>Third</td>\n      <td>man</td>\n      <td>True</td>\n      <td>7</td>\n      <td>Southampton</td>\n      <td>no</td>\n      <td>False</td>\n    </tr>\n    <tr>\n      <th>1</th>\n      <td>1</td>\n      <td>1</td>\n      <td>female</td>\n      <td>38.0</td>\n      <td>1</td>\n      <td>0</td>\n      <td>71.2833</td>\n      <td>1.0</td>\n      <td>First</td>\n      <td>woman</td>\n      <td>False</td>\n      <td>2</td>\n      <td>Cherbourg</td>\n      <td>yes</td>\n      <td>False</td>\n    </tr>\n    <tr>\n      <th>2</th>\n      <td>1</td>\n      <td>3</td>\n      <td>female</td>\n      <td>26.0</td>\n      <td>0</td>\n      <td>0</td>\n      <td>7.9250</td>\n      <td>0.0</td>\n      <td>Third</td>\n      <td>woman</td>\n      <td>False</td>\n      <td>7</td>\n      <td>Southampton</td>\n      <td>yes</td>\n      <td>True</td>\n    </tr>\n    <tr>\n      <th>3</th>\n      <td>1</td>\n      <td>1</td>\n      <td>female</td>\n      <td>35.0</td>\n      <td>1</td>\n      <td>0</td>\n      <td>53.1000</td>\n      <td>0.0</td>\n      <td>First</td>\n      <td>woman</td>\n      <td>False</td>\n      <td>2</td>\n      <td>Southampton</td>\n      <td>yes</td>\n      <td>False</td>\n    </tr>\n    <tr>\n      <th>4</th>\n      <td>0</td>\n      <td>3</td>\n      <td>male</td>\n      <td>35.0</td>\n      <td>0</td>\n      <td>0</td>\n      <td>8.0500</td>\n      <td>0.0</td>\n      <td>Third</td>\n      <td>man</td>\n      <td>True</td>\n      <td>7</td>\n      <td>Southampton</td>\n      <td>no</td>\n      <td>True</td>\n    </tr>\n    <tr>\n      <th>...</th>\n      <td>...</td>\n      <td>...</td>\n      <td>...</td>\n      <td>...</td>\n      <td>...</td>\n      <td>...</td>\n      <td>...</td>\n      <td>...</td>\n      <td>...</td>\n      <td>...</td>\n      <td>...</td>\n      <td>...</td>\n      <td>...</td>\n      <td>...</td>\n      <td>...</td>\n    </tr>\n    <tr>\n      <th>886</th>\n      <td>0</td>\n      <td>2</td>\n      <td>male</td>\n      <td>27.0</td>\n      <td>0</td>\n      <td>0</td>\n      <td>13.0000</td>\n      <td>0.0</td>\n      <td>Second</td>\n      <td>man</td>\n      <td>True</td>\n      <td>7</td>\n      <td>Southampton</td>\n      <td>no</td>\n      <td>True</td>\n    </tr>\n    <tr>\n      <th>887</th>\n      <td>1</td>\n      <td>1</td>\n      <td>female</td>\n      <td>19.0</td>\n      <td>0</td>\n      <td>0</td>\n      <td>30.0000</td>\n      <td>0.0</td>\n      <td>First</td>\n      <td>woman</td>\n      <td>False</td>\n      <td>1</td>\n      <td>Southampton</td>\n      <td>yes</td>\n      <td>True</td>\n    </tr>\n    <tr>\n      <th>888</th>\n      <td>0</td>\n      <td>3</td>\n      <td>female</td>\n      <td>NaN</td>\n      <td>1</td>\n      <td>2</td>\n      <td>23.4500</td>\n      <td>0.0</td>\n      <td>Third</td>\n      <td>woman</td>\n      <td>False</td>\n      <td>7</td>\n      <td>Southampton</td>\n      <td>no</td>\n      <td>False</td>\n    </tr>\n    <tr>\n      <th>889</th>\n      <td>1</td>\n      <td>1</td>\n      <td>male</td>\n      <td>26.0</td>\n      <td>0</td>\n      <td>0</td>\n      <td>30.0000</td>\n      <td>1.0</td>\n      <td>First</td>\n      <td>man</td>\n      <td>True</td>\n      <td>2</td>\n      <td>Cherbourg</td>\n      <td>yes</td>\n      <td>True</td>\n    </tr>\n    <tr>\n      <th>890</th>\n      <td>0</td>\n      <td>3</td>\n      <td>male</td>\n      <td>32.0</td>\n      <td>0</td>\n      <td>0</td>\n      <td>7.7500</td>\n      <td>NaN</td>\n      <td>Third</td>\n      <td>man</td>\n      <td>True</td>\n      <td>7</td>\n      <td>Queenstown</td>\n      <td>no</td>\n      <td>True</td>\n    </tr>\n  </tbody>\n</table>\n<p>891 rows × 15 columns</p>\n</div>"
     },
     "execution_count": 22,
     "metadata": {},
     "output_type": "execute_result"
    }
   ],
   "source": [
    "titanic.drop(columns=columns_to_drop)"
   ],
   "metadata": {
    "collapsed": false,
    "ExecuteTime": {
     "end_time": "2023-10-27T12:44:48.346052900Z",
     "start_time": "2023-10-27T12:44:48.288543100Z"
    }
   },
   "id": "65780b4bdadb1ae"
  },
  {
   "cell_type": "code",
   "execution_count": null,
   "outputs": [],
   "source": [],
   "metadata": {
    "collapsed": false
   },
   "id": "607fc253e0f89624"
  }
 ],
 "metadata": {
  "kernelspec": {
   "display_name": "Python 3",
   "language": "python",
   "name": "python3"
  },
  "language_info": {
   "codemirror_mode": {
    "name": "ipython",
    "version": 2
   },
   "file_extension": ".py",
   "mimetype": "text/x-python",
   "name": "python",
   "nbconvert_exporter": "python",
   "pygments_lexer": "ipython2",
   "version": "2.7.6"
  }
 },
 "nbformat": 4,
 "nbformat_minor": 5
}

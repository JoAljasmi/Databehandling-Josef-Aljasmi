{
 "cells": [
  {
   "cell_type": "markdown",
   "source": [
    "# Combining datasets\n",
    "Pandas provides various facilities for easily combining to their Series or Dataframes.\n",
    "\n",
    "- **Concat:** combining DataFrames across rows or columns\n",
    "- **Join:** combining data on a key column and index.\n",
    "- **Merge:** combining data on common columns or indexes."
   ],
   "metadata": {
    "collapsed": false
   },
   "id": "5a180d3ff84a9c48"
  },
  {
   "cell_type": "code",
   "execution_count": 1,
   "outputs": [],
   "source": [
    "from helpers import sample_df, hdisplay, nowrap_display\n",
    "import pandas as pd"
   ],
   "metadata": {
    "collapsed": false,
    "ExecuteTime": {
     "end_time": "2023-11-11T10:05:09.469056300Z",
     "start_time": "2023-11-11T10:05:09.439218200Z"
    }
   },
   "id": "f4b4f3ac5840a3d6"
  },
  {
   "cell_type": "markdown",
   "source": [
    "## Concat\n",
    "Pandas .concat() method concatenates dataframe row-, or column wise,\n",
    "with optional set logic (union or intersection) of the indexes on the other axis.\n",
    "\n",
    "Concat simply stacks multiple dataframes together either vertically, or horizontally after aligning on row/column."
   ],
   "metadata": {
    "collapsed": false
   },
   "id": "9b2c98d85bc83824"
  },
  {
   "cell_type": "code",
   "execution_count": 2,
   "outputs": [
    {
     "data": {
      "text/html": "<style type=\"text/css\">\n#T_24923 th {\n  text-align: left;\n  vertical-align: top;\n}\n</style>\n<table id=\"T_24923\" style='display:inline; margin-right: 50px;'>\n  <caption>Left</caption>\n  <thead>\n    <tr>\n      <th class=\"blank level0\" >&nbsp;</th>\n      <th id=\"T_24923_level0_col0\" class=\"col_heading level0 col0\" >A</th>\n      <th id=\"T_24923_level0_col1\" class=\"col_heading level0 col1\" >B</th>\n      <th id=\"T_24923_level0_col2\" class=\"col_heading level0 col2\" >C</th>\n      <th id=\"T_24923_level0_col3\" class=\"col_heading level0 col3\" >D</th>\n    </tr>\n  </thead>\n  <tbody>\n    <tr>\n      <th id=\"T_24923_level0_row0\" class=\"row_heading level0 row0\" >0</th>\n      <td id=\"T_24923_row0_col0\" class=\"data row0 col0\" >L_A0</td>\n      <td id=\"T_24923_row0_col1\" class=\"data row0 col1\" >L_B0</td>\n      <td id=\"T_24923_row0_col2\" class=\"data row0 col2\" >L_C0</td>\n      <td id=\"T_24923_row0_col3\" class=\"data row0 col3\" >L_D0</td>\n    </tr>\n    <tr>\n      <th id=\"T_24923_level0_row1\" class=\"row_heading level0 row1\" >1</th>\n      <td id=\"T_24923_row1_col0\" class=\"data row1 col0\" >L_A1</td>\n      <td id=\"T_24923_row1_col1\" class=\"data row1 col1\" >L_B1</td>\n      <td id=\"T_24923_row1_col2\" class=\"data row1 col2\" >L_C1</td>\n      <td id=\"T_24923_row1_col3\" class=\"data row1 col3\" >L_D1</td>\n    </tr>\n    <tr>\n      <th id=\"T_24923_level0_row2\" class=\"row_heading level0 row2\" >2</th>\n      <td id=\"T_24923_row2_col0\" class=\"data row2 col0\" >L_A2</td>\n      <td id=\"T_24923_row2_col1\" class=\"data row2 col1\" >L_B2</td>\n      <td id=\"T_24923_row2_col2\" class=\"data row2 col2\" >L_C2</td>\n      <td id=\"T_24923_row2_col3\" class=\"data row2 col3\" >L_D2</td>\n    </tr>\n    <tr>\n      <th id=\"T_24923_level0_row3\" class=\"row_heading level0 row3\" >3</th>\n      <td id=\"T_24923_row3_col0\" class=\"data row3 col0\" >L_A3</td>\n      <td id=\"T_24923_row3_col1\" class=\"data row3 col1\" >L_B3</td>\n      <td id=\"T_24923_row3_col2\" class=\"data row3 col2\" >L_C3</td>\n      <td id=\"T_24923_row3_col3\" class=\"data row3 col3\" >L_D3</td>\n    </tr>\n  </tbody>\n</table>\n<style type=\"text/css\">\n#T_d03c5 th {\n  text-align: left;\n  vertical-align: top;\n}\n</style>\n<table id=\"T_d03c5\" style='display:inline; margin-right: 50px;'>\n  <caption>Right</caption>\n  <thead>\n    <tr>\n      <th class=\"blank level0\" >&nbsp;</th>\n      <th id=\"T_d03c5_level0_col0\" class=\"col_heading level0 col0\" >A</th>\n      <th id=\"T_d03c5_level0_col1\" class=\"col_heading level0 col1\" >B</th>\n      <th id=\"T_d03c5_level0_col2\" class=\"col_heading level0 col2\" >C</th>\n      <th id=\"T_d03c5_level0_col3\" class=\"col_heading level0 col3\" >D</th>\n    </tr>\n  </thead>\n  <tbody>\n    <tr>\n      <th id=\"T_d03c5_level0_row0\" class=\"row_heading level0 row0\" >0</th>\n      <td id=\"T_d03c5_row0_col0\" class=\"data row0 col0\" >R_A0</td>\n      <td id=\"T_d03c5_row0_col1\" class=\"data row0 col1\" >R_B0</td>\n      <td id=\"T_d03c5_row0_col2\" class=\"data row0 col2\" >R_C0</td>\n      <td id=\"T_d03c5_row0_col3\" class=\"data row0 col3\" >R_D0</td>\n    </tr>\n    <tr>\n      <th id=\"T_d03c5_level0_row1\" class=\"row_heading level0 row1\" >1</th>\n      <td id=\"T_d03c5_row1_col0\" class=\"data row1 col0\" >R_A1</td>\n      <td id=\"T_d03c5_row1_col1\" class=\"data row1 col1\" >R_B1</td>\n      <td id=\"T_d03c5_row1_col2\" class=\"data row1 col2\" >R_C1</td>\n      <td id=\"T_d03c5_row1_col3\" class=\"data row1 col3\" >R_D1</td>\n    </tr>\n    <tr>\n      <th id=\"T_d03c5_level0_row2\" class=\"row_heading level0 row2\" >2</th>\n      <td id=\"T_d03c5_row2_col0\" class=\"data row2 col0\" >R_A2</td>\n      <td id=\"T_d03c5_row2_col1\" class=\"data row2 col1\" >R_B2</td>\n      <td id=\"T_d03c5_row2_col2\" class=\"data row2 col2\" >R_C2</td>\n      <td id=\"T_d03c5_row2_col3\" class=\"data row2 col3\" >R_D2</td>\n    </tr>\n    <tr>\n      <th id=\"T_d03c5_level0_row3\" class=\"row_heading level0 row3\" >3</th>\n      <td id=\"T_d03c5_row3_col0\" class=\"data row3 col0\" >R_A3</td>\n      <td id=\"T_d03c5_row3_col1\" class=\"data row3 col1\" >R_B3</td>\n      <td id=\"T_d03c5_row3_col2\" class=\"data row3 col2\" >R_C3</td>\n      <td id=\"T_d03c5_row3_col3\" class=\"data row3 col3\" >R_D3</td>\n    </tr>\n  </tbody>\n</table>\n"
     },
     "metadata": {},
     "output_type": "display_data"
    }
   ],
   "source": [
    "# Sample data\n",
    "left = sample_df(\"A0\", \"D3\", prefix=\"L_\")\n",
    "right = sample_df(\"A0\", \"D3\", prefix=\"R_\")\n",
    "\n",
    "hdisplay([left, right], [\"Left\", \"Right\"])"
   ],
   "metadata": {
    "collapsed": false,
    "ExecuteTime": {
     "end_time": "2023-11-11T10:19:10.846985700Z",
     "start_time": "2023-11-11T10:19:10.766971500Z"
    }
   },
   "id": "90e0324087a81d5c"
  },
  {
   "cell_type": "code",
   "execution_count": 3,
   "outputs": [
    {
     "data": {
      "text/html": "<style type=\"text/css\">\n#T_23b40 th {\n  text-align: left;\n  vertical-align: top;\n}\n</style>\n<table id=\"T_23b40\" style='display:inline; margin-right: 50px;'>\n  <caption>axis='index'</caption>\n  <thead>\n    <tr>\n      <th class=\"blank level0\" >&nbsp;</th>\n      <th id=\"T_23b40_level0_col0\" class=\"col_heading level0 col0\" >A</th>\n      <th id=\"T_23b40_level0_col1\" class=\"col_heading level0 col1\" >B</th>\n      <th id=\"T_23b40_level0_col2\" class=\"col_heading level0 col2\" >C</th>\n      <th id=\"T_23b40_level0_col3\" class=\"col_heading level0 col3\" >D</th>\n    </tr>\n  </thead>\n  <tbody>\n    <tr>\n      <th id=\"T_23b40_level0_row0\" class=\"row_heading level0 row0\" >0</th>\n      <td id=\"T_23b40_row0_col0\" class=\"data row0 col0\" >L_A0</td>\n      <td id=\"T_23b40_row0_col1\" class=\"data row0 col1\" >L_B0</td>\n      <td id=\"T_23b40_row0_col2\" class=\"data row0 col2\" >L_C0</td>\n      <td id=\"T_23b40_row0_col3\" class=\"data row0 col3\" >L_D0</td>\n    </tr>\n    <tr>\n      <th id=\"T_23b40_level0_row1\" class=\"row_heading level0 row1\" >1</th>\n      <td id=\"T_23b40_row1_col0\" class=\"data row1 col0\" >L_A1</td>\n      <td id=\"T_23b40_row1_col1\" class=\"data row1 col1\" >L_B1</td>\n      <td id=\"T_23b40_row1_col2\" class=\"data row1 col2\" >L_C1</td>\n      <td id=\"T_23b40_row1_col3\" class=\"data row1 col3\" >L_D1</td>\n    </tr>\n    <tr>\n      <th id=\"T_23b40_level0_row2\" class=\"row_heading level0 row2\" >2</th>\n      <td id=\"T_23b40_row2_col0\" class=\"data row2 col0\" >L_A2</td>\n      <td id=\"T_23b40_row2_col1\" class=\"data row2 col1\" >L_B2</td>\n      <td id=\"T_23b40_row2_col2\" class=\"data row2 col2\" >L_C2</td>\n      <td id=\"T_23b40_row2_col3\" class=\"data row2 col3\" >L_D2</td>\n    </tr>\n    <tr>\n      <th id=\"T_23b40_level0_row3\" class=\"row_heading level0 row3\" >3</th>\n      <td id=\"T_23b40_row3_col0\" class=\"data row3 col0\" >L_A3</td>\n      <td id=\"T_23b40_row3_col1\" class=\"data row3 col1\" >L_B3</td>\n      <td id=\"T_23b40_row3_col2\" class=\"data row3 col2\" >L_C3</td>\n      <td id=\"T_23b40_row3_col3\" class=\"data row3 col3\" >L_D3</td>\n    </tr>\n    <tr>\n      <th id=\"T_23b40_level0_row4\" class=\"row_heading level0 row4\" >0</th>\n      <td id=\"T_23b40_row4_col0\" class=\"data row4 col0\" >R_A0</td>\n      <td id=\"T_23b40_row4_col1\" class=\"data row4 col1\" >R_B0</td>\n      <td id=\"T_23b40_row4_col2\" class=\"data row4 col2\" >R_C0</td>\n      <td id=\"T_23b40_row4_col3\" class=\"data row4 col3\" >R_D0</td>\n    </tr>\n    <tr>\n      <th id=\"T_23b40_level0_row5\" class=\"row_heading level0 row5\" >1</th>\n      <td id=\"T_23b40_row5_col0\" class=\"data row5 col0\" >R_A1</td>\n      <td id=\"T_23b40_row5_col1\" class=\"data row5 col1\" >R_B1</td>\n      <td id=\"T_23b40_row5_col2\" class=\"data row5 col2\" >R_C1</td>\n      <td id=\"T_23b40_row5_col3\" class=\"data row5 col3\" >R_D1</td>\n    </tr>\n    <tr>\n      <th id=\"T_23b40_level0_row6\" class=\"row_heading level0 row6\" >2</th>\n      <td id=\"T_23b40_row6_col0\" class=\"data row6 col0\" >R_A2</td>\n      <td id=\"T_23b40_row6_col1\" class=\"data row6 col1\" >R_B2</td>\n      <td id=\"T_23b40_row6_col2\" class=\"data row6 col2\" >R_C2</td>\n      <td id=\"T_23b40_row6_col3\" class=\"data row6 col3\" >R_D2</td>\n    </tr>\n    <tr>\n      <th id=\"T_23b40_level0_row7\" class=\"row_heading level0 row7\" >3</th>\n      <td id=\"T_23b40_row7_col0\" class=\"data row7 col0\" >R_A3</td>\n      <td id=\"T_23b40_row7_col1\" class=\"data row7 col1\" >R_B3</td>\n      <td id=\"T_23b40_row7_col2\" class=\"data row7 col2\" >R_C3</td>\n      <td id=\"T_23b40_row7_col3\" class=\"data row7 col3\" >R_D3</td>\n    </tr>\n  </tbody>\n</table>\n<style type=\"text/css\">\n#T_c3864 th {\n  text-align: left;\n  vertical-align: top;\n}\n</style>\n<table id=\"T_c3864\" style='display:inline; margin-right: 50px;'>\n  <caption>axis='columns'</caption>\n  <thead>\n    <tr>\n      <th class=\"blank level0\" >&nbsp;</th>\n      <th id=\"T_c3864_level0_col0\" class=\"col_heading level0 col0\" >A</th>\n      <th id=\"T_c3864_level0_col1\" class=\"col_heading level0 col1\" >B</th>\n      <th id=\"T_c3864_level0_col2\" class=\"col_heading level0 col2\" >C</th>\n      <th id=\"T_c3864_level0_col3\" class=\"col_heading level0 col3\" >D</th>\n      <th id=\"T_c3864_level0_col4\" class=\"col_heading level0 col4\" >A</th>\n      <th id=\"T_c3864_level0_col5\" class=\"col_heading level0 col5\" >B</th>\n      <th id=\"T_c3864_level0_col6\" class=\"col_heading level0 col6\" >C</th>\n      <th id=\"T_c3864_level0_col7\" class=\"col_heading level0 col7\" >D</th>\n    </tr>\n  </thead>\n  <tbody>\n    <tr>\n      <th id=\"T_c3864_level0_row0\" class=\"row_heading level0 row0\" >0</th>\n      <td id=\"T_c3864_row0_col0\" class=\"data row0 col0\" >L_A0</td>\n      <td id=\"T_c3864_row0_col1\" class=\"data row0 col1\" >L_B0</td>\n      <td id=\"T_c3864_row0_col2\" class=\"data row0 col2\" >L_C0</td>\n      <td id=\"T_c3864_row0_col3\" class=\"data row0 col3\" >L_D0</td>\n      <td id=\"T_c3864_row0_col4\" class=\"data row0 col4\" >R_A0</td>\n      <td id=\"T_c3864_row0_col5\" class=\"data row0 col5\" >R_B0</td>\n      <td id=\"T_c3864_row0_col6\" class=\"data row0 col6\" >R_C0</td>\n      <td id=\"T_c3864_row0_col7\" class=\"data row0 col7\" >R_D0</td>\n    </tr>\n    <tr>\n      <th id=\"T_c3864_level0_row1\" class=\"row_heading level0 row1\" >1</th>\n      <td id=\"T_c3864_row1_col0\" class=\"data row1 col0\" >L_A1</td>\n      <td id=\"T_c3864_row1_col1\" class=\"data row1 col1\" >L_B1</td>\n      <td id=\"T_c3864_row1_col2\" class=\"data row1 col2\" >L_C1</td>\n      <td id=\"T_c3864_row1_col3\" class=\"data row1 col3\" >L_D1</td>\n      <td id=\"T_c3864_row1_col4\" class=\"data row1 col4\" >R_A1</td>\n      <td id=\"T_c3864_row1_col5\" class=\"data row1 col5\" >R_B1</td>\n      <td id=\"T_c3864_row1_col6\" class=\"data row1 col6\" >R_C1</td>\n      <td id=\"T_c3864_row1_col7\" class=\"data row1 col7\" >R_D1</td>\n    </tr>\n    <tr>\n      <th id=\"T_c3864_level0_row2\" class=\"row_heading level0 row2\" >2</th>\n      <td id=\"T_c3864_row2_col0\" class=\"data row2 col0\" >L_A2</td>\n      <td id=\"T_c3864_row2_col1\" class=\"data row2 col1\" >L_B2</td>\n      <td id=\"T_c3864_row2_col2\" class=\"data row2 col2\" >L_C2</td>\n      <td id=\"T_c3864_row2_col3\" class=\"data row2 col3\" >L_D2</td>\n      <td id=\"T_c3864_row2_col4\" class=\"data row2 col4\" >R_A2</td>\n      <td id=\"T_c3864_row2_col5\" class=\"data row2 col5\" >R_B2</td>\n      <td id=\"T_c3864_row2_col6\" class=\"data row2 col6\" >R_C2</td>\n      <td id=\"T_c3864_row2_col7\" class=\"data row2 col7\" >R_D2</td>\n    </tr>\n    <tr>\n      <th id=\"T_c3864_level0_row3\" class=\"row_heading level0 row3\" >3</th>\n      <td id=\"T_c3864_row3_col0\" class=\"data row3 col0\" >L_A3</td>\n      <td id=\"T_c3864_row3_col1\" class=\"data row3 col1\" >L_B3</td>\n      <td id=\"T_c3864_row3_col2\" class=\"data row3 col2\" >L_C3</td>\n      <td id=\"T_c3864_row3_col3\" class=\"data row3 col3\" >L_D3</td>\n      <td id=\"T_c3864_row3_col4\" class=\"data row3 col4\" >R_A3</td>\n      <td id=\"T_c3864_row3_col5\" class=\"data row3 col5\" >R_B3</td>\n      <td id=\"T_c3864_row3_col6\" class=\"data row3 col6\" >R_C3</td>\n      <td id=\"T_c3864_row3_col7\" class=\"data row3 col7\" >R_D3</td>\n    </tr>\n  </tbody>\n</table>\n"
     },
     "metadata": {},
     "output_type": "display_data"
    }
   ],
   "source": [
    "hdisplay([\n",
    "    pd.concat([left, right], axis=\"index\"),\n",
    "    pd.concat([left, right], axis=\"columns\")],\n",
    "    [\"axis='index'\", \"axis='columns'\"]\n",
    ")"
   ],
   "metadata": {
    "collapsed": false,
    "ExecuteTime": {
     "end_time": "2023-11-11T10:19:15.176965900Z",
     "start_time": "2023-11-11T10:19:15.151962100Z"
    }
   },
   "id": "4327997f704543d8"
  },
  {
   "cell_type": "code",
   "execution_count": 4,
   "outputs": [
    {
     "data": {
      "text/html": "<style type=\"text/css\">\n#T_86971 th {\n  text-align: left;\n  vertical-align: top;\n}\n</style>\n<table id=\"T_86971\" style='display:inline; margin-right: 50px;'>\n  <caption>ignore_index=False</caption>\n  <thead>\n    <tr>\n      <th class=\"blank level0\" >&nbsp;</th>\n      <th id=\"T_86971_level0_col0\" class=\"col_heading level0 col0\" >A</th>\n      <th id=\"T_86971_level0_col1\" class=\"col_heading level0 col1\" >B</th>\n      <th id=\"T_86971_level0_col2\" class=\"col_heading level0 col2\" >C</th>\n      <th id=\"T_86971_level0_col3\" class=\"col_heading level0 col3\" >D</th>\n    </tr>\n  </thead>\n  <tbody>\n    <tr>\n      <th id=\"T_86971_level0_row0\" class=\"row_heading level0 row0\" >0</th>\n      <td id=\"T_86971_row0_col0\" class=\"data row0 col0\" >L_A0</td>\n      <td id=\"T_86971_row0_col1\" class=\"data row0 col1\" >L_B0</td>\n      <td id=\"T_86971_row0_col2\" class=\"data row0 col2\" >L_C0</td>\n      <td id=\"T_86971_row0_col3\" class=\"data row0 col3\" >L_D0</td>\n    </tr>\n    <tr>\n      <th id=\"T_86971_level0_row1\" class=\"row_heading level0 row1\" >1</th>\n      <td id=\"T_86971_row1_col0\" class=\"data row1 col0\" >L_A1</td>\n      <td id=\"T_86971_row1_col1\" class=\"data row1 col1\" >L_B1</td>\n      <td id=\"T_86971_row1_col2\" class=\"data row1 col2\" >L_C1</td>\n      <td id=\"T_86971_row1_col3\" class=\"data row1 col3\" >L_D1</td>\n    </tr>\n    <tr>\n      <th id=\"T_86971_level0_row2\" class=\"row_heading level0 row2\" >2</th>\n      <td id=\"T_86971_row2_col0\" class=\"data row2 col0\" >L_A2</td>\n      <td id=\"T_86971_row2_col1\" class=\"data row2 col1\" >L_B2</td>\n      <td id=\"T_86971_row2_col2\" class=\"data row2 col2\" >L_C2</td>\n      <td id=\"T_86971_row2_col3\" class=\"data row2 col3\" >L_D2</td>\n    </tr>\n    <tr>\n      <th id=\"T_86971_level0_row3\" class=\"row_heading level0 row3\" >3</th>\n      <td id=\"T_86971_row3_col0\" class=\"data row3 col0\" >L_A3</td>\n      <td id=\"T_86971_row3_col1\" class=\"data row3 col1\" >L_B3</td>\n      <td id=\"T_86971_row3_col2\" class=\"data row3 col2\" >L_C3</td>\n      <td id=\"T_86971_row3_col3\" class=\"data row3 col3\" >L_D3</td>\n    </tr>\n    <tr>\n      <th id=\"T_86971_level0_row4\" class=\"row_heading level0 row4\" >0</th>\n      <td id=\"T_86971_row4_col0\" class=\"data row4 col0\" >R_A0</td>\n      <td id=\"T_86971_row4_col1\" class=\"data row4 col1\" >R_B0</td>\n      <td id=\"T_86971_row4_col2\" class=\"data row4 col2\" >R_C0</td>\n      <td id=\"T_86971_row4_col3\" class=\"data row4 col3\" >R_D0</td>\n    </tr>\n    <tr>\n      <th id=\"T_86971_level0_row5\" class=\"row_heading level0 row5\" >1</th>\n      <td id=\"T_86971_row5_col0\" class=\"data row5 col0\" >R_A1</td>\n      <td id=\"T_86971_row5_col1\" class=\"data row5 col1\" >R_B1</td>\n      <td id=\"T_86971_row5_col2\" class=\"data row5 col2\" >R_C1</td>\n      <td id=\"T_86971_row5_col3\" class=\"data row5 col3\" >R_D1</td>\n    </tr>\n    <tr>\n      <th id=\"T_86971_level0_row6\" class=\"row_heading level0 row6\" >2</th>\n      <td id=\"T_86971_row6_col0\" class=\"data row6 col0\" >R_A2</td>\n      <td id=\"T_86971_row6_col1\" class=\"data row6 col1\" >R_B2</td>\n      <td id=\"T_86971_row6_col2\" class=\"data row6 col2\" >R_C2</td>\n      <td id=\"T_86971_row6_col3\" class=\"data row6 col3\" >R_D2</td>\n    </tr>\n    <tr>\n      <th id=\"T_86971_level0_row7\" class=\"row_heading level0 row7\" >3</th>\n      <td id=\"T_86971_row7_col0\" class=\"data row7 col0\" >R_A3</td>\n      <td id=\"T_86971_row7_col1\" class=\"data row7 col1\" >R_B3</td>\n      <td id=\"T_86971_row7_col2\" class=\"data row7 col2\" >R_C3</td>\n      <td id=\"T_86971_row7_col3\" class=\"data row7 col3\" >R_D3</td>\n    </tr>\n  </tbody>\n</table>\n<style type=\"text/css\">\n#T_8fdf4 th {\n  text-align: left;\n  vertical-align: top;\n}\n</style>\n<table id=\"T_8fdf4\" style='display:inline; margin-right: 50px;'>\n  <caption>ignore_index=True</caption>\n  <thead>\n    <tr>\n      <th class=\"blank level0\" >&nbsp;</th>\n      <th id=\"T_8fdf4_level0_col0\" class=\"col_heading level0 col0\" >A</th>\n      <th id=\"T_8fdf4_level0_col1\" class=\"col_heading level0 col1\" >B</th>\n      <th id=\"T_8fdf4_level0_col2\" class=\"col_heading level0 col2\" >C</th>\n      <th id=\"T_8fdf4_level0_col3\" class=\"col_heading level0 col3\" >D</th>\n    </tr>\n  </thead>\n  <tbody>\n    <tr>\n      <th id=\"T_8fdf4_level0_row0\" class=\"row_heading level0 row0\" >0</th>\n      <td id=\"T_8fdf4_row0_col0\" class=\"data row0 col0\" >L_A0</td>\n      <td id=\"T_8fdf4_row0_col1\" class=\"data row0 col1\" >L_B0</td>\n      <td id=\"T_8fdf4_row0_col2\" class=\"data row0 col2\" >L_C0</td>\n      <td id=\"T_8fdf4_row0_col3\" class=\"data row0 col3\" >L_D0</td>\n    </tr>\n    <tr>\n      <th id=\"T_8fdf4_level0_row1\" class=\"row_heading level0 row1\" >1</th>\n      <td id=\"T_8fdf4_row1_col0\" class=\"data row1 col0\" >L_A1</td>\n      <td id=\"T_8fdf4_row1_col1\" class=\"data row1 col1\" >L_B1</td>\n      <td id=\"T_8fdf4_row1_col2\" class=\"data row1 col2\" >L_C1</td>\n      <td id=\"T_8fdf4_row1_col3\" class=\"data row1 col3\" >L_D1</td>\n    </tr>\n    <tr>\n      <th id=\"T_8fdf4_level0_row2\" class=\"row_heading level0 row2\" >2</th>\n      <td id=\"T_8fdf4_row2_col0\" class=\"data row2 col0\" >L_A2</td>\n      <td id=\"T_8fdf4_row2_col1\" class=\"data row2 col1\" >L_B2</td>\n      <td id=\"T_8fdf4_row2_col2\" class=\"data row2 col2\" >L_C2</td>\n      <td id=\"T_8fdf4_row2_col3\" class=\"data row2 col3\" >L_D2</td>\n    </tr>\n    <tr>\n      <th id=\"T_8fdf4_level0_row3\" class=\"row_heading level0 row3\" >3</th>\n      <td id=\"T_8fdf4_row3_col0\" class=\"data row3 col0\" >L_A3</td>\n      <td id=\"T_8fdf4_row3_col1\" class=\"data row3 col1\" >L_B3</td>\n      <td id=\"T_8fdf4_row3_col2\" class=\"data row3 col2\" >L_C3</td>\n      <td id=\"T_8fdf4_row3_col3\" class=\"data row3 col3\" >L_D3</td>\n    </tr>\n    <tr>\n      <th id=\"T_8fdf4_level0_row4\" class=\"row_heading level0 row4\" >4</th>\n      <td id=\"T_8fdf4_row4_col0\" class=\"data row4 col0\" >R_A0</td>\n      <td id=\"T_8fdf4_row4_col1\" class=\"data row4 col1\" >R_B0</td>\n      <td id=\"T_8fdf4_row4_col2\" class=\"data row4 col2\" >R_C0</td>\n      <td id=\"T_8fdf4_row4_col3\" class=\"data row4 col3\" >R_D0</td>\n    </tr>\n    <tr>\n      <th id=\"T_8fdf4_level0_row5\" class=\"row_heading level0 row5\" >5</th>\n      <td id=\"T_8fdf4_row5_col0\" class=\"data row5 col0\" >R_A1</td>\n      <td id=\"T_8fdf4_row5_col1\" class=\"data row5 col1\" >R_B1</td>\n      <td id=\"T_8fdf4_row5_col2\" class=\"data row5 col2\" >R_C1</td>\n      <td id=\"T_8fdf4_row5_col3\" class=\"data row5 col3\" >R_D1</td>\n    </tr>\n    <tr>\n      <th id=\"T_8fdf4_level0_row6\" class=\"row_heading level0 row6\" >6</th>\n      <td id=\"T_8fdf4_row6_col0\" class=\"data row6 col0\" >R_A2</td>\n      <td id=\"T_8fdf4_row6_col1\" class=\"data row6 col1\" >R_B2</td>\n      <td id=\"T_8fdf4_row6_col2\" class=\"data row6 col2\" >R_C2</td>\n      <td id=\"T_8fdf4_row6_col3\" class=\"data row6 col3\" >R_D2</td>\n    </tr>\n    <tr>\n      <th id=\"T_8fdf4_level0_row7\" class=\"row_heading level0 row7\" >7</th>\n      <td id=\"T_8fdf4_row7_col0\" class=\"data row7 col0\" >R_A3</td>\n      <td id=\"T_8fdf4_row7_col1\" class=\"data row7 col1\" >R_B3</td>\n      <td id=\"T_8fdf4_row7_col2\" class=\"data row7 col2\" >R_C3</td>\n      <td id=\"T_8fdf4_row7_col3\" class=\"data row7 col3\" >R_D3</td>\n    </tr>\n  </tbody>\n</table>\n<style type=\"text/css\">\n#T_71144 th {\n  text-align: left;\n  vertical-align: top;\n}\n</style>\n<table id=\"T_71144\" style='display:inline; margin-right: 50px;'>\n  <caption>axis='columns', ignore_index=True</caption>\n  <thead>\n    <tr>\n      <th class=\"blank level0\" >&nbsp;</th>\n      <th id=\"T_71144_level0_col0\" class=\"col_heading level0 col0\" >0</th>\n      <th id=\"T_71144_level0_col1\" class=\"col_heading level0 col1\" >1</th>\n      <th id=\"T_71144_level0_col2\" class=\"col_heading level0 col2\" >2</th>\n      <th id=\"T_71144_level0_col3\" class=\"col_heading level0 col3\" >3</th>\n      <th id=\"T_71144_level0_col4\" class=\"col_heading level0 col4\" >4</th>\n      <th id=\"T_71144_level0_col5\" class=\"col_heading level0 col5\" >5</th>\n      <th id=\"T_71144_level0_col6\" class=\"col_heading level0 col6\" >6</th>\n      <th id=\"T_71144_level0_col7\" class=\"col_heading level0 col7\" >7</th>\n    </tr>\n  </thead>\n  <tbody>\n    <tr>\n      <th id=\"T_71144_level0_row0\" class=\"row_heading level0 row0\" >0</th>\n      <td id=\"T_71144_row0_col0\" class=\"data row0 col0\" >L_A0</td>\n      <td id=\"T_71144_row0_col1\" class=\"data row0 col1\" >L_B0</td>\n      <td id=\"T_71144_row0_col2\" class=\"data row0 col2\" >L_C0</td>\n      <td id=\"T_71144_row0_col3\" class=\"data row0 col3\" >L_D0</td>\n      <td id=\"T_71144_row0_col4\" class=\"data row0 col4\" >R_A0</td>\n      <td id=\"T_71144_row0_col5\" class=\"data row0 col5\" >R_B0</td>\n      <td id=\"T_71144_row0_col6\" class=\"data row0 col6\" >R_C0</td>\n      <td id=\"T_71144_row0_col7\" class=\"data row0 col7\" >R_D0</td>\n    </tr>\n    <tr>\n      <th id=\"T_71144_level0_row1\" class=\"row_heading level0 row1\" >1</th>\n      <td id=\"T_71144_row1_col0\" class=\"data row1 col0\" >L_A1</td>\n      <td id=\"T_71144_row1_col1\" class=\"data row1 col1\" >L_B1</td>\n      <td id=\"T_71144_row1_col2\" class=\"data row1 col2\" >L_C1</td>\n      <td id=\"T_71144_row1_col3\" class=\"data row1 col3\" >L_D1</td>\n      <td id=\"T_71144_row1_col4\" class=\"data row1 col4\" >R_A1</td>\n      <td id=\"T_71144_row1_col5\" class=\"data row1 col5\" >R_B1</td>\n      <td id=\"T_71144_row1_col6\" class=\"data row1 col6\" >R_C1</td>\n      <td id=\"T_71144_row1_col7\" class=\"data row1 col7\" >R_D1</td>\n    </tr>\n    <tr>\n      <th id=\"T_71144_level0_row2\" class=\"row_heading level0 row2\" >2</th>\n      <td id=\"T_71144_row2_col0\" class=\"data row2 col0\" >L_A2</td>\n      <td id=\"T_71144_row2_col1\" class=\"data row2 col1\" >L_B2</td>\n      <td id=\"T_71144_row2_col2\" class=\"data row2 col2\" >L_C2</td>\n      <td id=\"T_71144_row2_col3\" class=\"data row2 col3\" >L_D2</td>\n      <td id=\"T_71144_row2_col4\" class=\"data row2 col4\" >R_A2</td>\n      <td id=\"T_71144_row2_col5\" class=\"data row2 col5\" >R_B2</td>\n      <td id=\"T_71144_row2_col6\" class=\"data row2 col6\" >R_C2</td>\n      <td id=\"T_71144_row2_col7\" class=\"data row2 col7\" >R_D2</td>\n    </tr>\n    <tr>\n      <th id=\"T_71144_level0_row3\" class=\"row_heading level0 row3\" >3</th>\n      <td id=\"T_71144_row3_col0\" class=\"data row3 col0\" >L_A3</td>\n      <td id=\"T_71144_row3_col1\" class=\"data row3 col1\" >L_B3</td>\n      <td id=\"T_71144_row3_col2\" class=\"data row3 col2\" >L_C3</td>\n      <td id=\"T_71144_row3_col3\" class=\"data row3 col3\" >L_D3</td>\n      <td id=\"T_71144_row3_col4\" class=\"data row3 col4\" >R_A3</td>\n      <td id=\"T_71144_row3_col5\" class=\"data row3 col5\" >R_B3</td>\n      <td id=\"T_71144_row3_col6\" class=\"data row3 col6\" >R_C3</td>\n      <td id=\"T_71144_row3_col7\" class=\"data row3 col7\" >R_D3</td>\n    </tr>\n  </tbody>\n</table>\n"
     },
     "metadata": {},
     "output_type": "display_data"
    }
   ],
   "source": [
    "# pd.concat([left, right]).reset_index(drop=True)\n",
    "# pd.concat([left, right]).set_index(\"C\")\n",
    "\n",
    "hdisplay([\n",
    "    pd.concat([left, right], ignore_index=False),\n",
    "    pd.concat([left, right], ignore_index=True),\n",
    "    pd.concat([left, right], axis='columns', ignore_index=True)],\n",
    "    [\"ignore_index=False\", \"ignore_index=True\", \"axis='columns', ignore_index=True\"]\n",
    ")"
   ],
   "metadata": {
    "collapsed": false,
    "ExecuteTime": {
     "end_time": "2023-11-11T10:19:19.778312900Z",
     "start_time": "2023-11-11T10:19:19.744806400Z"
    }
   },
   "id": "d5a48cf2cdb93891"
  },
  {
   "cell_type": "code",
   "execution_count": 5,
   "outputs": [
    {
     "data": {
      "text/html": "<style type=\"text/css\">\n#T_9c65d th {\n  text-align: left;\n  vertical-align: top;\n}\n</style>\n<table id=\"T_9c65d\" style='display:inline; margin-right: 50px;'>\n  <caption>Left</caption>\n  <thead>\n    <tr>\n      <th class=\"blank level0\" >&nbsp;</th>\n      <th id=\"T_9c65d_level0_col0\" class=\"col_heading level0 col0\" >A</th>\n      <th id=\"T_9c65d_level0_col1\" class=\"col_heading level0 col1\" >B</th>\n      <th id=\"T_9c65d_level0_col2\" class=\"col_heading level0 col2\" >C</th>\n      <th id=\"T_9c65d_level0_col3\" class=\"col_heading level0 col3\" >D</th>\n    </tr>\n  </thead>\n  <tbody>\n    <tr>\n      <th id=\"T_9c65d_level0_row0\" class=\"row_heading level0 row0\" >0</th>\n      <td id=\"T_9c65d_row0_col0\" class=\"data row0 col0\" >L_A0</td>\n      <td id=\"T_9c65d_row0_col1\" class=\"data row0 col1\" >L_B0</td>\n      <td id=\"T_9c65d_row0_col2\" class=\"data row0 col2\" >L_C0</td>\n      <td id=\"T_9c65d_row0_col3\" class=\"data row0 col3\" >L_D0</td>\n    </tr>\n    <tr>\n      <th id=\"T_9c65d_level0_row1\" class=\"row_heading level0 row1\" >1</th>\n      <td id=\"T_9c65d_row1_col0\" class=\"data row1 col0\" >L_A1</td>\n      <td id=\"T_9c65d_row1_col1\" class=\"data row1 col1\" >L_B1</td>\n      <td id=\"T_9c65d_row1_col2\" class=\"data row1 col2\" >L_C1</td>\n      <td id=\"T_9c65d_row1_col3\" class=\"data row1 col3\" >L_D1</td>\n    </tr>\n    <tr>\n      <th id=\"T_9c65d_level0_row2\" class=\"row_heading level0 row2\" >2</th>\n      <td id=\"T_9c65d_row2_col0\" class=\"data row2 col0\" >L_A2</td>\n      <td id=\"T_9c65d_row2_col1\" class=\"data row2 col1\" >L_B2</td>\n      <td id=\"T_9c65d_row2_col2\" class=\"data row2 col2\" >L_C2</td>\n      <td id=\"T_9c65d_row2_col3\" class=\"data row2 col3\" >L_D2</td>\n    </tr>\n    <tr>\n      <th id=\"T_9c65d_level0_row3\" class=\"row_heading level0 row3\" >3</th>\n      <td id=\"T_9c65d_row3_col0\" class=\"data row3 col0\" >L_A3</td>\n      <td id=\"T_9c65d_row3_col1\" class=\"data row3 col1\" >L_B3</td>\n      <td id=\"T_9c65d_row3_col2\" class=\"data row3 col2\" >L_C3</td>\n      <td id=\"T_9c65d_row3_col3\" class=\"data row3 col3\" >L_D3</td>\n    </tr>\n  </tbody>\n</table>\n<style type=\"text/css\">\n#T_bd921 th {\n  text-align: left;\n  vertical-align: top;\n}\n</style>\n<table id=\"T_bd921\" style='display:inline; margin-right: 50px;'>\n  <caption>Right</caption>\n  <thead>\n    <tr>\n      <th class=\"blank level0\" >&nbsp;</th>\n      <th id=\"T_bd921_level0_col0\" class=\"col_heading level0 col0\" >C</th>\n      <th id=\"T_bd921_level0_col1\" class=\"col_heading level0 col1\" >D</th>\n      <th id=\"T_bd921_level0_col2\" class=\"col_heading level0 col2\" >E</th>\n      <th id=\"T_bd921_level0_col3\" class=\"col_heading level0 col3\" >F</th>\n    </tr>\n  </thead>\n  <tbody>\n    <tr>\n      <th id=\"T_bd921_level0_row0\" class=\"row_heading level0 row0\" >2</th>\n      <td id=\"T_bd921_row0_col0\" class=\"data row0 col0\" >R_C2</td>\n      <td id=\"T_bd921_row0_col1\" class=\"data row0 col1\" >R_D2</td>\n      <td id=\"T_bd921_row0_col2\" class=\"data row0 col2\" >R_E2</td>\n      <td id=\"T_bd921_row0_col3\" class=\"data row0 col3\" >R_F2</td>\n    </tr>\n    <tr>\n      <th id=\"T_bd921_level0_row1\" class=\"row_heading level0 row1\" >3</th>\n      <td id=\"T_bd921_row1_col0\" class=\"data row1 col0\" >R_C3</td>\n      <td id=\"T_bd921_row1_col1\" class=\"data row1 col1\" >R_D3</td>\n      <td id=\"T_bd921_row1_col2\" class=\"data row1 col2\" >R_E3</td>\n      <td id=\"T_bd921_row1_col3\" class=\"data row1 col3\" >R_F3</td>\n    </tr>\n    <tr>\n      <th id=\"T_bd921_level0_row2\" class=\"row_heading level0 row2\" >4</th>\n      <td id=\"T_bd921_row2_col0\" class=\"data row2 col0\" >R_C4</td>\n      <td id=\"T_bd921_row2_col1\" class=\"data row2 col1\" >R_D4</td>\n      <td id=\"T_bd921_row2_col2\" class=\"data row2 col2\" >R_E4</td>\n      <td id=\"T_bd921_row2_col3\" class=\"data row2 col3\" >R_F4</td>\n    </tr>\n    <tr>\n      <th id=\"T_bd921_level0_row3\" class=\"row_heading level0 row3\" >5</th>\n      <td id=\"T_bd921_row3_col0\" class=\"data row3 col0\" >R_C5</td>\n      <td id=\"T_bd921_row3_col1\" class=\"data row3 col1\" >R_D5</td>\n      <td id=\"T_bd921_row3_col2\" class=\"data row3 col2\" >R_E5</td>\n      <td id=\"T_bd921_row3_col3\" class=\"data row3 col3\" >R_F5</td>\n    </tr>\n  </tbody>\n</table>\n"
     },
     "metadata": {},
     "output_type": "display_data"
    }
   ],
   "source": [
    "# New sample data\n",
    "left = sample_df(\"A0\", \"D3\", prefix=\"L_\")\n",
    "right = sample_df(\"C2\", \"F5\", prefix=\"R_\")\n",
    "\n",
    "hdisplay([left, right], [\"Left\", \"Right\"])"
   ],
   "metadata": {
    "collapsed": false,
    "ExecuteTime": {
     "end_time": "2023-11-11T10:19:24.262871300Z",
     "start_time": "2023-11-11T10:19:24.235866600Z"
    }
   },
   "id": "29bee114072460c4"
  },
  {
   "cell_type": "code",
   "execution_count": 6,
   "outputs": [
    {
     "data": {
      "text/html": "<style type=\"text/css\">\n#T_d90c9 th {\n  text-align: left;\n  vertical-align: top;\n}\n</style>\n<table id=\"T_d90c9\" style='display:inline; margin-right: 20px;'>\n  <caption>axis='index'</caption>\n  <thead>\n    <tr>\n      <th class=\"blank level0\" >&nbsp;</th>\n      <th id=\"T_d90c9_level0_col0\" class=\"col_heading level0 col0\" >A</th>\n      <th id=\"T_d90c9_level0_col1\" class=\"col_heading level0 col1\" >B</th>\n      <th id=\"T_d90c9_level0_col2\" class=\"col_heading level0 col2\" >C</th>\n      <th id=\"T_d90c9_level0_col3\" class=\"col_heading level0 col3\" >D</th>\n      <th id=\"T_d90c9_level0_col4\" class=\"col_heading level0 col4\" >E</th>\n      <th id=\"T_d90c9_level0_col5\" class=\"col_heading level0 col5\" >F</th>\n    </tr>\n  </thead>\n  <tbody>\n    <tr>\n      <th id=\"T_d90c9_level0_row0\" class=\"row_heading level0 row0\" >0</th>\n      <td id=\"T_d90c9_row0_col0\" class=\"data row0 col0\" >L_A0</td>\n      <td id=\"T_d90c9_row0_col1\" class=\"data row0 col1\" >L_B0</td>\n      <td id=\"T_d90c9_row0_col2\" class=\"data row0 col2\" >L_C0</td>\n      <td id=\"T_d90c9_row0_col3\" class=\"data row0 col3\" >L_D0</td>\n      <td id=\"T_d90c9_row0_col4\" class=\"data row0 col4\" >nan</td>\n      <td id=\"T_d90c9_row0_col5\" class=\"data row0 col5\" >nan</td>\n    </tr>\n    <tr>\n      <th id=\"T_d90c9_level0_row1\" class=\"row_heading level0 row1\" >1</th>\n      <td id=\"T_d90c9_row1_col0\" class=\"data row1 col0\" >L_A1</td>\n      <td id=\"T_d90c9_row1_col1\" class=\"data row1 col1\" >L_B1</td>\n      <td id=\"T_d90c9_row1_col2\" class=\"data row1 col2\" >L_C1</td>\n      <td id=\"T_d90c9_row1_col3\" class=\"data row1 col3\" >L_D1</td>\n      <td id=\"T_d90c9_row1_col4\" class=\"data row1 col4\" >nan</td>\n      <td id=\"T_d90c9_row1_col5\" class=\"data row1 col5\" >nan</td>\n    </tr>\n    <tr>\n      <th id=\"T_d90c9_level0_row2\" class=\"row_heading level0 row2\" >2</th>\n      <td id=\"T_d90c9_row2_col0\" class=\"data row2 col0\" >L_A2</td>\n      <td id=\"T_d90c9_row2_col1\" class=\"data row2 col1\" >L_B2</td>\n      <td id=\"T_d90c9_row2_col2\" class=\"data row2 col2\" >L_C2</td>\n      <td id=\"T_d90c9_row2_col3\" class=\"data row2 col3\" >L_D2</td>\n      <td id=\"T_d90c9_row2_col4\" class=\"data row2 col4\" >nan</td>\n      <td id=\"T_d90c9_row2_col5\" class=\"data row2 col5\" >nan</td>\n    </tr>\n    <tr>\n      <th id=\"T_d90c9_level0_row3\" class=\"row_heading level0 row3\" >3</th>\n      <td id=\"T_d90c9_row3_col0\" class=\"data row3 col0\" >L_A3</td>\n      <td id=\"T_d90c9_row3_col1\" class=\"data row3 col1\" >L_B3</td>\n      <td id=\"T_d90c9_row3_col2\" class=\"data row3 col2\" >L_C3</td>\n      <td id=\"T_d90c9_row3_col3\" class=\"data row3 col3\" >L_D3</td>\n      <td id=\"T_d90c9_row3_col4\" class=\"data row3 col4\" >nan</td>\n      <td id=\"T_d90c9_row3_col5\" class=\"data row3 col5\" >nan</td>\n    </tr>\n    <tr>\n      <th id=\"T_d90c9_level0_row4\" class=\"row_heading level0 row4\" >2</th>\n      <td id=\"T_d90c9_row4_col0\" class=\"data row4 col0\" >nan</td>\n      <td id=\"T_d90c9_row4_col1\" class=\"data row4 col1\" >nan</td>\n      <td id=\"T_d90c9_row4_col2\" class=\"data row4 col2\" >R_C2</td>\n      <td id=\"T_d90c9_row4_col3\" class=\"data row4 col3\" >R_D2</td>\n      <td id=\"T_d90c9_row4_col4\" class=\"data row4 col4\" >R_E2</td>\n      <td id=\"T_d90c9_row4_col5\" class=\"data row4 col5\" >R_F2</td>\n    </tr>\n    <tr>\n      <th id=\"T_d90c9_level0_row5\" class=\"row_heading level0 row5\" >3</th>\n      <td id=\"T_d90c9_row5_col0\" class=\"data row5 col0\" >nan</td>\n      <td id=\"T_d90c9_row5_col1\" class=\"data row5 col1\" >nan</td>\n      <td id=\"T_d90c9_row5_col2\" class=\"data row5 col2\" >R_C3</td>\n      <td id=\"T_d90c9_row5_col3\" class=\"data row5 col3\" >R_D3</td>\n      <td id=\"T_d90c9_row5_col4\" class=\"data row5 col4\" >R_E3</td>\n      <td id=\"T_d90c9_row5_col5\" class=\"data row5 col5\" >R_F3</td>\n    </tr>\n    <tr>\n      <th id=\"T_d90c9_level0_row6\" class=\"row_heading level0 row6\" >4</th>\n      <td id=\"T_d90c9_row6_col0\" class=\"data row6 col0\" >nan</td>\n      <td id=\"T_d90c9_row6_col1\" class=\"data row6 col1\" >nan</td>\n      <td id=\"T_d90c9_row6_col2\" class=\"data row6 col2\" >R_C4</td>\n      <td id=\"T_d90c9_row6_col3\" class=\"data row6 col3\" >R_D4</td>\n      <td id=\"T_d90c9_row6_col4\" class=\"data row6 col4\" >R_E4</td>\n      <td id=\"T_d90c9_row6_col5\" class=\"data row6 col5\" >R_F4</td>\n    </tr>\n    <tr>\n      <th id=\"T_d90c9_level0_row7\" class=\"row_heading level0 row7\" >5</th>\n      <td id=\"T_d90c9_row7_col0\" class=\"data row7 col0\" >nan</td>\n      <td id=\"T_d90c9_row7_col1\" class=\"data row7 col1\" >nan</td>\n      <td id=\"T_d90c9_row7_col2\" class=\"data row7 col2\" >R_C5</td>\n      <td id=\"T_d90c9_row7_col3\" class=\"data row7 col3\" >R_D5</td>\n      <td id=\"T_d90c9_row7_col4\" class=\"data row7 col4\" >R_E5</td>\n      <td id=\"T_d90c9_row7_col5\" class=\"data row7 col5\" >R_F5</td>\n    </tr>\n  </tbody>\n</table>\n<style type=\"text/css\">\n#T_0192a th {\n  text-align: left;\n  vertical-align: top;\n}\n</style>\n<table id=\"T_0192a\" style='display:inline; margin-right: 20px;'>\n  <caption>axis='columns', join='outer'</caption>\n  <thead>\n    <tr>\n      <th class=\"blank level0\" >&nbsp;</th>\n      <th id=\"T_0192a_level0_col0\" class=\"col_heading level0 col0\" >A</th>\n      <th id=\"T_0192a_level0_col1\" class=\"col_heading level0 col1\" >B</th>\n      <th id=\"T_0192a_level0_col2\" class=\"col_heading level0 col2\" >C</th>\n      <th id=\"T_0192a_level0_col3\" class=\"col_heading level0 col3\" >D</th>\n      <th id=\"T_0192a_level0_col4\" class=\"col_heading level0 col4\" >C</th>\n      <th id=\"T_0192a_level0_col5\" class=\"col_heading level0 col5\" >D</th>\n      <th id=\"T_0192a_level0_col6\" class=\"col_heading level0 col6\" >E</th>\n      <th id=\"T_0192a_level0_col7\" class=\"col_heading level0 col7\" >F</th>\n    </tr>\n  </thead>\n  <tbody>\n    <tr>\n      <th id=\"T_0192a_level0_row0\" class=\"row_heading level0 row0\" >0</th>\n      <td id=\"T_0192a_row0_col0\" class=\"data row0 col0\" >L_A0</td>\n      <td id=\"T_0192a_row0_col1\" class=\"data row0 col1\" >L_B0</td>\n      <td id=\"T_0192a_row0_col2\" class=\"data row0 col2\" >L_C0</td>\n      <td id=\"T_0192a_row0_col3\" class=\"data row0 col3\" >L_D0</td>\n      <td id=\"T_0192a_row0_col4\" class=\"data row0 col4\" >nan</td>\n      <td id=\"T_0192a_row0_col5\" class=\"data row0 col5\" >nan</td>\n      <td id=\"T_0192a_row0_col6\" class=\"data row0 col6\" >nan</td>\n      <td id=\"T_0192a_row0_col7\" class=\"data row0 col7\" >nan</td>\n    </tr>\n    <tr>\n      <th id=\"T_0192a_level0_row1\" class=\"row_heading level0 row1\" >1</th>\n      <td id=\"T_0192a_row1_col0\" class=\"data row1 col0\" >L_A1</td>\n      <td id=\"T_0192a_row1_col1\" class=\"data row1 col1\" >L_B1</td>\n      <td id=\"T_0192a_row1_col2\" class=\"data row1 col2\" >L_C1</td>\n      <td id=\"T_0192a_row1_col3\" class=\"data row1 col3\" >L_D1</td>\n      <td id=\"T_0192a_row1_col4\" class=\"data row1 col4\" >nan</td>\n      <td id=\"T_0192a_row1_col5\" class=\"data row1 col5\" >nan</td>\n      <td id=\"T_0192a_row1_col6\" class=\"data row1 col6\" >nan</td>\n      <td id=\"T_0192a_row1_col7\" class=\"data row1 col7\" >nan</td>\n    </tr>\n    <tr>\n      <th id=\"T_0192a_level0_row2\" class=\"row_heading level0 row2\" >2</th>\n      <td id=\"T_0192a_row2_col0\" class=\"data row2 col0\" >L_A2</td>\n      <td id=\"T_0192a_row2_col1\" class=\"data row2 col1\" >L_B2</td>\n      <td id=\"T_0192a_row2_col2\" class=\"data row2 col2\" >L_C2</td>\n      <td id=\"T_0192a_row2_col3\" class=\"data row2 col3\" >L_D2</td>\n      <td id=\"T_0192a_row2_col4\" class=\"data row2 col4\" >R_C2</td>\n      <td id=\"T_0192a_row2_col5\" class=\"data row2 col5\" >R_D2</td>\n      <td id=\"T_0192a_row2_col6\" class=\"data row2 col6\" >R_E2</td>\n      <td id=\"T_0192a_row2_col7\" class=\"data row2 col7\" >R_F2</td>\n    </tr>\n    <tr>\n      <th id=\"T_0192a_level0_row3\" class=\"row_heading level0 row3\" >3</th>\n      <td id=\"T_0192a_row3_col0\" class=\"data row3 col0\" >L_A3</td>\n      <td id=\"T_0192a_row3_col1\" class=\"data row3 col1\" >L_B3</td>\n      <td id=\"T_0192a_row3_col2\" class=\"data row3 col2\" >L_C3</td>\n      <td id=\"T_0192a_row3_col3\" class=\"data row3 col3\" >L_D3</td>\n      <td id=\"T_0192a_row3_col4\" class=\"data row3 col4\" >R_C3</td>\n      <td id=\"T_0192a_row3_col5\" class=\"data row3 col5\" >R_D3</td>\n      <td id=\"T_0192a_row3_col6\" class=\"data row3 col6\" >R_E3</td>\n      <td id=\"T_0192a_row3_col7\" class=\"data row3 col7\" >R_F3</td>\n    </tr>\n    <tr>\n      <th id=\"T_0192a_level0_row4\" class=\"row_heading level0 row4\" >4</th>\n      <td id=\"T_0192a_row4_col0\" class=\"data row4 col0\" >nan</td>\n      <td id=\"T_0192a_row4_col1\" class=\"data row4 col1\" >nan</td>\n      <td id=\"T_0192a_row4_col2\" class=\"data row4 col2\" >nan</td>\n      <td id=\"T_0192a_row4_col3\" class=\"data row4 col3\" >nan</td>\n      <td id=\"T_0192a_row4_col4\" class=\"data row4 col4\" >R_C4</td>\n      <td id=\"T_0192a_row4_col5\" class=\"data row4 col5\" >R_D4</td>\n      <td id=\"T_0192a_row4_col6\" class=\"data row4 col6\" >R_E4</td>\n      <td id=\"T_0192a_row4_col7\" class=\"data row4 col7\" >R_F4</td>\n    </tr>\n    <tr>\n      <th id=\"T_0192a_level0_row5\" class=\"row_heading level0 row5\" >5</th>\n      <td id=\"T_0192a_row5_col0\" class=\"data row5 col0\" >nan</td>\n      <td id=\"T_0192a_row5_col1\" class=\"data row5 col1\" >nan</td>\n      <td id=\"T_0192a_row5_col2\" class=\"data row5 col2\" >nan</td>\n      <td id=\"T_0192a_row5_col3\" class=\"data row5 col3\" >nan</td>\n      <td id=\"T_0192a_row5_col4\" class=\"data row5 col4\" >R_C5</td>\n      <td id=\"T_0192a_row5_col5\" class=\"data row5 col5\" >R_D5</td>\n      <td id=\"T_0192a_row5_col6\" class=\"data row5 col6\" >R_E5</td>\n      <td id=\"T_0192a_row5_col7\" class=\"data row5 col7\" >R_F5</td>\n    </tr>\n  </tbody>\n</table>\n<style type=\"text/css\">\n#T_05c2a th {\n  text-align: left;\n  vertical-align: top;\n}\n</style>\n<table id=\"T_05c2a\" style='display:inline; margin-right: 20px;'>\n  <caption>axis='columns', join='inner'</caption>\n  <thead>\n    <tr>\n      <th class=\"blank level0\" >&nbsp;</th>\n      <th id=\"T_05c2a_level0_col0\" class=\"col_heading level0 col0\" >A</th>\n      <th id=\"T_05c2a_level0_col1\" class=\"col_heading level0 col1\" >B</th>\n      <th id=\"T_05c2a_level0_col2\" class=\"col_heading level0 col2\" >C</th>\n      <th id=\"T_05c2a_level0_col3\" class=\"col_heading level0 col3\" >D</th>\n      <th id=\"T_05c2a_level0_col4\" class=\"col_heading level0 col4\" >C</th>\n      <th id=\"T_05c2a_level0_col5\" class=\"col_heading level0 col5\" >D</th>\n      <th id=\"T_05c2a_level0_col6\" class=\"col_heading level0 col6\" >E</th>\n      <th id=\"T_05c2a_level0_col7\" class=\"col_heading level0 col7\" >F</th>\n    </tr>\n  </thead>\n  <tbody>\n    <tr>\n      <th id=\"T_05c2a_level0_row0\" class=\"row_heading level0 row0\" >2</th>\n      <td id=\"T_05c2a_row0_col0\" class=\"data row0 col0\" >L_A2</td>\n      <td id=\"T_05c2a_row0_col1\" class=\"data row0 col1\" >L_B2</td>\n      <td id=\"T_05c2a_row0_col2\" class=\"data row0 col2\" >L_C2</td>\n      <td id=\"T_05c2a_row0_col3\" class=\"data row0 col3\" >L_D2</td>\n      <td id=\"T_05c2a_row0_col4\" class=\"data row0 col4\" >R_C2</td>\n      <td id=\"T_05c2a_row0_col5\" class=\"data row0 col5\" >R_D2</td>\n      <td id=\"T_05c2a_row0_col6\" class=\"data row0 col6\" >R_E2</td>\n      <td id=\"T_05c2a_row0_col7\" class=\"data row0 col7\" >R_F2</td>\n    </tr>\n    <tr>\n      <th id=\"T_05c2a_level0_row1\" class=\"row_heading level0 row1\" >3</th>\n      <td id=\"T_05c2a_row1_col0\" class=\"data row1 col0\" >L_A3</td>\n      <td id=\"T_05c2a_row1_col1\" class=\"data row1 col1\" >L_B3</td>\n      <td id=\"T_05c2a_row1_col2\" class=\"data row1 col2\" >L_C3</td>\n      <td id=\"T_05c2a_row1_col3\" class=\"data row1 col3\" >L_D3</td>\n      <td id=\"T_05c2a_row1_col4\" class=\"data row1 col4\" >R_C3</td>\n      <td id=\"T_05c2a_row1_col5\" class=\"data row1 col5\" >R_D3</td>\n      <td id=\"T_05c2a_row1_col6\" class=\"data row1 col6\" >R_E3</td>\n      <td id=\"T_05c2a_row1_col7\" class=\"data row1 col7\" >R_F3</td>\n    </tr>\n  </tbody>\n</table>\n"
     },
     "metadata": {},
     "output_type": "display_data"
    }
   ],
   "source": [
    "hdisplay([\n",
    "    pd.concat([left, right], axis='index'),\n",
    "    pd.concat([left, right], axis='columns', join='outer'),  # union (default)\n",
    "    pd.concat([left, right], axis='columns', join='inner')], # intersection\n",
    "    [\"axis='index'\", \"axis='columns', join='outer'\", \"axis='columns', join='inner'\"],\n",
    "    20\n",
    ")"
   ],
   "metadata": {
    "collapsed": false,
    "ExecuteTime": {
     "end_time": "2023-11-11T10:19:28.523735300Z",
     "start_time": "2023-11-11T10:19:28.484727800Z"
    }
   },
   "id": "e725f1a2c40b856e"
  },
  {
   "cell_type": "code",
   "execution_count": 7,
   "outputs": [
    {
     "data": {
      "text/html": "<style type=\"text/css\">\n#T_ca0d2 th {\n  text-align: left;\n  vertical-align: top;\n}\n</style>\n<table id=\"T_ca0d2\" style='display:inline; margin-right: 50px;'>\n  <caption>axis='index', keys=['left', 'right']</caption>\n  <thead>\n    <tr>\n      <th class=\"blank\" >&nbsp;</th>\n      <th class=\"blank level0\" >&nbsp;</th>\n      <th id=\"T_ca0d2_level0_col0\" class=\"col_heading level0 col0\" >A</th>\n      <th id=\"T_ca0d2_level0_col1\" class=\"col_heading level0 col1\" >B</th>\n      <th id=\"T_ca0d2_level0_col2\" class=\"col_heading level0 col2\" >C</th>\n      <th id=\"T_ca0d2_level0_col3\" class=\"col_heading level0 col3\" >D</th>\n      <th id=\"T_ca0d2_level0_col4\" class=\"col_heading level0 col4\" >E</th>\n      <th id=\"T_ca0d2_level0_col5\" class=\"col_heading level0 col5\" >F</th>\n    </tr>\n  </thead>\n  <tbody>\n    <tr>\n      <th id=\"T_ca0d2_level0_row0\" class=\"row_heading level0 row0\" rowspan=\"4\">left</th>\n      <th id=\"T_ca0d2_level1_row0\" class=\"row_heading level1 row0\" >0</th>\n      <td id=\"T_ca0d2_row0_col0\" class=\"data row0 col0\" >L_A0</td>\n      <td id=\"T_ca0d2_row0_col1\" class=\"data row0 col1\" >L_B0</td>\n      <td id=\"T_ca0d2_row0_col2\" class=\"data row0 col2\" >L_C0</td>\n      <td id=\"T_ca0d2_row0_col3\" class=\"data row0 col3\" >L_D0</td>\n      <td id=\"T_ca0d2_row0_col4\" class=\"data row0 col4\" >nan</td>\n      <td id=\"T_ca0d2_row0_col5\" class=\"data row0 col5\" >nan</td>\n    </tr>\n    <tr>\n      <th id=\"T_ca0d2_level1_row1\" class=\"row_heading level1 row1\" >1</th>\n      <td id=\"T_ca0d2_row1_col0\" class=\"data row1 col0\" >L_A1</td>\n      <td id=\"T_ca0d2_row1_col1\" class=\"data row1 col1\" >L_B1</td>\n      <td id=\"T_ca0d2_row1_col2\" class=\"data row1 col2\" >L_C1</td>\n      <td id=\"T_ca0d2_row1_col3\" class=\"data row1 col3\" >L_D1</td>\n      <td id=\"T_ca0d2_row1_col4\" class=\"data row1 col4\" >nan</td>\n      <td id=\"T_ca0d2_row1_col5\" class=\"data row1 col5\" >nan</td>\n    </tr>\n    <tr>\n      <th id=\"T_ca0d2_level1_row2\" class=\"row_heading level1 row2\" >2</th>\n      <td id=\"T_ca0d2_row2_col0\" class=\"data row2 col0\" >L_A2</td>\n      <td id=\"T_ca0d2_row2_col1\" class=\"data row2 col1\" >L_B2</td>\n      <td id=\"T_ca0d2_row2_col2\" class=\"data row2 col2\" >L_C2</td>\n      <td id=\"T_ca0d2_row2_col3\" class=\"data row2 col3\" >L_D2</td>\n      <td id=\"T_ca0d2_row2_col4\" class=\"data row2 col4\" >nan</td>\n      <td id=\"T_ca0d2_row2_col5\" class=\"data row2 col5\" >nan</td>\n    </tr>\n    <tr>\n      <th id=\"T_ca0d2_level1_row3\" class=\"row_heading level1 row3\" >3</th>\n      <td id=\"T_ca0d2_row3_col0\" class=\"data row3 col0\" >L_A3</td>\n      <td id=\"T_ca0d2_row3_col1\" class=\"data row3 col1\" >L_B3</td>\n      <td id=\"T_ca0d2_row3_col2\" class=\"data row3 col2\" >L_C3</td>\n      <td id=\"T_ca0d2_row3_col3\" class=\"data row3 col3\" >L_D3</td>\n      <td id=\"T_ca0d2_row3_col4\" class=\"data row3 col4\" >nan</td>\n      <td id=\"T_ca0d2_row3_col5\" class=\"data row3 col5\" >nan</td>\n    </tr>\n    <tr>\n      <th id=\"T_ca0d2_level0_row4\" class=\"row_heading level0 row4\" rowspan=\"4\">right</th>\n      <th id=\"T_ca0d2_level1_row4\" class=\"row_heading level1 row4\" >2</th>\n      <td id=\"T_ca0d2_row4_col0\" class=\"data row4 col0\" >nan</td>\n      <td id=\"T_ca0d2_row4_col1\" class=\"data row4 col1\" >nan</td>\n      <td id=\"T_ca0d2_row4_col2\" class=\"data row4 col2\" >R_C2</td>\n      <td id=\"T_ca0d2_row4_col3\" class=\"data row4 col3\" >R_D2</td>\n      <td id=\"T_ca0d2_row4_col4\" class=\"data row4 col4\" >R_E2</td>\n      <td id=\"T_ca0d2_row4_col5\" class=\"data row4 col5\" >R_F2</td>\n    </tr>\n    <tr>\n      <th id=\"T_ca0d2_level1_row5\" class=\"row_heading level1 row5\" >3</th>\n      <td id=\"T_ca0d2_row5_col0\" class=\"data row5 col0\" >nan</td>\n      <td id=\"T_ca0d2_row5_col1\" class=\"data row5 col1\" >nan</td>\n      <td id=\"T_ca0d2_row5_col2\" class=\"data row5 col2\" >R_C3</td>\n      <td id=\"T_ca0d2_row5_col3\" class=\"data row5 col3\" >R_D3</td>\n      <td id=\"T_ca0d2_row5_col4\" class=\"data row5 col4\" >R_E3</td>\n      <td id=\"T_ca0d2_row5_col5\" class=\"data row5 col5\" >R_F3</td>\n    </tr>\n    <tr>\n      <th id=\"T_ca0d2_level1_row6\" class=\"row_heading level1 row6\" >4</th>\n      <td id=\"T_ca0d2_row6_col0\" class=\"data row6 col0\" >nan</td>\n      <td id=\"T_ca0d2_row6_col1\" class=\"data row6 col1\" >nan</td>\n      <td id=\"T_ca0d2_row6_col2\" class=\"data row6 col2\" >R_C4</td>\n      <td id=\"T_ca0d2_row6_col3\" class=\"data row6 col3\" >R_D4</td>\n      <td id=\"T_ca0d2_row6_col4\" class=\"data row6 col4\" >R_E4</td>\n      <td id=\"T_ca0d2_row6_col5\" class=\"data row6 col5\" >R_F4</td>\n    </tr>\n    <tr>\n      <th id=\"T_ca0d2_level1_row7\" class=\"row_heading level1 row7\" >5</th>\n      <td id=\"T_ca0d2_row7_col0\" class=\"data row7 col0\" >nan</td>\n      <td id=\"T_ca0d2_row7_col1\" class=\"data row7 col1\" >nan</td>\n      <td id=\"T_ca0d2_row7_col2\" class=\"data row7 col2\" >R_C5</td>\n      <td id=\"T_ca0d2_row7_col3\" class=\"data row7 col3\" >R_D5</td>\n      <td id=\"T_ca0d2_row7_col4\" class=\"data row7 col4\" >R_E5</td>\n      <td id=\"T_ca0d2_row7_col5\" class=\"data row7 col5\" >R_F5</td>\n    </tr>\n  </tbody>\n</table>\n<style type=\"text/css\">\n#T_768b0 th {\n  text-align: left;\n  vertical-align: top;\n}\n</style>\n<table id=\"T_768b0\" style='display:inline; margin-right: 50px;'>\n  <caption>axis='columns', keys=['left', 'right']</caption>\n  <thead>\n    <tr>\n      <th class=\"blank level0\" >&nbsp;</th>\n      <th id=\"T_768b0_level0_col0\" class=\"col_heading level0 col0\" colspan=\"4\">left</th>\n      <th id=\"T_768b0_level0_col4\" class=\"col_heading level0 col4\" colspan=\"4\">right</th>\n    </tr>\n    <tr>\n      <th class=\"blank level1\" >&nbsp;</th>\n      <th id=\"T_768b0_level1_col0\" class=\"col_heading level1 col0\" >A</th>\n      <th id=\"T_768b0_level1_col1\" class=\"col_heading level1 col1\" >B</th>\n      <th id=\"T_768b0_level1_col2\" class=\"col_heading level1 col2\" >C</th>\n      <th id=\"T_768b0_level1_col3\" class=\"col_heading level1 col3\" >D</th>\n      <th id=\"T_768b0_level1_col4\" class=\"col_heading level1 col4\" >C</th>\n      <th id=\"T_768b0_level1_col5\" class=\"col_heading level1 col5\" >D</th>\n      <th id=\"T_768b0_level1_col6\" class=\"col_heading level1 col6\" >E</th>\n      <th id=\"T_768b0_level1_col7\" class=\"col_heading level1 col7\" >F</th>\n    </tr>\n  </thead>\n  <tbody>\n    <tr>\n      <th id=\"T_768b0_level0_row0\" class=\"row_heading level0 row0\" >0</th>\n      <td id=\"T_768b0_row0_col0\" class=\"data row0 col0\" >L_A0</td>\n      <td id=\"T_768b0_row0_col1\" class=\"data row0 col1\" >L_B0</td>\n      <td id=\"T_768b0_row0_col2\" class=\"data row0 col2\" >L_C0</td>\n      <td id=\"T_768b0_row0_col3\" class=\"data row0 col3\" >L_D0</td>\n      <td id=\"T_768b0_row0_col4\" class=\"data row0 col4\" >nan</td>\n      <td id=\"T_768b0_row0_col5\" class=\"data row0 col5\" >nan</td>\n      <td id=\"T_768b0_row0_col6\" class=\"data row0 col6\" >nan</td>\n      <td id=\"T_768b0_row0_col7\" class=\"data row0 col7\" >nan</td>\n    </tr>\n    <tr>\n      <th id=\"T_768b0_level0_row1\" class=\"row_heading level0 row1\" >1</th>\n      <td id=\"T_768b0_row1_col0\" class=\"data row1 col0\" >L_A1</td>\n      <td id=\"T_768b0_row1_col1\" class=\"data row1 col1\" >L_B1</td>\n      <td id=\"T_768b0_row1_col2\" class=\"data row1 col2\" >L_C1</td>\n      <td id=\"T_768b0_row1_col3\" class=\"data row1 col3\" >L_D1</td>\n      <td id=\"T_768b0_row1_col4\" class=\"data row1 col4\" >nan</td>\n      <td id=\"T_768b0_row1_col5\" class=\"data row1 col5\" >nan</td>\n      <td id=\"T_768b0_row1_col6\" class=\"data row1 col6\" >nan</td>\n      <td id=\"T_768b0_row1_col7\" class=\"data row1 col7\" >nan</td>\n    </tr>\n    <tr>\n      <th id=\"T_768b0_level0_row2\" class=\"row_heading level0 row2\" >2</th>\n      <td id=\"T_768b0_row2_col0\" class=\"data row2 col0\" >L_A2</td>\n      <td id=\"T_768b0_row2_col1\" class=\"data row2 col1\" >L_B2</td>\n      <td id=\"T_768b0_row2_col2\" class=\"data row2 col2\" >L_C2</td>\n      <td id=\"T_768b0_row2_col3\" class=\"data row2 col3\" >L_D2</td>\n      <td id=\"T_768b0_row2_col4\" class=\"data row2 col4\" >R_C2</td>\n      <td id=\"T_768b0_row2_col5\" class=\"data row2 col5\" >R_D2</td>\n      <td id=\"T_768b0_row2_col6\" class=\"data row2 col6\" >R_E2</td>\n      <td id=\"T_768b0_row2_col7\" class=\"data row2 col7\" >R_F2</td>\n    </tr>\n    <tr>\n      <th id=\"T_768b0_level0_row3\" class=\"row_heading level0 row3\" >3</th>\n      <td id=\"T_768b0_row3_col0\" class=\"data row3 col0\" >L_A3</td>\n      <td id=\"T_768b0_row3_col1\" class=\"data row3 col1\" >L_B3</td>\n      <td id=\"T_768b0_row3_col2\" class=\"data row3 col2\" >L_C3</td>\n      <td id=\"T_768b0_row3_col3\" class=\"data row3 col3\" >L_D3</td>\n      <td id=\"T_768b0_row3_col4\" class=\"data row3 col4\" >R_C3</td>\n      <td id=\"T_768b0_row3_col5\" class=\"data row3 col5\" >R_D3</td>\n      <td id=\"T_768b0_row3_col6\" class=\"data row3 col6\" >R_E3</td>\n      <td id=\"T_768b0_row3_col7\" class=\"data row3 col7\" >R_F3</td>\n    </tr>\n    <tr>\n      <th id=\"T_768b0_level0_row4\" class=\"row_heading level0 row4\" >4</th>\n      <td id=\"T_768b0_row4_col0\" class=\"data row4 col0\" >nan</td>\n      <td id=\"T_768b0_row4_col1\" class=\"data row4 col1\" >nan</td>\n      <td id=\"T_768b0_row4_col2\" class=\"data row4 col2\" >nan</td>\n      <td id=\"T_768b0_row4_col3\" class=\"data row4 col3\" >nan</td>\n      <td id=\"T_768b0_row4_col4\" class=\"data row4 col4\" >R_C4</td>\n      <td id=\"T_768b0_row4_col5\" class=\"data row4 col5\" >R_D4</td>\n      <td id=\"T_768b0_row4_col6\" class=\"data row4 col6\" >R_E4</td>\n      <td id=\"T_768b0_row4_col7\" class=\"data row4 col7\" >R_F4</td>\n    </tr>\n    <tr>\n      <th id=\"T_768b0_level0_row5\" class=\"row_heading level0 row5\" >5</th>\n      <td id=\"T_768b0_row5_col0\" class=\"data row5 col0\" >nan</td>\n      <td id=\"T_768b0_row5_col1\" class=\"data row5 col1\" >nan</td>\n      <td id=\"T_768b0_row5_col2\" class=\"data row5 col2\" >nan</td>\n      <td id=\"T_768b0_row5_col3\" class=\"data row5 col3\" >nan</td>\n      <td id=\"T_768b0_row5_col4\" class=\"data row5 col4\" >R_C5</td>\n      <td id=\"T_768b0_row5_col5\" class=\"data row5 col5\" >R_D5</td>\n      <td id=\"T_768b0_row5_col6\" class=\"data row5 col6\" >R_E5</td>\n      <td id=\"T_768b0_row5_col7\" class=\"data row5 col7\" >R_F5</td>\n    </tr>\n  </tbody>\n</table>\n"
     },
     "metadata": {},
     "output_type": "display_data"
    }
   ],
   "source": [
    "hdisplay([\n",
    "    pd.concat([left, right], axis='index', keys=['left', 'right']),\n",
    "    pd.concat([left, right], axis='columns', keys=['left', 'right'])],\n",
    "    [\"axis='index', keys=['left', 'right']\", \"axis='columns', keys=['left', 'right']\"]\n",
    ")\n"
   ],
   "metadata": {
    "collapsed": false,
    "ExecuteTime": {
     "end_time": "2023-11-11T10:19:34.525957400Z",
     "start_time": "2023-11-11T10:19:34.489451200Z"
    }
   },
   "id": "4af6379de0e99573"
  },
  {
   "cell_type": "markdown",
   "source": [
    "### Join\n",
    "Join first aligns the index of two dataframes, and then pick up the remaining columns from the aligned rows of each dataframe.\n",
    "\n",
    "The **how** parameter can be any of the following:\n",
    "\n",
    "- **left:** Get all rows from the left table, and join matching rows from the right table. (default)\n",
    "- **right:** Get all rows from the right table, and join matching rows from the left table.\n",
    "- **outer:** Get all rows from both tables, joing all matching rows on both sides. (union)\n",
    "- **inner:** Get only rows that exists in both tables. (intersection)\n",
    "- **cross:** Get every possible combination of rows from both tables. Length of new table == len(left) * len(right)"
   ],
   "metadata": {
    "collapsed": false
   },
   "id": "6cbb78ed76ff6707"
  },
  {
   "cell_type": "code",
   "execution_count": 8,
   "outputs": [
    {
     "data": {
      "text/html": "<style type=\"text/css\">\n#T_bb6f5 th {\n  text-align: left;\n  vertical-align: top;\n}\n</style>\n<table id=\"T_bb6f5\" style='display:inline; margin-right: 50px;'>\n  <caption>Left</caption>\n  <thead>\n    <tr>\n      <th class=\"blank level0\" >&nbsp;</th>\n      <th id=\"T_bb6f5_level0_col0\" class=\"col_heading level0 col0\" >LA</th>\n      <th id=\"T_bb6f5_level0_col1\" class=\"col_heading level0 col1\" >LB</th>\n      <th id=\"T_bb6f5_level0_col2\" class=\"col_heading level0 col2\" >LC</th>\n      <th id=\"T_bb6f5_level0_col3\" class=\"col_heading level0 col3\" >LD</th>\n    </tr>\n  </thead>\n  <tbody>\n    <tr>\n      <th id=\"T_bb6f5_level0_row0\" class=\"row_heading level0 row0\" >0</th>\n      <td id=\"T_bb6f5_row0_col0\" class=\"data row0 col0\" >LA0</td>\n      <td id=\"T_bb6f5_row0_col1\" class=\"data row0 col1\" >LB0</td>\n      <td id=\"T_bb6f5_row0_col2\" class=\"data row0 col2\" >LC0</td>\n      <td id=\"T_bb6f5_row0_col3\" class=\"data row0 col3\" >LD0</td>\n    </tr>\n    <tr>\n      <th id=\"T_bb6f5_level0_row1\" class=\"row_heading level0 row1\" >1</th>\n      <td id=\"T_bb6f5_row1_col0\" class=\"data row1 col0\" >LA1</td>\n      <td id=\"T_bb6f5_row1_col1\" class=\"data row1 col1\" >LB1</td>\n      <td id=\"T_bb6f5_row1_col2\" class=\"data row1 col2\" >LC1</td>\n      <td id=\"T_bb6f5_row1_col3\" class=\"data row1 col3\" >LD1</td>\n    </tr>\n    <tr>\n      <th id=\"T_bb6f5_level0_row2\" class=\"row_heading level0 row2\" >2</th>\n      <td id=\"T_bb6f5_row2_col0\" class=\"data row2 col0\" >LA2</td>\n      <td id=\"T_bb6f5_row2_col1\" class=\"data row2 col1\" >LB2</td>\n      <td id=\"T_bb6f5_row2_col2\" class=\"data row2 col2\" >LC2</td>\n      <td id=\"T_bb6f5_row2_col3\" class=\"data row2 col3\" >LD2</td>\n    </tr>\n    <tr>\n      <th id=\"T_bb6f5_level0_row3\" class=\"row_heading level0 row3\" >3</th>\n      <td id=\"T_bb6f5_row3_col0\" class=\"data row3 col0\" >LA3</td>\n      <td id=\"T_bb6f5_row3_col1\" class=\"data row3 col1\" >LB3</td>\n      <td id=\"T_bb6f5_row3_col2\" class=\"data row3 col2\" >LC3</td>\n      <td id=\"T_bb6f5_row3_col3\" class=\"data row3 col3\" >LD3</td>\n    </tr>\n  </tbody>\n</table>\n<style type=\"text/css\">\n#T_948ca th {\n  text-align: left;\n  vertical-align: top;\n}\n</style>\n<table id=\"T_948ca\" style='display:inline; margin-right: 50px;'>\n  <caption>Right</caption>\n  <thead>\n    <tr>\n      <th class=\"blank level0\" >&nbsp;</th>\n      <th id=\"T_948ca_level0_col0\" class=\"col_heading level0 col0\" >RC</th>\n      <th id=\"T_948ca_level0_col1\" class=\"col_heading level0 col1\" >RD</th>\n      <th id=\"T_948ca_level0_col2\" class=\"col_heading level0 col2\" >RE</th>\n      <th id=\"T_948ca_level0_col3\" class=\"col_heading level0 col3\" >RF</th>\n    </tr>\n  </thead>\n  <tbody>\n    <tr>\n      <th id=\"T_948ca_level0_row0\" class=\"row_heading level0 row0\" >2</th>\n      <td id=\"T_948ca_row0_col0\" class=\"data row0 col0\" >RC2</td>\n      <td id=\"T_948ca_row0_col1\" class=\"data row0 col1\" >RD2</td>\n      <td id=\"T_948ca_row0_col2\" class=\"data row0 col2\" >RE2</td>\n      <td id=\"T_948ca_row0_col3\" class=\"data row0 col3\" >RF2</td>\n    </tr>\n    <tr>\n      <th id=\"T_948ca_level0_row1\" class=\"row_heading level0 row1\" >3</th>\n      <td id=\"T_948ca_row1_col0\" class=\"data row1 col0\" >RC3</td>\n      <td id=\"T_948ca_row1_col1\" class=\"data row1 col1\" >RD3</td>\n      <td id=\"T_948ca_row1_col2\" class=\"data row1 col2\" >RE3</td>\n      <td id=\"T_948ca_row1_col3\" class=\"data row1 col3\" >RF3</td>\n    </tr>\n    <tr>\n      <th id=\"T_948ca_level0_row2\" class=\"row_heading level0 row2\" >4</th>\n      <td id=\"T_948ca_row2_col0\" class=\"data row2 col0\" >RC4</td>\n      <td id=\"T_948ca_row2_col1\" class=\"data row2 col1\" >RD4</td>\n      <td id=\"T_948ca_row2_col2\" class=\"data row2 col2\" >RE4</td>\n      <td id=\"T_948ca_row2_col3\" class=\"data row2 col3\" >RF4</td>\n    </tr>\n    <tr>\n      <th id=\"T_948ca_level0_row3\" class=\"row_heading level0 row3\" >5</th>\n      <td id=\"T_948ca_row3_col0\" class=\"data row3 col0\" >RC5</td>\n      <td id=\"T_948ca_row3_col1\" class=\"data row3 col1\" >RD5</td>\n      <td id=\"T_948ca_row3_col2\" class=\"data row3 col2\" >RE5</td>\n      <td id=\"T_948ca_row3_col3\" class=\"data row3 col3\" >RF5</td>\n    </tr>\n  </tbody>\n</table>\n"
     },
     "metadata": {},
     "output_type": "display_data"
    }
   ],
   "source": [
    "# New sample data\n",
    "left = sample_df(\"A0\", \"D3\", prefix=\"L\").add_prefix(\"L\")\n",
    "right = sample_df(\"C2\", \"F5\", prefix=\"R\").add_prefix(\"R\")\n",
    "hdisplay([left, right], [\"Left\", \"Right\"])"
   ],
   "metadata": {
    "collapsed": false,
    "ExecuteTime": {
     "end_time": "2023-11-11T10:20:32.618061Z",
     "start_time": "2023-11-11T10:20:32.588022500Z"
    }
   },
   "id": "e9309dc3d5999a5c"
  },
  {
   "cell_type": "code",
   "execution_count": 9,
   "outputs": [
    {
     "data": {
      "text/html": "<style type=\"text/css\">\n#T_d8be4 th {\n  text-align: left;\n  vertical-align: top;\n}\n</style>\n<table id=\"T_d8be4\" style='display:inline; margin-right: 50px;'>\n  <caption>how='left'</caption>\n  <thead>\n    <tr>\n      <th class=\"blank level0\" >&nbsp;</th>\n      <th id=\"T_d8be4_level0_col0\" class=\"col_heading level0 col0\" >LA</th>\n      <th id=\"T_d8be4_level0_col1\" class=\"col_heading level0 col1\" >LB</th>\n      <th id=\"T_d8be4_level0_col2\" class=\"col_heading level0 col2\" >LC</th>\n      <th id=\"T_d8be4_level0_col3\" class=\"col_heading level0 col3\" >LD</th>\n      <th id=\"T_d8be4_level0_col4\" class=\"col_heading level0 col4\" >RC</th>\n      <th id=\"T_d8be4_level0_col5\" class=\"col_heading level0 col5\" >RD</th>\n      <th id=\"T_d8be4_level0_col6\" class=\"col_heading level0 col6\" >RE</th>\n      <th id=\"T_d8be4_level0_col7\" class=\"col_heading level0 col7\" >RF</th>\n    </tr>\n  </thead>\n  <tbody>\n    <tr>\n      <th id=\"T_d8be4_level0_row0\" class=\"row_heading level0 row0\" >0</th>\n      <td id=\"T_d8be4_row0_col0\" class=\"data row0 col0\" >LA0</td>\n      <td id=\"T_d8be4_row0_col1\" class=\"data row0 col1\" >LB0</td>\n      <td id=\"T_d8be4_row0_col2\" class=\"data row0 col2\" >LC0</td>\n      <td id=\"T_d8be4_row0_col3\" class=\"data row0 col3\" >LD0</td>\n      <td id=\"T_d8be4_row0_col4\" class=\"data row0 col4\" >nan</td>\n      <td id=\"T_d8be4_row0_col5\" class=\"data row0 col5\" >nan</td>\n      <td id=\"T_d8be4_row0_col6\" class=\"data row0 col6\" >nan</td>\n      <td id=\"T_d8be4_row0_col7\" class=\"data row0 col7\" >nan</td>\n    </tr>\n    <tr>\n      <th id=\"T_d8be4_level0_row1\" class=\"row_heading level0 row1\" >1</th>\n      <td id=\"T_d8be4_row1_col0\" class=\"data row1 col0\" >LA1</td>\n      <td id=\"T_d8be4_row1_col1\" class=\"data row1 col1\" >LB1</td>\n      <td id=\"T_d8be4_row1_col2\" class=\"data row1 col2\" >LC1</td>\n      <td id=\"T_d8be4_row1_col3\" class=\"data row1 col3\" >LD1</td>\n      <td id=\"T_d8be4_row1_col4\" class=\"data row1 col4\" >nan</td>\n      <td id=\"T_d8be4_row1_col5\" class=\"data row1 col5\" >nan</td>\n      <td id=\"T_d8be4_row1_col6\" class=\"data row1 col6\" >nan</td>\n      <td id=\"T_d8be4_row1_col7\" class=\"data row1 col7\" >nan</td>\n    </tr>\n    <tr>\n      <th id=\"T_d8be4_level0_row2\" class=\"row_heading level0 row2\" >2</th>\n      <td id=\"T_d8be4_row2_col0\" class=\"data row2 col0\" >LA2</td>\n      <td id=\"T_d8be4_row2_col1\" class=\"data row2 col1\" >LB2</td>\n      <td id=\"T_d8be4_row2_col2\" class=\"data row2 col2\" >LC2</td>\n      <td id=\"T_d8be4_row2_col3\" class=\"data row2 col3\" >LD2</td>\n      <td id=\"T_d8be4_row2_col4\" class=\"data row2 col4\" >RC2</td>\n      <td id=\"T_d8be4_row2_col5\" class=\"data row2 col5\" >RD2</td>\n      <td id=\"T_d8be4_row2_col6\" class=\"data row2 col6\" >RE2</td>\n      <td id=\"T_d8be4_row2_col7\" class=\"data row2 col7\" >RF2</td>\n    </tr>\n    <tr>\n      <th id=\"T_d8be4_level0_row3\" class=\"row_heading level0 row3\" >3</th>\n      <td id=\"T_d8be4_row3_col0\" class=\"data row3 col0\" >LA3</td>\n      <td id=\"T_d8be4_row3_col1\" class=\"data row3 col1\" >LB3</td>\n      <td id=\"T_d8be4_row3_col2\" class=\"data row3 col2\" >LC3</td>\n      <td id=\"T_d8be4_row3_col3\" class=\"data row3 col3\" >LD3</td>\n      <td id=\"T_d8be4_row3_col4\" class=\"data row3 col4\" >RC3</td>\n      <td id=\"T_d8be4_row3_col5\" class=\"data row3 col5\" >RD3</td>\n      <td id=\"T_d8be4_row3_col6\" class=\"data row3 col6\" >RE3</td>\n      <td id=\"T_d8be4_row3_col7\" class=\"data row3 col7\" >RF3</td>\n    </tr>\n  </tbody>\n</table>\n<style type=\"text/css\">\n#T_a9dc7 th {\n  text-align: left;\n  vertical-align: top;\n}\n</style>\n<table id=\"T_a9dc7\" style='display:inline; margin-right: 50px;'>\n  <caption>how='right'</caption>\n  <thead>\n    <tr>\n      <th class=\"blank level0\" >&nbsp;</th>\n      <th id=\"T_a9dc7_level0_col0\" class=\"col_heading level0 col0\" >LA</th>\n      <th id=\"T_a9dc7_level0_col1\" class=\"col_heading level0 col1\" >LB</th>\n      <th id=\"T_a9dc7_level0_col2\" class=\"col_heading level0 col2\" >LC</th>\n      <th id=\"T_a9dc7_level0_col3\" class=\"col_heading level0 col3\" >LD</th>\n      <th id=\"T_a9dc7_level0_col4\" class=\"col_heading level0 col4\" >RC</th>\n      <th id=\"T_a9dc7_level0_col5\" class=\"col_heading level0 col5\" >RD</th>\n      <th id=\"T_a9dc7_level0_col6\" class=\"col_heading level0 col6\" >RE</th>\n      <th id=\"T_a9dc7_level0_col7\" class=\"col_heading level0 col7\" >RF</th>\n    </tr>\n  </thead>\n  <tbody>\n    <tr>\n      <th id=\"T_a9dc7_level0_row0\" class=\"row_heading level0 row0\" >2</th>\n      <td id=\"T_a9dc7_row0_col0\" class=\"data row0 col0\" >LA2</td>\n      <td id=\"T_a9dc7_row0_col1\" class=\"data row0 col1\" >LB2</td>\n      <td id=\"T_a9dc7_row0_col2\" class=\"data row0 col2\" >LC2</td>\n      <td id=\"T_a9dc7_row0_col3\" class=\"data row0 col3\" >LD2</td>\n      <td id=\"T_a9dc7_row0_col4\" class=\"data row0 col4\" >RC2</td>\n      <td id=\"T_a9dc7_row0_col5\" class=\"data row0 col5\" >RD2</td>\n      <td id=\"T_a9dc7_row0_col6\" class=\"data row0 col6\" >RE2</td>\n      <td id=\"T_a9dc7_row0_col7\" class=\"data row0 col7\" >RF2</td>\n    </tr>\n    <tr>\n      <th id=\"T_a9dc7_level0_row1\" class=\"row_heading level0 row1\" >3</th>\n      <td id=\"T_a9dc7_row1_col0\" class=\"data row1 col0\" >LA3</td>\n      <td id=\"T_a9dc7_row1_col1\" class=\"data row1 col1\" >LB3</td>\n      <td id=\"T_a9dc7_row1_col2\" class=\"data row1 col2\" >LC3</td>\n      <td id=\"T_a9dc7_row1_col3\" class=\"data row1 col3\" >LD3</td>\n      <td id=\"T_a9dc7_row1_col4\" class=\"data row1 col4\" >RC3</td>\n      <td id=\"T_a9dc7_row1_col5\" class=\"data row1 col5\" >RD3</td>\n      <td id=\"T_a9dc7_row1_col6\" class=\"data row1 col6\" >RE3</td>\n      <td id=\"T_a9dc7_row1_col7\" class=\"data row1 col7\" >RF3</td>\n    </tr>\n    <tr>\n      <th id=\"T_a9dc7_level0_row2\" class=\"row_heading level0 row2\" >4</th>\n      <td id=\"T_a9dc7_row2_col0\" class=\"data row2 col0\" >nan</td>\n      <td id=\"T_a9dc7_row2_col1\" class=\"data row2 col1\" >nan</td>\n      <td id=\"T_a9dc7_row2_col2\" class=\"data row2 col2\" >nan</td>\n      <td id=\"T_a9dc7_row2_col3\" class=\"data row2 col3\" >nan</td>\n      <td id=\"T_a9dc7_row2_col4\" class=\"data row2 col4\" >RC4</td>\n      <td id=\"T_a9dc7_row2_col5\" class=\"data row2 col5\" >RD4</td>\n      <td id=\"T_a9dc7_row2_col6\" class=\"data row2 col6\" >RE4</td>\n      <td id=\"T_a9dc7_row2_col7\" class=\"data row2 col7\" >RF4</td>\n    </tr>\n    <tr>\n      <th id=\"T_a9dc7_level0_row3\" class=\"row_heading level0 row3\" >5</th>\n      <td id=\"T_a9dc7_row3_col0\" class=\"data row3 col0\" >nan</td>\n      <td id=\"T_a9dc7_row3_col1\" class=\"data row3 col1\" >nan</td>\n      <td id=\"T_a9dc7_row3_col2\" class=\"data row3 col2\" >nan</td>\n      <td id=\"T_a9dc7_row3_col3\" class=\"data row3 col3\" >nan</td>\n      <td id=\"T_a9dc7_row3_col4\" class=\"data row3 col4\" >RC5</td>\n      <td id=\"T_a9dc7_row3_col5\" class=\"data row3 col5\" >RD5</td>\n      <td id=\"T_a9dc7_row3_col6\" class=\"data row3 col6\" >RE5</td>\n      <td id=\"T_a9dc7_row3_col7\" class=\"data row3 col7\" >RF5</td>\n    </tr>\n  </tbody>\n</table>\n"
     },
     "metadata": {},
     "output_type": "display_data"
    }
   ],
   "source": [
    "hdisplay([\n",
    "    left.join(right, how='left'),\n",
    "    left.join(right, how='right')],\n",
    "    [\"how='left'\", \"how='right'\"]\n",
    ")"
   ],
   "metadata": {
    "collapsed": false,
    "ExecuteTime": {
     "end_time": "2023-11-11T10:20:36.823994300Z",
     "start_time": "2023-11-11T10:20:36.786987300Z"
    }
   },
   "id": "bfdde4a047b826a7"
  },
  {
   "cell_type": "code",
   "execution_count": 10,
   "outputs": [
    {
     "data": {
      "text/html": "<style type=\"text/css\">\n#T_f3d2e th {\n  text-align: left;\n  vertical-align: top;\n}\n</style>\n<table id=\"T_f3d2e\" style='display:inline; margin-right: 50px;'>\n  <caption>how='inner'</caption>\n  <thead>\n    <tr>\n      <th class=\"blank level0\" >&nbsp;</th>\n      <th id=\"T_f3d2e_level0_col0\" class=\"col_heading level0 col0\" >LA</th>\n      <th id=\"T_f3d2e_level0_col1\" class=\"col_heading level0 col1\" >LB</th>\n      <th id=\"T_f3d2e_level0_col2\" class=\"col_heading level0 col2\" >LC</th>\n      <th id=\"T_f3d2e_level0_col3\" class=\"col_heading level0 col3\" >LD</th>\n      <th id=\"T_f3d2e_level0_col4\" class=\"col_heading level0 col4\" >RC</th>\n      <th id=\"T_f3d2e_level0_col5\" class=\"col_heading level0 col5\" >RD</th>\n      <th id=\"T_f3d2e_level0_col6\" class=\"col_heading level0 col6\" >RE</th>\n      <th id=\"T_f3d2e_level0_col7\" class=\"col_heading level0 col7\" >RF</th>\n    </tr>\n  </thead>\n  <tbody>\n    <tr>\n      <th id=\"T_f3d2e_level0_row0\" class=\"row_heading level0 row0\" >2</th>\n      <td id=\"T_f3d2e_row0_col0\" class=\"data row0 col0\" >LA2</td>\n      <td id=\"T_f3d2e_row0_col1\" class=\"data row0 col1\" >LB2</td>\n      <td id=\"T_f3d2e_row0_col2\" class=\"data row0 col2\" >LC2</td>\n      <td id=\"T_f3d2e_row0_col3\" class=\"data row0 col3\" >LD2</td>\n      <td id=\"T_f3d2e_row0_col4\" class=\"data row0 col4\" >RC2</td>\n      <td id=\"T_f3d2e_row0_col5\" class=\"data row0 col5\" >RD2</td>\n      <td id=\"T_f3d2e_row0_col6\" class=\"data row0 col6\" >RE2</td>\n      <td id=\"T_f3d2e_row0_col7\" class=\"data row0 col7\" >RF2</td>\n    </tr>\n    <tr>\n      <th id=\"T_f3d2e_level0_row1\" class=\"row_heading level0 row1\" >3</th>\n      <td id=\"T_f3d2e_row1_col0\" class=\"data row1 col0\" >LA3</td>\n      <td id=\"T_f3d2e_row1_col1\" class=\"data row1 col1\" >LB3</td>\n      <td id=\"T_f3d2e_row1_col2\" class=\"data row1 col2\" >LC3</td>\n      <td id=\"T_f3d2e_row1_col3\" class=\"data row1 col3\" >LD3</td>\n      <td id=\"T_f3d2e_row1_col4\" class=\"data row1 col4\" >RC3</td>\n      <td id=\"T_f3d2e_row1_col5\" class=\"data row1 col5\" >RD3</td>\n      <td id=\"T_f3d2e_row1_col6\" class=\"data row1 col6\" >RE3</td>\n      <td id=\"T_f3d2e_row1_col7\" class=\"data row1 col7\" >RF3</td>\n    </tr>\n  </tbody>\n</table>\n<style type=\"text/css\">\n#T_fdea9 th {\n  text-align: left;\n  vertical-align: top;\n}\n</style>\n<table id=\"T_fdea9\" style='display:inline; margin-right: 50px;'>\n  <caption>how='outer'</caption>\n  <thead>\n    <tr>\n      <th class=\"blank level0\" >&nbsp;</th>\n      <th id=\"T_fdea9_level0_col0\" class=\"col_heading level0 col0\" >LA</th>\n      <th id=\"T_fdea9_level0_col1\" class=\"col_heading level0 col1\" >LB</th>\n      <th id=\"T_fdea9_level0_col2\" class=\"col_heading level0 col2\" >LC</th>\n      <th id=\"T_fdea9_level0_col3\" class=\"col_heading level0 col3\" >LD</th>\n      <th id=\"T_fdea9_level0_col4\" class=\"col_heading level0 col4\" >RC</th>\n      <th id=\"T_fdea9_level0_col5\" class=\"col_heading level0 col5\" >RD</th>\n      <th id=\"T_fdea9_level0_col6\" class=\"col_heading level0 col6\" >RE</th>\n      <th id=\"T_fdea9_level0_col7\" class=\"col_heading level0 col7\" >RF</th>\n    </tr>\n  </thead>\n  <tbody>\n    <tr>\n      <th id=\"T_fdea9_level0_row0\" class=\"row_heading level0 row0\" >0</th>\n      <td id=\"T_fdea9_row0_col0\" class=\"data row0 col0\" >LA0</td>\n      <td id=\"T_fdea9_row0_col1\" class=\"data row0 col1\" >LB0</td>\n      <td id=\"T_fdea9_row0_col2\" class=\"data row0 col2\" >LC0</td>\n      <td id=\"T_fdea9_row0_col3\" class=\"data row0 col3\" >LD0</td>\n      <td id=\"T_fdea9_row0_col4\" class=\"data row0 col4\" >nan</td>\n      <td id=\"T_fdea9_row0_col5\" class=\"data row0 col5\" >nan</td>\n      <td id=\"T_fdea9_row0_col6\" class=\"data row0 col6\" >nan</td>\n      <td id=\"T_fdea9_row0_col7\" class=\"data row0 col7\" >nan</td>\n    </tr>\n    <tr>\n      <th id=\"T_fdea9_level0_row1\" class=\"row_heading level0 row1\" >1</th>\n      <td id=\"T_fdea9_row1_col0\" class=\"data row1 col0\" >LA1</td>\n      <td id=\"T_fdea9_row1_col1\" class=\"data row1 col1\" >LB1</td>\n      <td id=\"T_fdea9_row1_col2\" class=\"data row1 col2\" >LC1</td>\n      <td id=\"T_fdea9_row1_col3\" class=\"data row1 col3\" >LD1</td>\n      <td id=\"T_fdea9_row1_col4\" class=\"data row1 col4\" >nan</td>\n      <td id=\"T_fdea9_row1_col5\" class=\"data row1 col5\" >nan</td>\n      <td id=\"T_fdea9_row1_col6\" class=\"data row1 col6\" >nan</td>\n      <td id=\"T_fdea9_row1_col7\" class=\"data row1 col7\" >nan</td>\n    </tr>\n    <tr>\n      <th id=\"T_fdea9_level0_row2\" class=\"row_heading level0 row2\" >2</th>\n      <td id=\"T_fdea9_row2_col0\" class=\"data row2 col0\" >LA2</td>\n      <td id=\"T_fdea9_row2_col1\" class=\"data row2 col1\" >LB2</td>\n      <td id=\"T_fdea9_row2_col2\" class=\"data row2 col2\" >LC2</td>\n      <td id=\"T_fdea9_row2_col3\" class=\"data row2 col3\" >LD2</td>\n      <td id=\"T_fdea9_row2_col4\" class=\"data row2 col4\" >RC2</td>\n      <td id=\"T_fdea9_row2_col5\" class=\"data row2 col5\" >RD2</td>\n      <td id=\"T_fdea9_row2_col6\" class=\"data row2 col6\" >RE2</td>\n      <td id=\"T_fdea9_row2_col7\" class=\"data row2 col7\" >RF2</td>\n    </tr>\n    <tr>\n      <th id=\"T_fdea9_level0_row3\" class=\"row_heading level0 row3\" >3</th>\n      <td id=\"T_fdea9_row3_col0\" class=\"data row3 col0\" >LA3</td>\n      <td id=\"T_fdea9_row3_col1\" class=\"data row3 col1\" >LB3</td>\n      <td id=\"T_fdea9_row3_col2\" class=\"data row3 col2\" >LC3</td>\n      <td id=\"T_fdea9_row3_col3\" class=\"data row3 col3\" >LD3</td>\n      <td id=\"T_fdea9_row3_col4\" class=\"data row3 col4\" >RC3</td>\n      <td id=\"T_fdea9_row3_col5\" class=\"data row3 col5\" >RD3</td>\n      <td id=\"T_fdea9_row3_col6\" class=\"data row3 col6\" >RE3</td>\n      <td id=\"T_fdea9_row3_col7\" class=\"data row3 col7\" >RF3</td>\n    </tr>\n    <tr>\n      <th id=\"T_fdea9_level0_row4\" class=\"row_heading level0 row4\" >4</th>\n      <td id=\"T_fdea9_row4_col0\" class=\"data row4 col0\" >nan</td>\n      <td id=\"T_fdea9_row4_col1\" class=\"data row4 col1\" >nan</td>\n      <td id=\"T_fdea9_row4_col2\" class=\"data row4 col2\" >nan</td>\n      <td id=\"T_fdea9_row4_col3\" class=\"data row4 col3\" >nan</td>\n      <td id=\"T_fdea9_row4_col4\" class=\"data row4 col4\" >RC4</td>\n      <td id=\"T_fdea9_row4_col5\" class=\"data row4 col5\" >RD4</td>\n      <td id=\"T_fdea9_row4_col6\" class=\"data row4 col6\" >RE4</td>\n      <td id=\"T_fdea9_row4_col7\" class=\"data row4 col7\" >RF4</td>\n    </tr>\n    <tr>\n      <th id=\"T_fdea9_level0_row5\" class=\"row_heading level0 row5\" >5</th>\n      <td id=\"T_fdea9_row5_col0\" class=\"data row5 col0\" >nan</td>\n      <td id=\"T_fdea9_row5_col1\" class=\"data row5 col1\" >nan</td>\n      <td id=\"T_fdea9_row5_col2\" class=\"data row5 col2\" >nan</td>\n      <td id=\"T_fdea9_row5_col3\" class=\"data row5 col3\" >nan</td>\n      <td id=\"T_fdea9_row5_col4\" class=\"data row5 col4\" >RC5</td>\n      <td id=\"T_fdea9_row5_col5\" class=\"data row5 col5\" >RD5</td>\n      <td id=\"T_fdea9_row5_col6\" class=\"data row5 col6\" >RE5</td>\n      <td id=\"T_fdea9_row5_col7\" class=\"data row5 col7\" >RF5</td>\n    </tr>\n  </tbody>\n</table>\n"
     },
     "metadata": {},
     "output_type": "display_data"
    }
   ],
   "source": [
    "hdisplay([\n",
    "    left.join(right, how='inner'),\n",
    "    left.join(right, how='outer')],\n",
    "    [\"how='inner'\", \"how='outer'\"]\n",
    ")"
   ],
   "metadata": {
    "collapsed": false,
    "ExecuteTime": {
     "end_time": "2023-11-11T10:20:40.502856200Z",
     "start_time": "2023-11-11T10:20:40.468850100Z"
    }
   },
   "id": "ddbbabcc57c1ac9"
  },
  {
   "cell_type": "code",
   "execution_count": 11,
   "outputs": [
    {
     "data": {
      "text/plain": "     LA   LB   LC   LD   RC   RD   RE   RF\n0   LA0  LB0  LC0  LD0  RC2  RD2  RE2  RF2\n1   LA0  LB0  LC0  LD0  RC3  RD3  RE3  RF3\n2   LA0  LB0  LC0  LD0  RC4  RD4  RE4  RF4\n3   LA0  LB0  LC0  LD0  RC5  RD5  RE5  RF5\n4   LA1  LB1  LC1  LD1  RC2  RD2  RE2  RF2\n5   LA1  LB1  LC1  LD1  RC3  RD3  RE3  RF3\n6   LA1  LB1  LC1  LD1  RC4  RD4  RE4  RF4\n7   LA1  LB1  LC1  LD1  RC5  RD5  RE5  RF5\n8   LA2  LB2  LC2  LD2  RC2  RD2  RE2  RF2\n9   LA2  LB2  LC2  LD2  RC3  RD3  RE3  RF3\n10  LA2  LB2  LC2  LD2  RC4  RD4  RE4  RF4\n11  LA2  LB2  LC2  LD2  RC5  RD5  RE5  RF5\n12  LA3  LB3  LC3  LD3  RC2  RD2  RE2  RF2\n13  LA3  LB3  LC3  LD3  RC3  RD3  RE3  RF3\n14  LA3  LB3  LC3  LD3  RC4  RD4  RE4  RF4\n15  LA3  LB3  LC3  LD3  RC5  RD5  RE5  RF5",
      "text/html": "<div>\n<style scoped>\n    .dataframe tbody tr th:only-of-type {\n        vertical-align: middle;\n    }\n\n    .dataframe tbody tr th {\n        vertical-align: top;\n    }\n\n    .dataframe thead th {\n        text-align: right;\n    }\n</style>\n<table border=\"1\" class=\"dataframe\">\n  <thead>\n    <tr style=\"text-align: right;\">\n      <th></th>\n      <th>LA</th>\n      <th>LB</th>\n      <th>LC</th>\n      <th>LD</th>\n      <th>RC</th>\n      <th>RD</th>\n      <th>RE</th>\n      <th>RF</th>\n    </tr>\n  </thead>\n  <tbody>\n    <tr>\n      <th>0</th>\n      <td>LA0</td>\n      <td>LB0</td>\n      <td>LC0</td>\n      <td>LD0</td>\n      <td>RC2</td>\n      <td>RD2</td>\n      <td>RE2</td>\n      <td>RF2</td>\n    </tr>\n    <tr>\n      <th>1</th>\n      <td>LA0</td>\n      <td>LB0</td>\n      <td>LC0</td>\n      <td>LD0</td>\n      <td>RC3</td>\n      <td>RD3</td>\n      <td>RE3</td>\n      <td>RF3</td>\n    </tr>\n    <tr>\n      <th>2</th>\n      <td>LA0</td>\n      <td>LB0</td>\n      <td>LC0</td>\n      <td>LD0</td>\n      <td>RC4</td>\n      <td>RD4</td>\n      <td>RE4</td>\n      <td>RF4</td>\n    </tr>\n    <tr>\n      <th>3</th>\n      <td>LA0</td>\n      <td>LB0</td>\n      <td>LC0</td>\n      <td>LD0</td>\n      <td>RC5</td>\n      <td>RD5</td>\n      <td>RE5</td>\n      <td>RF5</td>\n    </tr>\n    <tr>\n      <th>4</th>\n      <td>LA1</td>\n      <td>LB1</td>\n      <td>LC1</td>\n      <td>LD1</td>\n      <td>RC2</td>\n      <td>RD2</td>\n      <td>RE2</td>\n      <td>RF2</td>\n    </tr>\n    <tr>\n      <th>5</th>\n      <td>LA1</td>\n      <td>LB1</td>\n      <td>LC1</td>\n      <td>LD1</td>\n      <td>RC3</td>\n      <td>RD3</td>\n      <td>RE3</td>\n      <td>RF3</td>\n    </tr>\n    <tr>\n      <th>6</th>\n      <td>LA1</td>\n      <td>LB1</td>\n      <td>LC1</td>\n      <td>LD1</td>\n      <td>RC4</td>\n      <td>RD4</td>\n      <td>RE4</td>\n      <td>RF4</td>\n    </tr>\n    <tr>\n      <th>7</th>\n      <td>LA1</td>\n      <td>LB1</td>\n      <td>LC1</td>\n      <td>LD1</td>\n      <td>RC5</td>\n      <td>RD5</td>\n      <td>RE5</td>\n      <td>RF5</td>\n    </tr>\n    <tr>\n      <th>8</th>\n      <td>LA2</td>\n      <td>LB2</td>\n      <td>LC2</td>\n      <td>LD2</td>\n      <td>RC2</td>\n      <td>RD2</td>\n      <td>RE2</td>\n      <td>RF2</td>\n    </tr>\n    <tr>\n      <th>9</th>\n      <td>LA2</td>\n      <td>LB2</td>\n      <td>LC2</td>\n      <td>LD2</td>\n      <td>RC3</td>\n      <td>RD3</td>\n      <td>RE3</td>\n      <td>RF3</td>\n    </tr>\n    <tr>\n      <th>10</th>\n      <td>LA2</td>\n      <td>LB2</td>\n      <td>LC2</td>\n      <td>LD2</td>\n      <td>RC4</td>\n      <td>RD4</td>\n      <td>RE4</td>\n      <td>RF4</td>\n    </tr>\n    <tr>\n      <th>11</th>\n      <td>LA2</td>\n      <td>LB2</td>\n      <td>LC2</td>\n      <td>LD2</td>\n      <td>RC5</td>\n      <td>RD5</td>\n      <td>RE5</td>\n      <td>RF5</td>\n    </tr>\n    <tr>\n      <th>12</th>\n      <td>LA3</td>\n      <td>LB3</td>\n      <td>LC3</td>\n      <td>LD3</td>\n      <td>RC2</td>\n      <td>RD2</td>\n      <td>RE2</td>\n      <td>RF2</td>\n    </tr>\n    <tr>\n      <th>13</th>\n      <td>LA3</td>\n      <td>LB3</td>\n      <td>LC3</td>\n      <td>LD3</td>\n      <td>RC3</td>\n      <td>RD3</td>\n      <td>RE3</td>\n      <td>RF3</td>\n    </tr>\n    <tr>\n      <th>14</th>\n      <td>LA3</td>\n      <td>LB3</td>\n      <td>LC3</td>\n      <td>LD3</td>\n      <td>RC4</td>\n      <td>RD4</td>\n      <td>RE4</td>\n      <td>RF4</td>\n    </tr>\n    <tr>\n      <th>15</th>\n      <td>LA3</td>\n      <td>LB3</td>\n      <td>LC3</td>\n      <td>LD3</td>\n      <td>RC5</td>\n      <td>RD5</td>\n      <td>RE5</td>\n      <td>RF5</td>\n    </tr>\n  </tbody>\n</table>\n</div>"
     },
     "execution_count": 11,
     "metadata": {},
     "output_type": "execute_result"
    }
   ],
   "source": [
    "left.join(right, how=\"cross\")"
   ],
   "metadata": {
    "collapsed": false,
    "ExecuteTime": {
     "end_time": "2023-11-11T10:20:44.466337700Z",
     "start_time": "2023-11-11T10:20:44.412327800Z"
    }
   },
   "id": "8a9812857b349a03"
  },
  {
   "cell_type": "markdown",
   "source": [],
   "metadata": {
    "collapsed": false
   },
   "id": "418a27be8f6c6703"
  },
  {
   "cell_type": "markdown",
   "source": [
    "## Merge\n",
    "Pandas .merge() method is similar to .join(), but is more versatile, and allow us to specify columns beside the index to join on for both dataframes.\n",
    "\n",
    "Note: how parameter works thesame as for join(), butthe default for merge() is \"inner\", not \"left\""
   ],
   "metadata": {
    "collapsed": false
   },
   "id": "5826d06eefe62c66"
  },
  {
   "cell_type": "code",
   "execution_count": 12,
   "outputs": [
    {
     "data": {
      "text/html": "<style type=\"text/css\">\n#T_7df93 th {\n  text-align: left;\n  vertical-align: top;\n}\n</style>\n<table id=\"T_7df93\" style='display:inline; margin-right: 50px;'>\n  <caption>Left</caption>\n  <thead>\n    <tr>\n      <th class=\"blank level0\" >&nbsp;</th>\n      <th id=\"T_7df93_level0_col0\" class=\"col_heading level0 col0\" >LA</th>\n      <th id=\"T_7df93_level0_col1\" class=\"col_heading level0 col1\" >LB</th>\n      <th id=\"T_7df93_level0_col2\" class=\"col_heading level0 col2\" >LC</th>\n      <th id=\"T_7df93_level0_col3\" class=\"col_heading level0 col3\" >LD</th>\n      <th id=\"T_7df93_level0_col4\" class=\"col_heading level0 col4\" >LE</th>\n      <th id=\"T_7df93_level0_col5\" class=\"col_heading level0 col5\" >LF</th>\n    </tr>\n  </thead>\n  <tbody>\n    <tr>\n      <th id=\"T_7df93_level0_row0\" class=\"row_heading level0 row0\" >0</th>\n      <td id=\"T_7df93_row0_col0\" class=\"data row0 col0\" >A0</td>\n      <td id=\"T_7df93_row0_col1\" class=\"data row0 col1\" >B0</td>\n      <td id=\"T_7df93_row0_col2\" class=\"data row0 col2\" >C0</td>\n      <td id=\"T_7df93_row0_col3\" class=\"data row0 col3\" >D0</td>\n      <td id=\"T_7df93_row0_col4\" class=\"data row0 col4\" >E0</td>\n      <td id=\"T_7df93_row0_col5\" class=\"data row0 col5\" >F10</td>\n    </tr>\n    <tr>\n      <th id=\"T_7df93_level0_row1\" class=\"row_heading level0 row1\" >1</th>\n      <td id=\"T_7df93_row1_col0\" class=\"data row1 col0\" >A1</td>\n      <td id=\"T_7df93_row1_col1\" class=\"data row1 col1\" >B1</td>\n      <td id=\"T_7df93_row1_col2\" class=\"data row1 col2\" >C1</td>\n      <td id=\"T_7df93_row1_col3\" class=\"data row1 col3\" >D1</td>\n      <td id=\"T_7df93_row1_col4\" class=\"data row1 col4\" >E1</td>\n      <td id=\"T_7df93_row1_col5\" class=\"data row1 col5\" >F11</td>\n    </tr>\n    <tr>\n      <th id=\"T_7df93_level0_row2\" class=\"row_heading level0 row2\" >2</th>\n      <td id=\"T_7df93_row2_col0\" class=\"data row2 col0\" >A2</td>\n      <td id=\"T_7df93_row2_col1\" class=\"data row2 col1\" >B2</td>\n      <td id=\"T_7df93_row2_col2\" class=\"data row2 col2\" >C2</td>\n      <td id=\"T_7df93_row2_col3\" class=\"data row2 col3\" >D2</td>\n      <td id=\"T_7df93_row2_col4\" class=\"data row2 col4\" >E2</td>\n      <td id=\"T_7df93_row2_col5\" class=\"data row2 col5\" >F10</td>\n    </tr>\n    <tr>\n      <th id=\"T_7df93_level0_row3\" class=\"row_heading level0 row3\" >3</th>\n      <td id=\"T_7df93_row3_col0\" class=\"data row3 col0\" >A3</td>\n      <td id=\"T_7df93_row3_col1\" class=\"data row3 col1\" >B3</td>\n      <td id=\"T_7df93_row3_col2\" class=\"data row3 col2\" >C3</td>\n      <td id=\"T_7df93_row3_col3\" class=\"data row3 col3\" >D3</td>\n      <td id=\"T_7df93_row3_col4\" class=\"data row3 col4\" >E3</td>\n      <td id=\"T_7df93_row3_col5\" class=\"data row3 col5\" >F11</td>\n    </tr>\n  </tbody>\n</table>\n<style type=\"text/css\">\n#T_57149 th {\n  text-align: left;\n  vertical-align: top;\n}\n</style>\n<table id=\"T_57149\" style='display:inline; margin-right: 50px;'>\n  <caption>Right</caption>\n  <thead>\n    <tr>\n      <th class=\"blank level0\" >&nbsp;</th>\n      <th id=\"T_57149_level0_col0\" class=\"col_heading level0 col0\" >RF</th>\n      <th id=\"T_57149_level0_col1\" class=\"col_heading level0 col1\" >RG</th>\n      <th id=\"T_57149_level0_col2\" class=\"col_heading level0 col2\" >RH</th>\n      <th id=\"T_57149_level0_col3\" class=\"col_heading level0 col3\" >RI</th>\n      <th id=\"T_57149_level0_col4\" class=\"col_heading level0 col4\" >RJ</th>\n    </tr>\n  </thead>\n  <tbody>\n    <tr>\n      <th id=\"T_57149_level0_row0\" class=\"row_heading level0 row0\" >10</th>\n      <td id=\"T_57149_row0_col0\" class=\"data row0 col0\" >F10</td>\n      <td id=\"T_57149_row0_col1\" class=\"data row0 col1\" >G10</td>\n      <td id=\"T_57149_row0_col2\" class=\"data row0 col2\" >H10</td>\n      <td id=\"T_57149_row0_col3\" class=\"data row0 col3\" >I10</td>\n      <td id=\"T_57149_row0_col4\" class=\"data row0 col4\" >J10</td>\n    </tr>\n    <tr>\n      <th id=\"T_57149_level0_row1\" class=\"row_heading level0 row1\" >11</th>\n      <td id=\"T_57149_row1_col0\" class=\"data row1 col0\" >F11</td>\n      <td id=\"T_57149_row1_col1\" class=\"data row1 col1\" >G11</td>\n      <td id=\"T_57149_row1_col2\" class=\"data row1 col2\" >H11</td>\n      <td id=\"T_57149_row1_col3\" class=\"data row1 col3\" >I11</td>\n      <td id=\"T_57149_row1_col4\" class=\"data row1 col4\" >J11</td>\n    </tr>\n    <tr>\n      <th id=\"T_57149_level0_row2\" class=\"row_heading level0 row2\" >12</th>\n      <td id=\"T_57149_row2_col0\" class=\"data row2 col0\" >F12</td>\n      <td id=\"T_57149_row2_col1\" class=\"data row2 col1\" >G12</td>\n      <td id=\"T_57149_row2_col2\" class=\"data row2 col2\" >H12</td>\n      <td id=\"T_57149_row2_col3\" class=\"data row2 col3\" >I12</td>\n      <td id=\"T_57149_row2_col4\" class=\"data row2 col4\" >J12</td>\n    </tr>\n    <tr>\n      <th id=\"T_57149_level0_row3\" class=\"row_heading level0 row3\" >13</th>\n      <td id=\"T_57149_row3_col0\" class=\"data row3 col0\" >F13</td>\n      <td id=\"T_57149_row3_col1\" class=\"data row3 col1\" >G13</td>\n      <td id=\"T_57149_row3_col2\" class=\"data row3 col2\" >H13</td>\n      <td id=\"T_57149_row3_col3\" class=\"data row3 col3\" >I13</td>\n      <td id=\"T_57149_row3_col4\" class=\"data row3 col4\" >J13</td>\n    </tr>\n  </tbody>\n</table>\n"
     },
     "metadata": {},
     "output_type": "display_data"
    }
   ],
   "source": [
    "# New sample data\n",
    "left = sample_df(\"A0\", \"E3\").add_prefix(\"L\")\n",
    "left.loc[:, \"LF\"] = [\"F10\", \"F11\", \"F10\", \"F11\"]\n",
    "#left.loc[:, \"LG\"] = [\"G10\", \"G11\", \"G12\", \"G13\"]\n",
    "right = sample_df(\"F10\", \"J13\").add_prefix(\"R\")\n",
    "hdisplay([left, right], [\"Left\", \"Right\"])"
   ],
   "metadata": {
    "collapsed": false,
    "ExecuteTime": {
     "end_time": "2023-11-11T10:21:01.851264800Z",
     "start_time": "2023-11-11T10:21:01.824259400Z"
    }
   },
   "id": "672578cea5db6563"
  },
  {
   "cell_type": "code",
   "execution_count": 13,
   "outputs": [
    {
     "data": {
      "text/plain": "    LA   LB   LC   LD   LE   LF   RF   RG   RH   RI   RJ\n0   A0   B0   C0   D0   E0  F10  F10  G10  H10  I10  J10\n1   A2   B2   C2   D2   E2  F10  F10  G10  H10  I10  J10\n2   A1   B1   C1   D1   E1  F11  F11  G11  H11  I11  J11\n3   A3   B3   C3   D3   E3  F11  F11  G11  H11  I11  J11\n4  NaN  NaN  NaN  NaN  NaN  NaN  F12  G12  H12  I12  J12\n5  NaN  NaN  NaN  NaN  NaN  NaN  F13  G13  H13  I13  J13",
      "text/html": "<div>\n<style scoped>\n    .dataframe tbody tr th:only-of-type {\n        vertical-align: middle;\n    }\n\n    .dataframe tbody tr th {\n        vertical-align: top;\n    }\n\n    .dataframe thead th {\n        text-align: right;\n    }\n</style>\n<table border=\"1\" class=\"dataframe\">\n  <thead>\n    <tr style=\"text-align: right;\">\n      <th></th>\n      <th>LA</th>\n      <th>LB</th>\n      <th>LC</th>\n      <th>LD</th>\n      <th>LE</th>\n      <th>LF</th>\n      <th>RF</th>\n      <th>RG</th>\n      <th>RH</th>\n      <th>RI</th>\n      <th>RJ</th>\n    </tr>\n  </thead>\n  <tbody>\n    <tr>\n      <th>0</th>\n      <td>A0</td>\n      <td>B0</td>\n      <td>C0</td>\n      <td>D0</td>\n      <td>E0</td>\n      <td>F10</td>\n      <td>F10</td>\n      <td>G10</td>\n      <td>H10</td>\n      <td>I10</td>\n      <td>J10</td>\n    </tr>\n    <tr>\n      <th>1</th>\n      <td>A2</td>\n      <td>B2</td>\n      <td>C2</td>\n      <td>D2</td>\n      <td>E2</td>\n      <td>F10</td>\n      <td>F10</td>\n      <td>G10</td>\n      <td>H10</td>\n      <td>I10</td>\n      <td>J10</td>\n    </tr>\n    <tr>\n      <th>2</th>\n      <td>A1</td>\n      <td>B1</td>\n      <td>C1</td>\n      <td>D1</td>\n      <td>E1</td>\n      <td>F11</td>\n      <td>F11</td>\n      <td>G11</td>\n      <td>H11</td>\n      <td>I11</td>\n      <td>J11</td>\n    </tr>\n    <tr>\n      <th>3</th>\n      <td>A3</td>\n      <td>B3</td>\n      <td>C3</td>\n      <td>D3</td>\n      <td>E3</td>\n      <td>F11</td>\n      <td>F11</td>\n      <td>G11</td>\n      <td>H11</td>\n      <td>I11</td>\n      <td>J11</td>\n    </tr>\n    <tr>\n      <th>4</th>\n      <td>NaN</td>\n      <td>NaN</td>\n      <td>NaN</td>\n      <td>NaN</td>\n      <td>NaN</td>\n      <td>NaN</td>\n      <td>F12</td>\n      <td>G12</td>\n      <td>H12</td>\n      <td>I12</td>\n      <td>J12</td>\n    </tr>\n    <tr>\n      <th>5</th>\n      <td>NaN</td>\n      <td>NaN</td>\n      <td>NaN</td>\n      <td>NaN</td>\n      <td>NaN</td>\n      <td>NaN</td>\n      <td>F13</td>\n      <td>G13</td>\n      <td>H13</td>\n      <td>I13</td>\n      <td>J13</td>\n    </tr>\n  </tbody>\n</table>\n</div>"
     },
     "execution_count": 13,
     "metadata": {},
     "output_type": "execute_result"
    }
   ],
   "source": [
    "left.merge(right, how='right', left_on='LF', right_on='RF')"
   ],
   "metadata": {
    "collapsed": false,
    "ExecuteTime": {
     "end_time": "2023-11-11T10:21:06.186780700Z",
     "start_time": "2023-11-11T10:21:06.147274700Z"
    }
   },
   "id": "b5020b0bfba9c276"
  },
  {
   "cell_type": "markdown",
   "source": [
    "## Working with real data"
   ],
   "metadata": {
    "collapsed": false
   },
   "id": "4cc4499a38b91ba6"
  },
  {
   "cell_type": "code",
   "execution_count": 14,
   "outputs": [
    {
     "ename": "FileNotFoundError",
     "evalue": "File ../data/employees.json does not exist",
     "output_type": "error",
     "traceback": [
      "\u001B[1;31m---------------------------------------------------------------------------\u001B[0m",
      "\u001B[1;31mFileNotFoundError\u001B[0m                         Traceback (most recent call last)",
      "Cell \u001B[1;32mIn[14], line 1\u001B[0m\n\u001B[1;32m----> 1\u001B[0m employees \u001B[38;5;241m=\u001B[39m \u001B[43mpd\u001B[49m\u001B[38;5;241;43m.\u001B[39;49m\u001B[43mread_json\u001B[49m\u001B[43m(\u001B[49m\u001B[38;5;124;43m\"\u001B[39;49m\u001B[38;5;124;43m../data/employees.json\u001B[39;49m\u001B[38;5;124;43m\"\u001B[39;49m\u001B[43m)\u001B[49m\n\u001B[0;32m      2\u001B[0m departments \u001B[38;5;241m=\u001B[39m pd\u001B[38;5;241m.\u001B[39mread_json(\u001B[38;5;124m\"\u001B[39m\u001B[38;5;124m../data/departments.json\u001B[39m\u001B[38;5;124m\"\u001B[39m)\n\u001B[0;32m      3\u001B[0m display(employees)\n",
      "File \u001B[1;32m~\\anaconda3\\lib\\site-packages\\pandas\\util\\_decorators.py:211\u001B[0m, in \u001B[0;36mdeprecate_kwarg.<locals>._deprecate_kwarg.<locals>.wrapper\u001B[1;34m(*args, **kwargs)\u001B[0m\n\u001B[0;32m    209\u001B[0m     \u001B[38;5;28;01melse\u001B[39;00m:\n\u001B[0;32m    210\u001B[0m         kwargs[new_arg_name] \u001B[38;5;241m=\u001B[39m new_arg_value\n\u001B[1;32m--> 211\u001B[0m \u001B[38;5;28;01mreturn\u001B[39;00m func(\u001B[38;5;241m*\u001B[39margs, \u001B[38;5;241m*\u001B[39m\u001B[38;5;241m*\u001B[39mkwargs)\n",
      "File \u001B[1;32m~\\anaconda3\\lib\\site-packages\\pandas\\util\\_decorators.py:331\u001B[0m, in \u001B[0;36mdeprecate_nonkeyword_arguments.<locals>.decorate.<locals>.wrapper\u001B[1;34m(*args, **kwargs)\u001B[0m\n\u001B[0;32m    325\u001B[0m \u001B[38;5;28;01mif\u001B[39;00m \u001B[38;5;28mlen\u001B[39m(args) \u001B[38;5;241m>\u001B[39m num_allow_args:\n\u001B[0;32m    326\u001B[0m     warnings\u001B[38;5;241m.\u001B[39mwarn(\n\u001B[0;32m    327\u001B[0m         msg\u001B[38;5;241m.\u001B[39mformat(arguments\u001B[38;5;241m=\u001B[39m_format_argument_list(allow_args)),\n\u001B[0;32m    328\u001B[0m         \u001B[38;5;167;01mFutureWarning\u001B[39;00m,\n\u001B[0;32m    329\u001B[0m         stacklevel\u001B[38;5;241m=\u001B[39mfind_stack_level(),\n\u001B[0;32m    330\u001B[0m     )\n\u001B[1;32m--> 331\u001B[0m \u001B[38;5;28;01mreturn\u001B[39;00m func(\u001B[38;5;241m*\u001B[39margs, \u001B[38;5;241m*\u001B[39m\u001B[38;5;241m*\u001B[39mkwargs)\n",
      "File \u001B[1;32m~\\anaconda3\\lib\\site-packages\\pandas\\io\\json\\_json.py:733\u001B[0m, in \u001B[0;36mread_json\u001B[1;34m(path_or_buf, orient, typ, dtype, convert_axes, convert_dates, keep_default_dates, numpy, precise_float, date_unit, encoding, encoding_errors, lines, chunksize, compression, nrows, storage_options)\u001B[0m\n\u001B[0;32m    730\u001B[0m \u001B[38;5;28;01mif\u001B[39;00m convert_axes \u001B[38;5;129;01mis\u001B[39;00m \u001B[38;5;28;01mNone\u001B[39;00m \u001B[38;5;129;01mand\u001B[39;00m orient \u001B[38;5;241m!=\u001B[39m \u001B[38;5;124m\"\u001B[39m\u001B[38;5;124mtable\u001B[39m\u001B[38;5;124m\"\u001B[39m:\n\u001B[0;32m    731\u001B[0m     convert_axes \u001B[38;5;241m=\u001B[39m \u001B[38;5;28;01mTrue\u001B[39;00m\n\u001B[1;32m--> 733\u001B[0m json_reader \u001B[38;5;241m=\u001B[39m \u001B[43mJsonReader\u001B[49m\u001B[43m(\u001B[49m\n\u001B[0;32m    734\u001B[0m \u001B[43m    \u001B[49m\u001B[43mpath_or_buf\u001B[49m\u001B[43m,\u001B[49m\n\u001B[0;32m    735\u001B[0m \u001B[43m    \u001B[49m\u001B[43morient\u001B[49m\u001B[38;5;241;43m=\u001B[39;49m\u001B[43morient\u001B[49m\u001B[43m,\u001B[49m\n\u001B[0;32m    736\u001B[0m \u001B[43m    \u001B[49m\u001B[43mtyp\u001B[49m\u001B[38;5;241;43m=\u001B[39;49m\u001B[43mtyp\u001B[49m\u001B[43m,\u001B[49m\n\u001B[0;32m    737\u001B[0m \u001B[43m    \u001B[49m\u001B[43mdtype\u001B[49m\u001B[38;5;241;43m=\u001B[39;49m\u001B[43mdtype\u001B[49m\u001B[43m,\u001B[49m\n\u001B[0;32m    738\u001B[0m \u001B[43m    \u001B[49m\u001B[43mconvert_axes\u001B[49m\u001B[38;5;241;43m=\u001B[39;49m\u001B[43mconvert_axes\u001B[49m\u001B[43m,\u001B[49m\n\u001B[0;32m    739\u001B[0m \u001B[43m    \u001B[49m\u001B[43mconvert_dates\u001B[49m\u001B[38;5;241;43m=\u001B[39;49m\u001B[43mconvert_dates\u001B[49m\u001B[43m,\u001B[49m\n\u001B[0;32m    740\u001B[0m \u001B[43m    \u001B[49m\u001B[43mkeep_default_dates\u001B[49m\u001B[38;5;241;43m=\u001B[39;49m\u001B[43mkeep_default_dates\u001B[49m\u001B[43m,\u001B[49m\n\u001B[0;32m    741\u001B[0m \u001B[43m    \u001B[49m\u001B[43mnumpy\u001B[49m\u001B[38;5;241;43m=\u001B[39;49m\u001B[43mnumpy\u001B[49m\u001B[43m,\u001B[49m\n\u001B[0;32m    742\u001B[0m \u001B[43m    \u001B[49m\u001B[43mprecise_float\u001B[49m\u001B[38;5;241;43m=\u001B[39;49m\u001B[43mprecise_float\u001B[49m\u001B[43m,\u001B[49m\n\u001B[0;32m    743\u001B[0m \u001B[43m    \u001B[49m\u001B[43mdate_unit\u001B[49m\u001B[38;5;241;43m=\u001B[39;49m\u001B[43mdate_unit\u001B[49m\u001B[43m,\u001B[49m\n\u001B[0;32m    744\u001B[0m \u001B[43m    \u001B[49m\u001B[43mencoding\u001B[49m\u001B[38;5;241;43m=\u001B[39;49m\u001B[43mencoding\u001B[49m\u001B[43m,\u001B[49m\n\u001B[0;32m    745\u001B[0m \u001B[43m    \u001B[49m\u001B[43mlines\u001B[49m\u001B[38;5;241;43m=\u001B[39;49m\u001B[43mlines\u001B[49m\u001B[43m,\u001B[49m\n\u001B[0;32m    746\u001B[0m \u001B[43m    \u001B[49m\u001B[43mchunksize\u001B[49m\u001B[38;5;241;43m=\u001B[39;49m\u001B[43mchunksize\u001B[49m\u001B[43m,\u001B[49m\n\u001B[0;32m    747\u001B[0m \u001B[43m    \u001B[49m\u001B[43mcompression\u001B[49m\u001B[38;5;241;43m=\u001B[39;49m\u001B[43mcompression\u001B[49m\u001B[43m,\u001B[49m\n\u001B[0;32m    748\u001B[0m \u001B[43m    \u001B[49m\u001B[43mnrows\u001B[49m\u001B[38;5;241;43m=\u001B[39;49m\u001B[43mnrows\u001B[49m\u001B[43m,\u001B[49m\n\u001B[0;32m    749\u001B[0m \u001B[43m    \u001B[49m\u001B[43mstorage_options\u001B[49m\u001B[38;5;241;43m=\u001B[39;49m\u001B[43mstorage_options\u001B[49m\u001B[43m,\u001B[49m\n\u001B[0;32m    750\u001B[0m \u001B[43m    \u001B[49m\u001B[43mencoding_errors\u001B[49m\u001B[38;5;241;43m=\u001B[39;49m\u001B[43mencoding_errors\u001B[49m\u001B[43m,\u001B[49m\n\u001B[0;32m    751\u001B[0m \u001B[43m\u001B[49m\u001B[43m)\u001B[49m\n\u001B[0;32m    753\u001B[0m \u001B[38;5;28;01mif\u001B[39;00m chunksize:\n\u001B[0;32m    754\u001B[0m     \u001B[38;5;28;01mreturn\u001B[39;00m json_reader\n",
      "File \u001B[1;32m~\\anaconda3\\lib\\site-packages\\pandas\\io\\json\\_json.py:818\u001B[0m, in \u001B[0;36mJsonReader.__init__\u001B[1;34m(self, filepath_or_buffer, orient, typ, dtype, convert_axes, convert_dates, keep_default_dates, numpy, precise_float, date_unit, encoding, lines, chunksize, compression, nrows, storage_options, encoding_errors)\u001B[0m\n\u001B[0;32m    815\u001B[0m     \u001B[38;5;28;01mif\u001B[39;00m \u001B[38;5;129;01mnot\u001B[39;00m \u001B[38;5;28mself\u001B[39m\u001B[38;5;241m.\u001B[39mlines:\n\u001B[0;32m    816\u001B[0m         \u001B[38;5;28;01mraise\u001B[39;00m \u001B[38;5;167;01mValueError\u001B[39;00m(\u001B[38;5;124m\"\u001B[39m\u001B[38;5;124mnrows can only be passed if lines=True\u001B[39m\u001B[38;5;124m\"\u001B[39m)\n\u001B[1;32m--> 818\u001B[0m data \u001B[38;5;241m=\u001B[39m \u001B[38;5;28;43mself\u001B[39;49m\u001B[38;5;241;43m.\u001B[39;49m\u001B[43m_get_data_from_filepath\u001B[49m\u001B[43m(\u001B[49m\u001B[43mfilepath_or_buffer\u001B[49m\u001B[43m)\u001B[49m\n\u001B[0;32m    819\u001B[0m \u001B[38;5;28mself\u001B[39m\u001B[38;5;241m.\u001B[39mdata \u001B[38;5;241m=\u001B[39m \u001B[38;5;28mself\u001B[39m\u001B[38;5;241m.\u001B[39m_preprocess_data(data)\n",
      "File \u001B[1;32m~\\anaconda3\\lib\\site-packages\\pandas\\io\\json\\_json.py:874\u001B[0m, in \u001B[0;36mJsonReader._get_data_from_filepath\u001B[1;34m(self, filepath_or_buffer)\u001B[0m\n\u001B[0;32m    866\u001B[0m     filepath_or_buffer \u001B[38;5;241m=\u001B[39m \u001B[38;5;28mself\u001B[39m\u001B[38;5;241m.\u001B[39mhandles\u001B[38;5;241m.\u001B[39mhandle\n\u001B[0;32m    867\u001B[0m \u001B[38;5;28;01melif\u001B[39;00m (\n\u001B[0;32m    868\u001B[0m     \u001B[38;5;28misinstance\u001B[39m(filepath_or_buffer, \u001B[38;5;28mstr\u001B[39m)\n\u001B[0;32m    869\u001B[0m     \u001B[38;5;129;01mand\u001B[39;00m filepath_or_buffer\u001B[38;5;241m.\u001B[39mlower()\u001B[38;5;241m.\u001B[39mendswith(\n\u001B[1;32m   (...)\u001B[0m\n\u001B[0;32m    872\u001B[0m     \u001B[38;5;129;01mand\u001B[39;00m \u001B[38;5;129;01mnot\u001B[39;00m file_exists(filepath_or_buffer)\n\u001B[0;32m    873\u001B[0m ):\n\u001B[1;32m--> 874\u001B[0m     \u001B[38;5;28;01mraise\u001B[39;00m \u001B[38;5;167;01mFileNotFoundError\u001B[39;00m(\u001B[38;5;124mf\u001B[39m\u001B[38;5;124m\"\u001B[39m\u001B[38;5;124mFile \u001B[39m\u001B[38;5;132;01m{\u001B[39;00mfilepath_or_buffer\u001B[38;5;132;01m}\u001B[39;00m\u001B[38;5;124m does not exist\u001B[39m\u001B[38;5;124m\"\u001B[39m)\n\u001B[0;32m    876\u001B[0m \u001B[38;5;28;01mreturn\u001B[39;00m filepath_or_buffer\n",
      "\u001B[1;31mFileNotFoundError\u001B[0m: File ../data/employees.json does not exist"
     ]
    }
   ],
   "source": [
    "employees = pd.read_json(\"../data/employees.json\")\n",
    "departments = pd.read_json(\"../data/departments.json\")\n",
    "display(employees)\n",
    "display(departments)"
   ],
   "metadata": {
    "collapsed": false,
    "ExecuteTime": {
     "end_time": "2023-11-11T10:21:23.372989700Z",
     "start_time": "2023-11-11T10:21:22.619992800Z"
    }
   },
   "id": "bdd6ff9a2e32db86"
  },
  {
   "cell_type": "code",
   "execution_count": 15,
   "outputs": [
    {
     "ename": "NameError",
     "evalue": "name 'employees' is not defined",
     "output_type": "error",
     "traceback": [
      "\u001B[1;31m---------------------------------------------------------------------------\u001B[0m",
      "\u001B[1;31mNameError\u001B[0m                                 Traceback (most recent call last)",
      "Cell \u001B[1;32mIn[15], line 1\u001B[0m\n\u001B[1;32m----> 1\u001B[0m new_df \u001B[38;5;241m=\u001B[39m \u001B[43memployees\u001B[49m\u001B[38;5;241m.\u001B[39mmerge(departments, left_on\u001B[38;5;241m=\u001B[39m\u001B[38;5;124m\"\u001B[39m\u001B[38;5;124mdepartment\u001B[39m\u001B[38;5;124m\"\u001B[39m, right_on\u001B[38;5;241m=\u001B[39m\u001B[38;5;124m\"\u001B[39m\u001B[38;5;124mdepartment_name\u001B[39m\u001B[38;5;124m\"\u001B[39m)\n\u001B[0;32m      2\u001B[0m new_df\n",
      "\u001B[1;31mNameError\u001B[0m: name 'employees' is not defined"
     ]
    }
   ],
   "source": [
    "new_df = employees.merge(departments, left_on=\"department\", right_on=\"department_name\")\n",
    "new_df"
   ],
   "metadata": {
    "collapsed": false,
    "ExecuteTime": {
     "end_time": "2023-11-11T10:21:32.576480600Z",
     "start_time": "2023-11-11T10:21:32.521471600Z"
    }
   },
   "id": "a4b064c9003aa4f5"
  },
  {
   "cell_type": "code",
   "execution_count": 16,
   "outputs": [
    {
     "ename": "NameError",
     "evalue": "name 'new_df' is not defined",
     "output_type": "error",
     "traceback": [
      "\u001B[1;31m---------------------------------------------------------------------------\u001B[0m",
      "\u001B[1;31mNameError\u001B[0m                                 Traceback (most recent call last)",
      "Cell \u001B[1;32mIn[16], line 1\u001B[0m\n\u001B[1;32m----> 1\u001B[0m grouped_df \u001B[38;5;241m=\u001B[39m (\u001B[43mnew_df\u001B[49m\u001B[38;5;241m.\u001B[39mgroupby([\u001B[38;5;124m\"\u001B[39m\u001B[38;5;124mdepartment\u001B[39m\u001B[38;5;124m\"\u001B[39m, \u001B[38;5;124m\"\u001B[39m\u001B[38;5;124mdepartment_name\u001B[39m\u001B[38;5;124m\"\u001B[39m, \u001B[38;5;124m\"\u001B[39m\u001B[38;5;124mdepartment_head\u001B[39m\u001B[38;5;124m\"\u001B[39m, \u001B[38;5;124m\"\u001B[39m\u001B[38;5;124mlocation\u001B[39m\u001B[38;5;124m\"\u001B[39m, \u001B[38;5;124m\"\u001B[39m\u001B[38;5;124moffice_number\u001B[39m\u001B[38;5;124m\"\u001B[39m, \u001B[38;5;124m\"\u001B[39m\u001B[38;5;124mbudget\u001B[39m\u001B[38;5;124m\"\u001B[39m]\n\u001B[0;32m      2\u001B[0m                              ,as_index\u001B[38;5;241m=\u001B[39m\u001B[38;5;28;01mFalse\u001B[39;00m)\n\u001B[0;32m      3\u001B[0m                     \u001B[38;5;241m.\u001B[39magg(\n\u001B[0;32m      4\u001B[0m                         number_of_employees \u001B[38;5;241m=\u001B[39m pd\u001B[38;5;241m.\u001B[39mNamedAgg(column\u001B[38;5;241m=\u001B[39m\u001B[38;5;124m\"\u001B[39m\u001B[38;5;124msalary\u001B[39m\u001B[38;5;124m\"\u001B[39m, aggfunc\u001B[38;5;241m=\u001B[39m\u001B[38;5;124m\"\u001B[39m\u001B[38;5;124mcount\u001B[39m\u001B[38;5;124m\"\u001B[39m),\n\u001B[0;32m      5\u001B[0m                         average_salary \u001B[38;5;241m=\u001B[39m pd\u001B[38;5;241m.\u001B[39mNamedAgg(column\u001B[38;5;241m=\u001B[39m\u001B[38;5;124m\"\u001B[39m\u001B[38;5;124msalary\u001B[39m\u001B[38;5;124m\"\u001B[39m, aggfunc\u001B[38;5;241m=\u001B[39m\u001B[38;5;124m\"\u001B[39m\u001B[38;5;124mmean\u001B[39m\u001B[38;5;124m\"\u001B[39m),\n\u001B[0;32m      6\u001B[0m                     ))\n\u001B[0;32m      7\u001B[0m nowrap_display(grouped_df)\n",
      "\u001B[1;31mNameError\u001B[0m: name 'new_df' is not defined"
     ]
    }
   ],
   "source": [
    "grouped_df = (new_df.groupby([\"department\", \"department_name\", \"department_head\", \"location\", \"office_number\", \"budget\"]\n",
    "                             ,as_index=False)\n",
    "                    .agg(\n",
    "                        number_of_employees = pd.NamedAgg(column=\"salary\", aggfunc=\"count\"),\n",
    "                        average_salary = pd.NamedAgg(column=\"salary\", aggfunc=\"mean\"),\n",
    "                    ))\n",
    "nowrap_display(grouped_df)"
   ],
   "metadata": {
    "collapsed": false,
    "ExecuteTime": {
     "end_time": "2023-11-11T10:21:39.275350Z",
     "start_time": "2023-11-11T10:21:39.208338500Z"
    }
   },
   "id": "afc7925fe66588f1"
  },
  {
   "cell_type": "code",
   "execution_count": 17,
   "outputs": [
    {
     "ename": "FileNotFoundError",
     "evalue": "File ../data/users.json does not exist",
     "output_type": "error",
     "traceback": [
      "\u001B[1;31m---------------------------------------------------------------------------\u001B[0m",
      "\u001B[1;31mFileNotFoundError\u001B[0m                         Traceback (most recent call last)",
      "Cell \u001B[1;32mIn[17], line 1\u001B[0m\n\u001B[1;32m----> 1\u001B[0m users \u001B[38;5;241m=\u001B[39m \u001B[43mpd\u001B[49m\u001B[38;5;241;43m.\u001B[39;49m\u001B[43mread_json\u001B[49m\u001B[43m(\u001B[49m\u001B[38;5;124;43m\"\u001B[39;49m\u001B[38;5;124;43m../data/users.json\u001B[39;49m\u001B[38;5;124;43m\"\u001B[39;49m\u001B[43m)\u001B[49m\n\u001B[0;32m      2\u001B[0m nowrap_display(users)\n",
      "File \u001B[1;32m~\\anaconda3\\lib\\site-packages\\pandas\\util\\_decorators.py:211\u001B[0m, in \u001B[0;36mdeprecate_kwarg.<locals>._deprecate_kwarg.<locals>.wrapper\u001B[1;34m(*args, **kwargs)\u001B[0m\n\u001B[0;32m    209\u001B[0m     \u001B[38;5;28;01melse\u001B[39;00m:\n\u001B[0;32m    210\u001B[0m         kwargs[new_arg_name] \u001B[38;5;241m=\u001B[39m new_arg_value\n\u001B[1;32m--> 211\u001B[0m \u001B[38;5;28;01mreturn\u001B[39;00m func(\u001B[38;5;241m*\u001B[39margs, \u001B[38;5;241m*\u001B[39m\u001B[38;5;241m*\u001B[39mkwargs)\n",
      "File \u001B[1;32m~\\anaconda3\\lib\\site-packages\\pandas\\util\\_decorators.py:331\u001B[0m, in \u001B[0;36mdeprecate_nonkeyword_arguments.<locals>.decorate.<locals>.wrapper\u001B[1;34m(*args, **kwargs)\u001B[0m\n\u001B[0;32m    325\u001B[0m \u001B[38;5;28;01mif\u001B[39;00m \u001B[38;5;28mlen\u001B[39m(args) \u001B[38;5;241m>\u001B[39m num_allow_args:\n\u001B[0;32m    326\u001B[0m     warnings\u001B[38;5;241m.\u001B[39mwarn(\n\u001B[0;32m    327\u001B[0m         msg\u001B[38;5;241m.\u001B[39mformat(arguments\u001B[38;5;241m=\u001B[39m_format_argument_list(allow_args)),\n\u001B[0;32m    328\u001B[0m         \u001B[38;5;167;01mFutureWarning\u001B[39;00m,\n\u001B[0;32m    329\u001B[0m         stacklevel\u001B[38;5;241m=\u001B[39mfind_stack_level(),\n\u001B[0;32m    330\u001B[0m     )\n\u001B[1;32m--> 331\u001B[0m \u001B[38;5;28;01mreturn\u001B[39;00m func(\u001B[38;5;241m*\u001B[39margs, \u001B[38;5;241m*\u001B[39m\u001B[38;5;241m*\u001B[39mkwargs)\n",
      "File \u001B[1;32m~\\anaconda3\\lib\\site-packages\\pandas\\io\\json\\_json.py:733\u001B[0m, in \u001B[0;36mread_json\u001B[1;34m(path_or_buf, orient, typ, dtype, convert_axes, convert_dates, keep_default_dates, numpy, precise_float, date_unit, encoding, encoding_errors, lines, chunksize, compression, nrows, storage_options)\u001B[0m\n\u001B[0;32m    730\u001B[0m \u001B[38;5;28;01mif\u001B[39;00m convert_axes \u001B[38;5;129;01mis\u001B[39;00m \u001B[38;5;28;01mNone\u001B[39;00m \u001B[38;5;129;01mand\u001B[39;00m orient \u001B[38;5;241m!=\u001B[39m \u001B[38;5;124m\"\u001B[39m\u001B[38;5;124mtable\u001B[39m\u001B[38;5;124m\"\u001B[39m:\n\u001B[0;32m    731\u001B[0m     convert_axes \u001B[38;5;241m=\u001B[39m \u001B[38;5;28;01mTrue\u001B[39;00m\n\u001B[1;32m--> 733\u001B[0m json_reader \u001B[38;5;241m=\u001B[39m \u001B[43mJsonReader\u001B[49m\u001B[43m(\u001B[49m\n\u001B[0;32m    734\u001B[0m \u001B[43m    \u001B[49m\u001B[43mpath_or_buf\u001B[49m\u001B[43m,\u001B[49m\n\u001B[0;32m    735\u001B[0m \u001B[43m    \u001B[49m\u001B[43morient\u001B[49m\u001B[38;5;241;43m=\u001B[39;49m\u001B[43morient\u001B[49m\u001B[43m,\u001B[49m\n\u001B[0;32m    736\u001B[0m \u001B[43m    \u001B[49m\u001B[43mtyp\u001B[49m\u001B[38;5;241;43m=\u001B[39;49m\u001B[43mtyp\u001B[49m\u001B[43m,\u001B[49m\n\u001B[0;32m    737\u001B[0m \u001B[43m    \u001B[49m\u001B[43mdtype\u001B[49m\u001B[38;5;241;43m=\u001B[39;49m\u001B[43mdtype\u001B[49m\u001B[43m,\u001B[49m\n\u001B[0;32m    738\u001B[0m \u001B[43m    \u001B[49m\u001B[43mconvert_axes\u001B[49m\u001B[38;5;241;43m=\u001B[39;49m\u001B[43mconvert_axes\u001B[49m\u001B[43m,\u001B[49m\n\u001B[0;32m    739\u001B[0m \u001B[43m    \u001B[49m\u001B[43mconvert_dates\u001B[49m\u001B[38;5;241;43m=\u001B[39;49m\u001B[43mconvert_dates\u001B[49m\u001B[43m,\u001B[49m\n\u001B[0;32m    740\u001B[0m \u001B[43m    \u001B[49m\u001B[43mkeep_default_dates\u001B[49m\u001B[38;5;241;43m=\u001B[39;49m\u001B[43mkeep_default_dates\u001B[49m\u001B[43m,\u001B[49m\n\u001B[0;32m    741\u001B[0m \u001B[43m    \u001B[49m\u001B[43mnumpy\u001B[49m\u001B[38;5;241;43m=\u001B[39;49m\u001B[43mnumpy\u001B[49m\u001B[43m,\u001B[49m\n\u001B[0;32m    742\u001B[0m \u001B[43m    \u001B[49m\u001B[43mprecise_float\u001B[49m\u001B[38;5;241;43m=\u001B[39;49m\u001B[43mprecise_float\u001B[49m\u001B[43m,\u001B[49m\n\u001B[0;32m    743\u001B[0m \u001B[43m    \u001B[49m\u001B[43mdate_unit\u001B[49m\u001B[38;5;241;43m=\u001B[39;49m\u001B[43mdate_unit\u001B[49m\u001B[43m,\u001B[49m\n\u001B[0;32m    744\u001B[0m \u001B[43m    \u001B[49m\u001B[43mencoding\u001B[49m\u001B[38;5;241;43m=\u001B[39;49m\u001B[43mencoding\u001B[49m\u001B[43m,\u001B[49m\n\u001B[0;32m    745\u001B[0m \u001B[43m    \u001B[49m\u001B[43mlines\u001B[49m\u001B[38;5;241;43m=\u001B[39;49m\u001B[43mlines\u001B[49m\u001B[43m,\u001B[49m\n\u001B[0;32m    746\u001B[0m \u001B[43m    \u001B[49m\u001B[43mchunksize\u001B[49m\u001B[38;5;241;43m=\u001B[39;49m\u001B[43mchunksize\u001B[49m\u001B[43m,\u001B[49m\n\u001B[0;32m    747\u001B[0m \u001B[43m    \u001B[49m\u001B[43mcompression\u001B[49m\u001B[38;5;241;43m=\u001B[39;49m\u001B[43mcompression\u001B[49m\u001B[43m,\u001B[49m\n\u001B[0;32m    748\u001B[0m \u001B[43m    \u001B[49m\u001B[43mnrows\u001B[49m\u001B[38;5;241;43m=\u001B[39;49m\u001B[43mnrows\u001B[49m\u001B[43m,\u001B[49m\n\u001B[0;32m    749\u001B[0m \u001B[43m    \u001B[49m\u001B[43mstorage_options\u001B[49m\u001B[38;5;241;43m=\u001B[39;49m\u001B[43mstorage_options\u001B[49m\u001B[43m,\u001B[49m\n\u001B[0;32m    750\u001B[0m \u001B[43m    \u001B[49m\u001B[43mencoding_errors\u001B[49m\u001B[38;5;241;43m=\u001B[39;49m\u001B[43mencoding_errors\u001B[49m\u001B[43m,\u001B[49m\n\u001B[0;32m    751\u001B[0m \u001B[43m\u001B[49m\u001B[43m)\u001B[49m\n\u001B[0;32m    753\u001B[0m \u001B[38;5;28;01mif\u001B[39;00m chunksize:\n\u001B[0;32m    754\u001B[0m     \u001B[38;5;28;01mreturn\u001B[39;00m json_reader\n",
      "File \u001B[1;32m~\\anaconda3\\lib\\site-packages\\pandas\\io\\json\\_json.py:818\u001B[0m, in \u001B[0;36mJsonReader.__init__\u001B[1;34m(self, filepath_or_buffer, orient, typ, dtype, convert_axes, convert_dates, keep_default_dates, numpy, precise_float, date_unit, encoding, lines, chunksize, compression, nrows, storage_options, encoding_errors)\u001B[0m\n\u001B[0;32m    815\u001B[0m     \u001B[38;5;28;01mif\u001B[39;00m \u001B[38;5;129;01mnot\u001B[39;00m \u001B[38;5;28mself\u001B[39m\u001B[38;5;241m.\u001B[39mlines:\n\u001B[0;32m    816\u001B[0m         \u001B[38;5;28;01mraise\u001B[39;00m \u001B[38;5;167;01mValueError\u001B[39;00m(\u001B[38;5;124m\"\u001B[39m\u001B[38;5;124mnrows can only be passed if lines=True\u001B[39m\u001B[38;5;124m\"\u001B[39m)\n\u001B[1;32m--> 818\u001B[0m data \u001B[38;5;241m=\u001B[39m \u001B[38;5;28;43mself\u001B[39;49m\u001B[38;5;241;43m.\u001B[39;49m\u001B[43m_get_data_from_filepath\u001B[49m\u001B[43m(\u001B[49m\u001B[43mfilepath_or_buffer\u001B[49m\u001B[43m)\u001B[49m\n\u001B[0;32m    819\u001B[0m \u001B[38;5;28mself\u001B[39m\u001B[38;5;241m.\u001B[39mdata \u001B[38;5;241m=\u001B[39m \u001B[38;5;28mself\u001B[39m\u001B[38;5;241m.\u001B[39m_preprocess_data(data)\n",
      "File \u001B[1;32m~\\anaconda3\\lib\\site-packages\\pandas\\io\\json\\_json.py:874\u001B[0m, in \u001B[0;36mJsonReader._get_data_from_filepath\u001B[1;34m(self, filepath_or_buffer)\u001B[0m\n\u001B[0;32m    866\u001B[0m     filepath_or_buffer \u001B[38;5;241m=\u001B[39m \u001B[38;5;28mself\u001B[39m\u001B[38;5;241m.\u001B[39mhandles\u001B[38;5;241m.\u001B[39mhandle\n\u001B[0;32m    867\u001B[0m \u001B[38;5;28;01melif\u001B[39;00m (\n\u001B[0;32m    868\u001B[0m     \u001B[38;5;28misinstance\u001B[39m(filepath_or_buffer, \u001B[38;5;28mstr\u001B[39m)\n\u001B[0;32m    869\u001B[0m     \u001B[38;5;129;01mand\u001B[39;00m filepath_or_buffer\u001B[38;5;241m.\u001B[39mlower()\u001B[38;5;241m.\u001B[39mendswith(\n\u001B[1;32m   (...)\u001B[0m\n\u001B[0;32m    872\u001B[0m     \u001B[38;5;129;01mand\u001B[39;00m \u001B[38;5;129;01mnot\u001B[39;00m file_exists(filepath_or_buffer)\n\u001B[0;32m    873\u001B[0m ):\n\u001B[1;32m--> 874\u001B[0m     \u001B[38;5;28;01mraise\u001B[39;00m \u001B[38;5;167;01mFileNotFoundError\u001B[39;00m(\u001B[38;5;124mf\u001B[39m\u001B[38;5;124m\"\u001B[39m\u001B[38;5;124mFile \u001B[39m\u001B[38;5;132;01m{\u001B[39;00mfilepath_or_buffer\u001B[38;5;132;01m}\u001B[39;00m\u001B[38;5;124m does not exist\u001B[39m\u001B[38;5;124m\"\u001B[39m)\n\u001B[0;32m    876\u001B[0m \u001B[38;5;28;01mreturn\u001B[39;00m filepath_or_buffer\n",
      "\u001B[1;31mFileNotFoundError\u001B[0m: File ../data/users.json does not exist"
     ]
    }
   ],
   "source": [
    "users = pd.read_json(\"../data/users.json\")\n",
    "nowrap_display(users)"
   ],
   "metadata": {
    "collapsed": false,
    "ExecuteTime": {
     "end_time": "2023-11-11T10:21:43.206070700Z",
     "start_time": "2023-11-11T10:21:43.142558900Z"
    }
   },
   "id": "47722c38b365d607"
  },
  {
   "cell_type": "code",
   "execution_count": 18,
   "outputs": [
    {
     "ename": "NameError",
     "evalue": "name 'employees' is not defined",
     "output_type": "error",
     "traceback": [
      "\u001B[1;31m---------------------------------------------------------------------------\u001B[0m",
      "\u001B[1;31mNameError\u001B[0m                                 Traceback (most recent call last)",
      "Cell \u001B[1;32mIn[18], line 5\u001B[0m\n\u001B[0;32m      1\u001B[0m \u001B[38;5;66;03m# employees.insert(0, \"username\", \u001B[39;00m\n\u001B[0;32m      2\u001B[0m \u001B[38;5;66;03m#                  employees['first_name'].apply(lambda name: name[:3].lower()) + \u001B[39;00m\n\u001B[0;32m      3\u001B[0m \u001B[38;5;66;03m#                  employees['last_name'].apply(lambda name: name[:3].lower()))\u001B[39;00m\n\u001B[1;32m----> 5\u001B[0m employees[\u001B[38;5;124m\"\u001B[39m\u001B[38;5;124musername\u001B[39m\u001B[38;5;124m\"\u001B[39m] \u001B[38;5;241m=\u001B[39m (\u001B[43memployees\u001B[49m[\u001B[38;5;124m\"\u001B[39m\u001B[38;5;124mfirst_name\u001B[39m\u001B[38;5;124m\"\u001B[39m]\u001B[38;5;241m.\u001B[39mstr[:\u001B[38;5;241m3\u001B[39m] \u001B[38;5;241m+\u001B[39m employees[\u001B[38;5;124m\"\u001B[39m\u001B[38;5;124mlast_name\u001B[39m\u001B[38;5;124m\"\u001B[39m]\u001B[38;5;241m.\u001B[39mstr[:\u001B[38;5;241m3\u001B[39m])\u001B[38;5;241m.\u001B[39mstr\u001B[38;5;241m.\u001B[39mlower()\n\u001B[0;32m      6\u001B[0m nowrap_display(employees)\n",
      "\u001B[1;31mNameError\u001B[0m: name 'employees' is not defined"
     ]
    }
   ],
   "source": [
    "# employees.insert(0, \"username\", \n",
    "#                  employees['first_name'].apply(lambda name: name[:3].lower()) + \n",
    "#                  employees['last_name'].apply(lambda name: name[:3].lower()))\n",
    "\n",
    "employees[\"username\"] = (employees[\"first_name\"].str[:3] + employees[\"last_name\"].str[:3]).str.lower()\n",
    "nowrap_display(employees)"
   ],
   "metadata": {
    "collapsed": false,
    "ExecuteTime": {
     "end_time": "2023-11-11T10:21:48.280424900Z",
     "start_time": "2023-11-11T10:21:48.209412100Z"
    }
   },
   "id": "35827bc6bdb309cc"
  },
  {
   "cell_type": "code",
   "execution_count": 19,
   "outputs": [
    {
     "ename": "NameError",
     "evalue": "name 'employees' is not defined",
     "output_type": "error",
     "traceback": [
      "\u001B[1;31m---------------------------------------------------------------------------\u001B[0m",
      "\u001B[1;31mNameError\u001B[0m                                 Traceback (most recent call last)",
      "Cell \u001B[1;32mIn[19], line 1\u001B[0m\n\u001B[1;32m----> 1\u001B[0m nowrap_display(\u001B[43memployees\u001B[49m\u001B[38;5;241m.\u001B[39mmerge(users))\n",
      "\u001B[1;31mNameError\u001B[0m: name 'employees' is not defined"
     ]
    }
   ],
   "source": [
    "nowrap_display(employees.merge(users))"
   ],
   "metadata": {
    "collapsed": false,
    "ExecuteTime": {
     "end_time": "2023-11-11T10:21:52.146694200Z",
     "start_time": "2023-11-11T10:21:52.078681900Z"
    }
   },
   "id": "e7dab5e4e5c458b3"
  }
 ],
 "metadata": {
  "kernelspec": {
   "display_name": "Python 3",
   "language": "python",
   "name": "python3"
  },
  "language_info": {
   "codemirror_mode": {
    "name": "ipython",
    "version": 2
   },
   "file_extension": ".py",
   "mimetype": "text/x-python",
   "name": "python",
   "nbconvert_exporter": "python",
   "pygments_lexer": "ipython2",
   "version": "2.7.6"
  }
 },
 "nbformat": 4,
 "nbformat_minor": 5
}

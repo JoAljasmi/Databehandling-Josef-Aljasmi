{
 "cells": [
  {
   "cell_type": "markdown",
   "source": [
    "## Pandas time series \n",
    "A series or dataframe using a datetime index instead of a range index.\n",
    "\n",
    "Used for storing events/data that fits on a timeline.\n",
    "- Weather data.\n",
    "- Temperature readings.\n",
    "- Heart rate monitoring (EKG)\n",
    "- Quarterly sales.\n",
    "- Stock prices."
   ],
   "metadata": {
    "collapsed": false
   },
   "id": "cdd01b8dae25eb51"
  },
  {
   "cell_type": "code",
   "execution_count": 35,
   "outputs": [],
   "source": [
    "import pandas as pd\n",
    "import numpy as np"
   ],
   "metadata": {
    "collapsed": false,
    "ExecuteTime": {
     "end_time": "2023-11-10T11:13:23.197672900Z",
     "start_time": "2023-11-10T11:13:23.107656700Z"
    }
   },
   "id": "897adf00527d8aa3"
  },
  {
   "cell_type": "markdown",
   "source": [
    "### Creating a datetimeindex\n",
    "\n",
    "use date_range() with 3 of the 4 parameters:\n",
    "- start\n",
    "- end\n",
    "- periods\n",
    "- freq"
   ],
   "metadata": {
    "collapsed": false
   },
   "id": "1cca0edc412314c1"
  },
  {
   "cell_type": "code",
   "execution_count": 36,
   "outputs": [
    {
     "data": {
      "text/plain": "DatetimeIndex(['2018-01-01', '2018-01-02', '2018-01-03', '2018-01-04',\n               '2018-01-05', '2018-01-06', '2018-01-07', '2018-01-08',\n               '2018-01-09', '2018-01-10',\n               ...\n               '2019-12-22', '2019-12-23', '2019-12-24', '2019-12-25',\n               '2019-12-26', '2019-12-27', '2019-12-28', '2019-12-29',\n               '2019-12-30', '2019-12-31'],\n              dtype='datetime64[ns]', length=730, freq='D')"
     },
     "execution_count": 36,
     "metadata": {},
     "output_type": "execute_result"
    }
   ],
   "source": [
    "datetimeindex = pd.date_range(start= '2018-01-01', end=\"2019-12-31\", freq=\"D\")\n",
    "datetimeindex"
   ],
   "metadata": {
    "collapsed": false,
    "ExecuteTime": {
     "end_time": "2023-11-10T11:13:23.243680400Z",
     "start_time": "2023-11-10T11:13:23.117657900Z"
    }
   },
   "id": "13e3d8c22374e895"
  },
  {
   "cell_type": "code",
   "execution_count": 37,
   "outputs": [
    {
     "data": {
      "text/plain": "              n     rand\n2018-01-01    0  597.79m\n2018-01-02    1  201.75m\n2018-01-03    2  199.47m\n2018-01-04    3  575.06m\n2018-01-05    4  944.94m\n...         ...      ...\n2019-12-27  725  225.78m\n2019-12-28  726  356.04m\n2019-12-29  727  855.43m\n2019-12-30  728  942.21m\n2019-12-31  729  137.46m\n\n[730 rows x 2 columns]",
      "text/html": "<div>\n<style scoped>\n    .dataframe tbody tr th:only-of-type {\n        vertical-align: middle;\n    }\n\n    .dataframe tbody tr th {\n        vertical-align: top;\n    }\n\n    .dataframe thead th {\n        text-align: right;\n    }\n</style>\n<table border=\"1\" class=\"dataframe\">\n  <thead>\n    <tr style=\"text-align: right;\">\n      <th></th>\n      <th>n</th>\n      <th>rand</th>\n    </tr>\n  </thead>\n  <tbody>\n    <tr>\n      <th>2018-01-01</th>\n      <td>0</td>\n      <td>597.79m</td>\n    </tr>\n    <tr>\n      <th>2018-01-02</th>\n      <td>1</td>\n      <td>201.75m</td>\n    </tr>\n    <tr>\n      <th>2018-01-03</th>\n      <td>2</td>\n      <td>199.47m</td>\n    </tr>\n    <tr>\n      <th>2018-01-04</th>\n      <td>3</td>\n      <td>575.06m</td>\n    </tr>\n    <tr>\n      <th>2018-01-05</th>\n      <td>4</td>\n      <td>944.94m</td>\n    </tr>\n    <tr>\n      <th>...</th>\n      <td>...</td>\n      <td>...</td>\n    </tr>\n    <tr>\n      <th>2019-12-27</th>\n      <td>725</td>\n      <td>225.78m</td>\n    </tr>\n    <tr>\n      <th>2019-12-28</th>\n      <td>726</td>\n      <td>356.04m</td>\n    </tr>\n    <tr>\n      <th>2019-12-29</th>\n      <td>727</td>\n      <td>855.43m</td>\n    </tr>\n    <tr>\n      <th>2019-12-30</th>\n      <td>728</td>\n      <td>942.21m</td>\n    </tr>\n    <tr>\n      <th>2019-12-31</th>\n      <td>729</td>\n      <td>137.46m</td>\n    </tr>\n  </tbody>\n</table>\n<p>730 rows × 2 columns</p>\n</div>"
     },
     "execution_count": 37,
     "metadata": {},
     "output_type": "execute_result"
    }
   ],
   "source": [
    "df = pd.DataFrame(\n",
    "    dict(\n",
    "        n = range(len(datetimeindex)),\n",
    "        rand = np.random.random(len(datetimeindex))\n",
    "    ),\n",
    "    index=datetimeindex\n",
    ")\n",
    "\n",
    "df"
   ],
   "metadata": {
    "collapsed": false,
    "ExecuteTime": {
     "end_time": "2023-11-10T11:13:23.259683500Z",
     "start_time": "2023-11-10T11:13:23.131161600Z"
    }
   },
   "id": "46053afd7e546573"
  },
  {
   "cell_type": "code",
   "execution_count": 38,
   "outputs": [
    {
     "data": {
      "text/plain": "              n     rand\n2019-03-29  452   74.46m\n2019-03-30  453   18.90m\n2019-03-31  454  133.16m\n2019-04-01  455  385.59m\n2019-04-02  456  123.10m\n...         ...      ...\n2019-05-27  511  362.75m\n2019-05-28  512  843.95m\n2019-05-29  513  158.09m\n2019-05-30  514  962.62m\n2019-05-31  515  385.78m\n\n[64 rows x 2 columns]",
      "text/html": "<div>\n<style scoped>\n    .dataframe tbody tr th:only-of-type {\n        vertical-align: middle;\n    }\n\n    .dataframe tbody tr th {\n        vertical-align: top;\n    }\n\n    .dataframe thead th {\n        text-align: right;\n    }\n</style>\n<table border=\"1\" class=\"dataframe\">\n  <thead>\n    <tr style=\"text-align: right;\">\n      <th></th>\n      <th>n</th>\n      <th>rand</th>\n    </tr>\n  </thead>\n  <tbody>\n    <tr>\n      <th>2019-03-29</th>\n      <td>452</td>\n      <td>74.46m</td>\n    </tr>\n    <tr>\n      <th>2019-03-30</th>\n      <td>453</td>\n      <td>18.90m</td>\n    </tr>\n    <tr>\n      <th>2019-03-31</th>\n      <td>454</td>\n      <td>133.16m</td>\n    </tr>\n    <tr>\n      <th>2019-04-01</th>\n      <td>455</td>\n      <td>385.59m</td>\n    </tr>\n    <tr>\n      <th>2019-04-02</th>\n      <td>456</td>\n      <td>123.10m</td>\n    </tr>\n    <tr>\n      <th>...</th>\n      <td>...</td>\n      <td>...</td>\n    </tr>\n    <tr>\n      <th>2019-05-27</th>\n      <td>511</td>\n      <td>362.75m</td>\n    </tr>\n    <tr>\n      <th>2019-05-28</th>\n      <td>512</td>\n      <td>843.95m</td>\n    </tr>\n    <tr>\n      <th>2019-05-29</th>\n      <td>513</td>\n      <td>158.09m</td>\n    </tr>\n    <tr>\n      <th>2019-05-30</th>\n      <td>514</td>\n      <td>962.62m</td>\n    </tr>\n    <tr>\n      <th>2019-05-31</th>\n      <td>515</td>\n      <td>385.78m</td>\n    </tr>\n  </tbody>\n</table>\n<p>64 rows × 2 columns</p>\n</div>"
     },
     "execution_count": 38,
     "metadata": {},
     "output_type": "execute_result"
    }
   ],
   "source": [
    "df.loc[\"2018-03-15\"]\n",
    "df.loc[\"2018-01-15\"]\n",
    "df.loc[\"2018-03-15\":\"2018-03-20\"]\n",
    "df.loc[\"2018-03\"]\n",
    "df.loc[\"2019\"]\n",
    "df.loc[\"2019-03-29\":\"2019-05\"]\n"
   ],
   "metadata": {
    "collapsed": false,
    "ExecuteTime": {
     "end_time": "2023-11-10T11:13:23.263684300Z",
     "start_time": "2023-11-10T11:13:23.148663900Z"
    }
   },
   "id": "4a692817d40929a6"
  },
  {
   "cell_type": "markdown",
   "source": [
    "### Resampling\n",
    "Resampling is the practice of creating new samples with a lower or higher frequency than the original data."
   ],
   "metadata": {
    "collapsed": false
   },
   "id": "5a6c99bb91c034d2"
  },
  {
   "cell_type": "markdown",
   "source": [
    "### Downsampling\n",
    "\n",
    "When the sample frequency is lower than the original we can aggregate values from the original data"
   ],
   "metadata": {
    "collapsed": false
   },
   "id": "b409950606ce1f13"
  },
  {
   "cell_type": "code",
   "execution_count": 39,
   "outputs": [
    {
     "data": {
      "text/plain": "<pandas.core.resample.DatetimeIndexResampler object at 0x0000020F63383A90>"
     },
     "execution_count": 39,
     "metadata": {},
     "output_type": "execute_result"
    }
   ],
   "source": [
    "df.resample(\"2D\")"
   ],
   "metadata": {
    "collapsed": false,
    "ExecuteTime": {
     "end_time": "2023-11-10T11:13:23.264184800Z",
     "start_time": "2023-11-10T11:13:23.179669700Z"
    }
   },
   "id": "c3f1bad32afbe852"
  },
  {
   "cell_type": "code",
   "execution_count": 40,
   "outputs": [
    {
     "data": {
      "text/html": "<style type=\"text/css\">\n#T_10d04 th {\n  text-align: left;\n  vertical-align: top;\n}\n</style>\n<table id=\"T_10d04\" style='display:inline; margin-right: 50px;'>\n  <caption>Original</caption>\n  <thead>\n    <tr>\n      <th class=\"blank level0\" >&nbsp;</th>\n      <th id=\"T_10d04_level0_col0\" class=\"col_heading level0 col0\" >n</th>\n      <th id=\"T_10d04_level0_col1\" class=\"col_heading level0 col1\" >rand</th>\n    </tr>\n  </thead>\n  <tbody>\n    <tr>\n      <th id=\"T_10d04_level0_row0\" class=\"row_heading level0 row0\" >2018-01-01 00:00:00</th>\n      <td id=\"T_10d04_row0_col0\" class=\"data row0 col0\" >0</td>\n      <td id=\"T_10d04_row0_col1\" class=\"data row0 col1\" >0.597794</td>\n    </tr>\n    <tr>\n      <th id=\"T_10d04_level0_row1\" class=\"row_heading level0 row1\" >2018-01-02 00:00:00</th>\n      <td id=\"T_10d04_row1_col0\" class=\"data row1 col0\" >1</td>\n      <td id=\"T_10d04_row1_col1\" class=\"data row1 col1\" >0.201750</td>\n    </tr>\n    <tr>\n      <th id=\"T_10d04_level0_row2\" class=\"row_heading level0 row2\" >2018-01-03 00:00:00</th>\n      <td id=\"T_10d04_row2_col0\" class=\"data row2 col0\" >2</td>\n      <td id=\"T_10d04_row2_col1\" class=\"data row2 col1\" >0.199467</td>\n    </tr>\n    <tr>\n      <th id=\"T_10d04_level0_row3\" class=\"row_heading level0 row3\" >2018-01-04 00:00:00</th>\n      <td id=\"T_10d04_row3_col0\" class=\"data row3 col0\" >3</td>\n      <td id=\"T_10d04_row3_col1\" class=\"data row3 col1\" >0.575055</td>\n    </tr>\n    <tr>\n      <th id=\"T_10d04_level0_row4\" class=\"row_heading level0 row4\" >2018-01-05 00:00:00</th>\n      <td id=\"T_10d04_row4_col0\" class=\"data row4 col0\" >4</td>\n      <td id=\"T_10d04_row4_col1\" class=\"data row4 col1\" >0.944936</td>\n    </tr>\n    <tr>\n      <th id=\"T_10d04_level0_row5\" class=\"row_heading level0 row5\" >2018-01-06 00:00:00</th>\n      <td id=\"T_10d04_row5_col0\" class=\"data row5 col0\" >5</td>\n      <td id=\"T_10d04_row5_col1\" class=\"data row5 col1\" >0.295957</td>\n    </tr>\n    <tr>\n      <th id=\"T_10d04_level0_row6\" class=\"row_heading level0 row6\" >2018-01-07 00:00:00</th>\n      <td id=\"T_10d04_row6_col0\" class=\"data row6 col0\" >6</td>\n      <td id=\"T_10d04_row6_col1\" class=\"data row6 col1\" >0.823455</td>\n    </tr>\n    <tr>\n      <th id=\"T_10d04_level0_row7\" class=\"row_heading level0 row7\" >2018-01-08 00:00:00</th>\n      <td id=\"T_10d04_row7_col0\" class=\"data row7 col0\" >7</td>\n      <td id=\"T_10d04_row7_col1\" class=\"data row7 col1\" >0.472547</td>\n    </tr>\n    <tr>\n      <th id=\"T_10d04_level0_row8\" class=\"row_heading level0 row8\" >2018-01-09 00:00:00</th>\n      <td id=\"T_10d04_row8_col0\" class=\"data row8 col0\" >8</td>\n      <td id=\"T_10d04_row8_col1\" class=\"data row8 col1\" >0.770428</td>\n    </tr>\n    <tr>\n      <th id=\"T_10d04_level0_row9\" class=\"row_heading level0 row9\" >2018-01-10 00:00:00</th>\n      <td id=\"T_10d04_row9_col0\" class=\"data row9 col0\" >9</td>\n      <td id=\"T_10d04_row9_col1\" class=\"data row9 col1\" >0.541101</td>\n    </tr>\n  </tbody>\n</table>\n<style type=\"text/css\">\n#T_27230 th {\n  text-align: left;\n  vertical-align: top;\n}\n</style>\n<table id=\"T_27230\" style='display:inline; margin-right: 50px;'>\n  <caption>Resampled using 'Y'</caption>\n  <thead>\n    <tr>\n      <th class=\"blank level0\" >&nbsp;</th>\n      <th id=\"T_27230_level0_col0\" class=\"col_heading level0 col0\" >n</th>\n      <th id=\"T_27230_level0_col1\" class=\"col_heading level0 col1\" >rand</th>\n    </tr>\n  </thead>\n  <tbody>\n    <tr>\n      <th id=\"T_27230_level0_row0\" class=\"row_heading level0 row0\" >2018-12-31 00:00:00</th>\n      <td id=\"T_27230_row0_col0\" class=\"data row0 col0\" >364</td>\n      <td id=\"T_27230_row0_col1\" class=\"data row0 col1\" >189.113335</td>\n    </tr>\n    <tr>\n      <th id=\"T_27230_level0_row1\" class=\"row_heading level0 row1\" >2019-12-31 00:00:00</th>\n      <td id=\"T_27230_row1_col0\" class=\"data row1 col0\" >729</td>\n      <td id=\"T_27230_row1_col1\" class=\"data row1 col1\" >170.619960</td>\n    </tr>\n  </tbody>\n</table>\n"
     },
     "metadata": {},
     "output_type": "display_data"
    }
   ],
   "source": [
    "from helpers import hdisplay\n",
    "\n",
    "resample_method = \"Y\"\n",
    "\n",
    "hdisplay([\n",
    "    df.head(10),\n",
    "    df.resample(resample_method).agg({\"n\": \"max\", \"rand\": \"sum\"}).head(10)],\n",
    "    [\"Original\", f\"Resampled using '{resample_method}'\"]\n",
    ")"
   ],
   "metadata": {
    "collapsed": false,
    "ExecuteTime": {
     "end_time": "2023-11-10T11:13:23.267184500Z",
     "start_time": "2023-11-10T11:13:23.197172600Z"
    }
   },
   "id": "25ff776563f93f5f"
  },
  {
   "cell_type": "markdown",
   "source": [
    "### Upsampling\n",
    "When the sample frequency is higher than the original, we can fill between values:\n",
    "- ffill\n",
    "- bfill\n",
    "- nearest\n",
    "- interpolation\n",
    "- fillna"
   ],
   "metadata": {
    "collapsed": false
   },
   "id": "732515cf6e7caddb"
  },
  {
   "cell_type": "code",
   "execution_count": 41,
   "outputs": [
    {
     "data": {
      "text/html": "<style type=\"text/css\">\n#T_dde04 th {\n  text-align: left;\n  vertical-align: top;\n}\n</style>\n<table id=\"T_dde04\" style='display:inline; margin-right: 50px;'>\n  <caption>Original</caption>\n  <thead>\n    <tr>\n      <th class=\"blank level0\" >&nbsp;</th>\n      <th id=\"T_dde04_level0_col0\" class=\"col_heading level0 col0\" >n</th>\n      <th id=\"T_dde04_level0_col1\" class=\"col_heading level0 col1\" >rand</th>\n    </tr>\n  </thead>\n  <tbody>\n    <tr>\n      <th id=\"T_dde04_level0_row0\" class=\"row_heading level0 row0\" >2018-01-01 00:00:00</th>\n      <td id=\"T_dde04_row0_col0\" class=\"data row0 col0\" >0</td>\n      <td id=\"T_dde04_row0_col1\" class=\"data row0 col1\" >0.597794</td>\n    </tr>\n    <tr>\n      <th id=\"T_dde04_level0_row1\" class=\"row_heading level0 row1\" >2018-01-02 00:00:00</th>\n      <td id=\"T_dde04_row1_col0\" class=\"data row1 col0\" >1</td>\n      <td id=\"T_dde04_row1_col1\" class=\"data row1 col1\" >0.201750</td>\n    </tr>\n    <tr>\n      <th id=\"T_dde04_level0_row2\" class=\"row_heading level0 row2\" >2018-01-03 00:00:00</th>\n      <td id=\"T_dde04_row2_col0\" class=\"data row2 col0\" >2</td>\n      <td id=\"T_dde04_row2_col1\" class=\"data row2 col1\" >0.199467</td>\n    </tr>\n    <tr>\n      <th id=\"T_dde04_level0_row3\" class=\"row_heading level0 row3\" >2018-01-04 00:00:00</th>\n      <td id=\"T_dde04_row3_col0\" class=\"data row3 col0\" >3</td>\n      <td id=\"T_dde04_row3_col1\" class=\"data row3 col1\" >0.575055</td>\n    </tr>\n    <tr>\n      <th id=\"T_dde04_level0_row4\" class=\"row_heading level0 row4\" >2018-01-05 00:00:00</th>\n      <td id=\"T_dde04_row4_col0\" class=\"data row4 col0\" >4</td>\n      <td id=\"T_dde04_row4_col1\" class=\"data row4 col1\" >0.944936</td>\n    </tr>\n    <tr>\n      <th id=\"T_dde04_level0_row5\" class=\"row_heading level0 row5\" >2018-01-06 00:00:00</th>\n      <td id=\"T_dde04_row5_col0\" class=\"data row5 col0\" >5</td>\n      <td id=\"T_dde04_row5_col1\" class=\"data row5 col1\" >0.295957</td>\n    </tr>\n    <tr>\n      <th id=\"T_dde04_level0_row6\" class=\"row_heading level0 row6\" >2018-01-07 00:00:00</th>\n      <td id=\"T_dde04_row6_col0\" class=\"data row6 col0\" >6</td>\n      <td id=\"T_dde04_row6_col1\" class=\"data row6 col1\" >0.823455</td>\n    </tr>\n    <tr>\n      <th id=\"T_dde04_level0_row7\" class=\"row_heading level0 row7\" >2018-01-08 00:00:00</th>\n      <td id=\"T_dde04_row7_col0\" class=\"data row7 col0\" >7</td>\n      <td id=\"T_dde04_row7_col1\" class=\"data row7 col1\" >0.472547</td>\n    </tr>\n    <tr>\n      <th id=\"T_dde04_level0_row8\" class=\"row_heading level0 row8\" >2018-01-09 00:00:00</th>\n      <td id=\"T_dde04_row8_col0\" class=\"data row8 col0\" >8</td>\n      <td id=\"T_dde04_row8_col1\" class=\"data row8 col1\" >0.770428</td>\n    </tr>\n    <tr>\n      <th id=\"T_dde04_level0_row9\" class=\"row_heading level0 row9\" >2018-01-10 00:00:00</th>\n      <td id=\"T_dde04_row9_col0\" class=\"data row9 col0\" >9</td>\n      <td id=\"T_dde04_row9_col1\" class=\"data row9 col1\" >0.541101</td>\n    </tr>\n  </tbody>\n</table>\n<style type=\"text/css\">\n#T_200af th {\n  text-align: left;\n  vertical-align: top;\n}\n</style>\n<table id=\"T_200af\" style='display:inline; margin-right: 50px;'>\n  <caption>Resampled using '6H'</caption>\n  <thead>\n    <tr>\n      <th class=\"blank level0\" >&nbsp;</th>\n      <th id=\"T_200af_level0_col0\" class=\"col_heading level0 col0\" >n</th>\n      <th id=\"T_200af_level0_col1\" class=\"col_heading level0 col1\" >rand</th>\n    </tr>\n  </thead>\n  <tbody>\n    <tr>\n      <th id=\"T_200af_level0_row0\" class=\"row_heading level0 row0\" >2018-01-01 00:00:00</th>\n      <td id=\"T_200af_row0_col0\" class=\"data row0 col0\" >0.000000</td>\n      <td id=\"T_200af_row0_col1\" class=\"data row0 col1\" >0.597794</td>\n    </tr>\n    <tr>\n      <th id=\"T_200af_level0_row1\" class=\"row_heading level0 row1\" >2018-01-01 06:00:00</th>\n      <td id=\"T_200af_row1_col0\" class=\"data row1 col0\" >364.500000</td>\n      <td id=\"T_200af_row1_col1\" class=\"data row1 col1\" >0.492785</td>\n    </tr>\n    <tr>\n      <th id=\"T_200af_level0_row2\" class=\"row_heading level0 row2\" >2018-01-01 12:00:00</th>\n      <td id=\"T_200af_row2_col0\" class=\"data row2 col0\" >364.500000</td>\n      <td id=\"T_200af_row2_col1\" class=\"data row2 col1\" >0.492785</td>\n    </tr>\n    <tr>\n      <th id=\"T_200af_level0_row3\" class=\"row_heading level0 row3\" >2018-01-01 18:00:00</th>\n      <td id=\"T_200af_row3_col0\" class=\"data row3 col0\" >364.500000</td>\n      <td id=\"T_200af_row3_col1\" class=\"data row3 col1\" >0.492785</td>\n    </tr>\n    <tr>\n      <th id=\"T_200af_level0_row4\" class=\"row_heading level0 row4\" >2018-01-02 00:00:00</th>\n      <td id=\"T_200af_row4_col0\" class=\"data row4 col0\" >1.000000</td>\n      <td id=\"T_200af_row4_col1\" class=\"data row4 col1\" >0.201750</td>\n    </tr>\n    <tr>\n      <th id=\"T_200af_level0_row5\" class=\"row_heading level0 row5\" >2018-01-02 06:00:00</th>\n      <td id=\"T_200af_row5_col0\" class=\"data row5 col0\" >364.500000</td>\n      <td id=\"T_200af_row5_col1\" class=\"data row5 col1\" >0.492785</td>\n    </tr>\n    <tr>\n      <th id=\"T_200af_level0_row6\" class=\"row_heading level0 row6\" >2018-01-02 12:00:00</th>\n      <td id=\"T_200af_row6_col0\" class=\"data row6 col0\" >364.500000</td>\n      <td id=\"T_200af_row6_col1\" class=\"data row6 col1\" >0.492785</td>\n    </tr>\n    <tr>\n      <th id=\"T_200af_level0_row7\" class=\"row_heading level0 row7\" >2018-01-02 18:00:00</th>\n      <td id=\"T_200af_row7_col0\" class=\"data row7 col0\" >364.500000</td>\n      <td id=\"T_200af_row7_col1\" class=\"data row7 col1\" >0.492785</td>\n    </tr>\n    <tr>\n      <th id=\"T_200af_level0_row8\" class=\"row_heading level0 row8\" >2018-01-03 00:00:00</th>\n      <td id=\"T_200af_row8_col0\" class=\"data row8 col0\" >2.000000</td>\n      <td id=\"T_200af_row8_col1\" class=\"data row8 col1\" >0.199467</td>\n    </tr>\n    <tr>\n      <th id=\"T_200af_level0_row9\" class=\"row_heading level0 row9\" >2018-01-03 06:00:00</th>\n      <td id=\"T_200af_row9_col0\" class=\"data row9 col0\" >364.500000</td>\n      <td id=\"T_200af_row9_col1\" class=\"data row9 col1\" >0.492785</td>\n    </tr>\n  </tbody>\n</table>\n"
     },
     "metadata": {},
     "output_type": "display_data"
    }
   ],
   "source": [
    "resample_method = \"6H\"\n",
    "\n",
    "hdisplay([\n",
    "    df.head(10),\n",
    "    df.resample(resample_method).max().fillna(df[[\"n\", \"rand\"]].mean()).head(10)],\n",
    "    [\"Original\", f\"Resampled using '{resample_method}'\"]\n",
    ")"
   ],
   "metadata": {
    "collapsed": false,
    "ExecuteTime": {
     "end_time": "2023-11-10T11:13:23.268185400Z",
     "start_time": "2023-11-10T11:13:23.227177800Z"
    }
   },
   "id": "f45c12e81bdd990c"
  },
  {
   "cell_type": "markdown",
   "source": [
    "### Working on real data"
   ],
   "metadata": {
    "collapsed": false
   },
   "id": "b0c3d85bbcadf7f8"
  },
  {
   "cell_type": "code",
   "execution_count": 44,
   "outputs": [
    {
     "ename": "AttributeError",
     "evalue": "'DataFrame' object has no attribute 'map'",
     "output_type": "error",
     "traceback": [
      "\u001B[1;31m---------------------------------------------------------------------------\u001B[0m",
      "\u001B[1;31mAttributeError\u001B[0m                            Traceback (most recent call last)",
      "Cell \u001B[1;32mIn[44], line 6\u001B[0m\n\u001B[0;32m      2\u001B[0m apple\u001B[38;5;241m.\u001B[39mrename(columns\u001B[38;5;241m=\u001B[39m{\u001B[38;5;124m\"\u001B[39m\u001B[38;5;124mClose/Last\u001B[39m\u001B[38;5;124m\"\u001B[39m: \u001B[38;5;124m\"\u001B[39m\u001B[38;5;124mClose\u001B[39m\u001B[38;5;124m\"\u001B[39m}, inplace\u001B[38;5;241m=\u001B[39m\u001B[38;5;28;01mTrue\u001B[39;00m)\n\u001B[0;32m      4\u001B[0m to_int_columns \u001B[38;5;241m=\u001B[39m [\u001B[38;5;124m\"\u001B[39m\u001B[38;5;124mClose\u001B[39m\u001B[38;5;124m\"\u001B[39m, \u001B[38;5;124m\"\u001B[39m\u001B[38;5;124mOpen\u001B[39m\u001B[38;5;124m\"\u001B[39m, \u001B[38;5;124m\"\u001B[39m\u001B[38;5;124mHigh\u001B[39m\u001B[38;5;124m\"\u001B[39m, \u001B[38;5;124m\"\u001B[39m\u001B[38;5;124mLow\u001B[39m\u001B[38;5;124m\"\u001B[39m]\n\u001B[1;32m----> 6\u001B[0m apple[to_int_columns] \u001B[38;5;241m=\u001B[39m \u001B[43mapple\u001B[49m\u001B[43m[\u001B[49m\u001B[43mto_int_columns\u001B[49m\u001B[43m]\u001B[49m\u001B[38;5;241;43m.\u001B[39;49m\u001B[43mmap\u001B[49m(\u001B[38;5;28;01mlambda\u001B[39;00m value: value\u001B[38;5;241m.\u001B[39mreplace(\u001B[38;5;124m\"\u001B[39m\u001B[38;5;124m$\u001B[39m\u001B[38;5;124m\"\u001B[39m, \u001B[38;5;124m\"\u001B[39m\u001B[38;5;124m\"\u001B[39m))\u001B[38;5;241m.\u001B[39mastype((\u001B[38;5;124m\"\u001B[39m\u001B[38;5;124mfloat64\u001B[39m\u001B[38;5;124m\"\u001B[39m))\n\u001B[0;32m      8\u001B[0m \u001B[38;5;66;03m#apple = apple.astype(({col: \"float64\" for col in to_int_columns}))\u001B[39;00m\n\u001B[0;32m     10\u001B[0m apple\u001B[38;5;241m.\u001B[39mhead()\n",
      "File \u001B[1;32m~\\anaconda3\\lib\\site-packages\\pandas\\core\\generic.py:5902\u001B[0m, in \u001B[0;36mNDFrame.__getattr__\u001B[1;34m(self, name)\u001B[0m\n\u001B[0;32m   5895\u001B[0m \u001B[38;5;28;01mif\u001B[39;00m (\n\u001B[0;32m   5896\u001B[0m     name \u001B[38;5;129;01mnot\u001B[39;00m \u001B[38;5;129;01min\u001B[39;00m \u001B[38;5;28mself\u001B[39m\u001B[38;5;241m.\u001B[39m_internal_names_set\n\u001B[0;32m   5897\u001B[0m     \u001B[38;5;129;01mand\u001B[39;00m name \u001B[38;5;129;01mnot\u001B[39;00m \u001B[38;5;129;01min\u001B[39;00m \u001B[38;5;28mself\u001B[39m\u001B[38;5;241m.\u001B[39m_metadata\n\u001B[0;32m   5898\u001B[0m     \u001B[38;5;129;01mand\u001B[39;00m name \u001B[38;5;129;01mnot\u001B[39;00m \u001B[38;5;129;01min\u001B[39;00m \u001B[38;5;28mself\u001B[39m\u001B[38;5;241m.\u001B[39m_accessors\n\u001B[0;32m   5899\u001B[0m     \u001B[38;5;129;01mand\u001B[39;00m \u001B[38;5;28mself\u001B[39m\u001B[38;5;241m.\u001B[39m_info_axis\u001B[38;5;241m.\u001B[39m_can_hold_identifiers_and_holds_name(name)\n\u001B[0;32m   5900\u001B[0m ):\n\u001B[0;32m   5901\u001B[0m     \u001B[38;5;28;01mreturn\u001B[39;00m \u001B[38;5;28mself\u001B[39m[name]\n\u001B[1;32m-> 5902\u001B[0m \u001B[38;5;28;01mreturn\u001B[39;00m \u001B[38;5;28;43mobject\u001B[39;49m\u001B[38;5;241;43m.\u001B[39;49m\u001B[38;5;21;43m__getattribute__\u001B[39;49m\u001B[43m(\u001B[49m\u001B[38;5;28;43mself\u001B[39;49m\u001B[43m,\u001B[49m\u001B[43m \u001B[49m\u001B[43mname\u001B[49m\u001B[43m)\u001B[49m\n",
      "\u001B[1;31mAttributeError\u001B[0m: 'DataFrame' object has no attribute 'map'"
     ]
    }
   ],
   "source": [
    "apple = pd.read_csv(\"../Data/HistoricalData_Apple.csv\", parse_dates=[\"Date\"], index_col=\"Date\")\n",
    "apple.rename(columns={\"Close/Last\": \"Close\"}, inplace=True)\n",
    "\n",
    "to_int_columns = [\"Close\", \"Open\", \"High\", \"Low\"]\n",
    "\n",
    "apple[to_int_columns] = apple[to_int_columns].map(lambda value: value.replace(\"$\", \"\")).astype((\"float64\"))\n",
    "\n",
    "#apple = apple.astype(({col: \"float64\" for col in to_int_columns}))\n",
    "\n",
    "apple.head()"
   ],
   "metadata": {
    "collapsed": false,
    "ExecuteTime": {
     "end_time": "2023-11-10T12:05:24.027088700Z",
     "start_time": "2023-11-10T12:05:23.957075700Z"
    }
   },
   "id": "47fd63b52977d915"
  },
  {
   "cell_type": "code",
   "execution_count": null,
   "outputs": [],
   "source": [
    "#pd.set_option(\"display.float_format\", '{:.2f}'.format)\n",
    "pd.set_eng_float_format(accuracy=2, use_eng_prefix=True)\n",
    "\n",
    "apple.loc[\"2018\", \"Close\"].mean()\n",
    "apple.resample(\"Y\").mean()\n"
   ],
   "metadata": {
    "collapsed": false,
    "ExecuteTime": {
     "start_time": "2023-11-10T11:13:23.287188100Z"
    }
   },
   "id": "3aae1b8a836596cf"
  },
  {
   "cell_type": "code",
   "execution_count": null,
   "outputs": [],
   "source": [
    "import seaborn as sns\n",
    "import matplotlib.pyplot as plt\n",
    "\n",
    "data = apple.loc[\"2020-10\"]\n",
    "#data = apple.loc[\"2020\"].resample(\"M\").mean()\n",
    "#data = apple.resample(\"QS\").mean()\n",
    "plt.xticks(rotation=15)\n",
    "sns.lineplot(data=data, x=data.index, y=\"Open\")"
   ],
   "metadata": {
    "collapsed": false,
    "ExecuteTime": {
     "start_time": "2023-11-10T11:13:23.288689100Z"
    }
   },
   "id": "8cac7df5384dd31a"
  }
 ],
 "metadata": {
  "kernelspec": {
   "display_name": "Python 3",
   "language": "python",
   "name": "python3"
  },
  "language_info": {
   "codemirror_mode": {
    "name": "ipython",
    "version": 2
   },
   "file_extension": ".py",
   "mimetype": "text/x-python",
   "name": "python",
   "nbconvert_exporter": "python",
   "pygments_lexer": "ipython2",
   "version": "2.7.6"
  }
 },
 "nbformat": 4,
 "nbformat_minor": 5
}

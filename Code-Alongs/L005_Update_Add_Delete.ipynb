{
 "cells": [
  {
   "cell_type": "code",
   "execution_count": 1,
   "id": "initial_id",
   "metadata": {
    "collapsed": true,
    "ExecuteTime": {
     "end_time": "2023-10-30T15:45:15.847540Z",
     "start_time": "2023-10-30T15:45:15.832536900Z"
    }
   },
   "outputs": [],
   "source": [
    "import pandas as pd"
   ]
  },
  {
   "cell_type": "code",
   "execution_count": 2,
   "outputs": [
    {
     "data": {
      "text/plain": "  Column1 Column2 Column3 Column4\nA      A1      A2      A3      A4\nB      B1      B2      B3      B4\nC      C1      C2      C3      C4\nD      D1      D2      D3      D4\nE      E1      E2      E3      E4\nF      F1      F2      F3      F4\nG      G1      G2      G3      G4",
      "text/html": "<div>\n<style scoped>\n    .dataframe tbody tr th:only-of-type {\n        vertical-align: middle;\n    }\n\n    .dataframe tbody tr th {\n        vertical-align: top;\n    }\n\n    .dataframe thead th {\n        text-align: right;\n    }\n</style>\n<table border=\"1\" class=\"dataframe\">\n  <thead>\n    <tr style=\"text-align: right;\">\n      <th></th>\n      <th>Column1</th>\n      <th>Column2</th>\n      <th>Column3</th>\n      <th>Column4</th>\n    </tr>\n  </thead>\n  <tbody>\n    <tr>\n      <th>A</th>\n      <td>A1</td>\n      <td>A2</td>\n      <td>A3</td>\n      <td>A4</td>\n    </tr>\n    <tr>\n      <th>B</th>\n      <td>B1</td>\n      <td>B2</td>\n      <td>B3</td>\n      <td>B4</td>\n    </tr>\n    <tr>\n      <th>C</th>\n      <td>C1</td>\n      <td>C2</td>\n      <td>C3</td>\n      <td>C4</td>\n    </tr>\n    <tr>\n      <th>D</th>\n      <td>D1</td>\n      <td>D2</td>\n      <td>D3</td>\n      <td>D4</td>\n    </tr>\n    <tr>\n      <th>E</th>\n      <td>E1</td>\n      <td>E2</td>\n      <td>E3</td>\n      <td>E4</td>\n    </tr>\n    <tr>\n      <th>F</th>\n      <td>F1</td>\n      <td>F2</td>\n      <td>F3</td>\n      <td>F4</td>\n    </tr>\n    <tr>\n      <th>G</th>\n      <td>G1</td>\n      <td>G2</td>\n      <td>G3</td>\n      <td>G4</td>\n    </tr>\n  </tbody>\n</table>\n</div>"
     },
     "execution_count": 2,
     "metadata": {},
     "output_type": "execute_result"
    }
   ],
   "source": [
    "column_values = [f\"Column{i}\" for i in range(1, 5)]\n",
    "index_values = [chr(i) for i in range(65, 72)]\n",
    "\n",
    "df = pd.DataFrame([[f\"{ind}{col}\" for col in range(1,5)] for ind in index_values],\n",
    "                  index=index_values, columns=column_values)\n",
    "\n",
    "df"
   ],
   "metadata": {
    "collapsed": false,
    "ExecuteTime": {
     "end_time": "2023-10-30T15:45:17.837886800Z",
     "start_time": "2023-10-30T15:45:17.809881500Z"
    }
   },
   "id": "b8cbcaaa27a04c4b"
  },
  {
   "cell_type": "markdown",
   "source": [
    "## Update cells using loc or iloc\n",
    "One or multiple cells can be set to a new value using loc or iloc.\n",
    "\n",
    "- **df.iloc[:] = 0** Sets all cells to 0\n",
    "- **df.iloc[0, 0] = 0** Sets cells[0, 0] to 0"
   ],
   "metadata": {
    "collapsed": false
   },
   "id": "d27492b5475e4b43"
  },
  {
   "cell_type": "code",
   "execution_count": 3,
   "outputs": [
    {
     "data": {
      "text/plain": "  Column1 Column2 Column3 Column4\nA       0       0       0       0\nB       0       0       0       0\nC       0       0       0       0\nD       0       0       0       0\nE       0       0       0       0\nF       0       0       0       0\nG       0       0       0       0",
      "text/html": "<div>\n<style scoped>\n    .dataframe tbody tr th:only-of-type {\n        vertical-align: middle;\n    }\n\n    .dataframe tbody tr th {\n        vertical-align: top;\n    }\n\n    .dataframe thead th {\n        text-align: right;\n    }\n</style>\n<table border=\"1\" class=\"dataframe\">\n  <thead>\n    <tr style=\"text-align: right;\">\n      <th></th>\n      <th>Column1</th>\n      <th>Column2</th>\n      <th>Column3</th>\n      <th>Column4</th>\n    </tr>\n  </thead>\n  <tbody>\n    <tr>\n      <th>A</th>\n      <td>0</td>\n      <td>0</td>\n      <td>0</td>\n      <td>0</td>\n    </tr>\n    <tr>\n      <th>B</th>\n      <td>0</td>\n      <td>0</td>\n      <td>0</td>\n      <td>0</td>\n    </tr>\n    <tr>\n      <th>C</th>\n      <td>0</td>\n      <td>0</td>\n      <td>0</td>\n      <td>0</td>\n    </tr>\n    <tr>\n      <th>D</th>\n      <td>0</td>\n      <td>0</td>\n      <td>0</td>\n      <td>0</td>\n    </tr>\n    <tr>\n      <th>E</th>\n      <td>0</td>\n      <td>0</td>\n      <td>0</td>\n      <td>0</td>\n    </tr>\n    <tr>\n      <th>F</th>\n      <td>0</td>\n      <td>0</td>\n      <td>0</td>\n      <td>0</td>\n    </tr>\n    <tr>\n      <th>G</th>\n      <td>0</td>\n      <td>0</td>\n      <td>0</td>\n      <td>0</td>\n    </tr>\n  </tbody>\n</table>\n</div>"
     },
     "execution_count": 3,
     "metadata": {},
     "output_type": "execute_result"
    }
   ],
   "source": [
    "copy = df.copy()\n",
    "copy.iloc[1, 2] = \"XX\"\n",
    "copy.iloc[0, :] = \"YY\"\n",
    "copy.loc[[\"C\", \"E\", \"G\"], [\"Column2\", \"Column4\"]] = \"ZZ\"\n",
    "copy.iloc[:2, :2] = copy.iloc[-2:, -2:] + \"XX\"\n",
    "copy.iloc[:, :] = 0\n",
    "copy"
   ],
   "metadata": {
    "collapsed": false,
    "ExecuteTime": {
     "end_time": "2023-10-30T15:45:53.417602800Z",
     "start_time": "2023-10-30T15:45:53.383096Z"
    }
   },
   "id": "2c837386ada5c97e"
  },
  {
   "cell_type": "markdown",
   "source": [
    "## Adding row or columns\n",
    "Rows and columns can be added using loc (but not iloc)"
   ],
   "metadata": {
    "collapsed": false
   },
   "id": "3e5f5e511cf7d2a3"
  },
  {
   "cell_type": "code",
   "execution_count": 4,
   "outputs": [
    {
     "data": {
      "text/plain": "  Column1 Column2 Column3 Column4  Column5 Column6   Column7 new column\nA      A1      A2      A3      A4      0.0   A1-A4  A1-A1-A4        NaN\nB      B1      B2      B3      B4      0.0   B1-B4  B1-B1-B4        NaN\nC      C1      C2      C3      C4      0.0   C1-C4  C1-C1-C4        NaN\nD      D1      D2      D3      D4      0.0   D1-D4  D1-D1-D4        NaN\nE      E1      E2      E3      E4      0.0   E1-E4  E1-E1-E4        NaN\nF      F1      F2      F3      F4      0.0   F1-F4  F1-F1-F4        NaN\nG      G1      G2      G3      G4      0.0   G1-G4  G1-G1-G4        NaN\nH      H1      H2      H3      H4      0.0   H1-H4  H1-H1-H4        NaN\nI     NaN     NaN       0     NaN      NaN       0       NaN        NaN\nJ     NaN     NaN     NaN     NaN      NaN     NaN       NaN     HELLO!",
      "text/html": "<div>\n<style scoped>\n    .dataframe tbody tr th:only-of-type {\n        vertical-align: middle;\n    }\n\n    .dataframe tbody tr th {\n        vertical-align: top;\n    }\n\n    .dataframe thead th {\n        text-align: right;\n    }\n</style>\n<table border=\"1\" class=\"dataframe\">\n  <thead>\n    <tr style=\"text-align: right;\">\n      <th></th>\n      <th>Column1</th>\n      <th>Column2</th>\n      <th>Column3</th>\n      <th>Column4</th>\n      <th>Column5</th>\n      <th>Column6</th>\n      <th>Column7</th>\n      <th>new column</th>\n    </tr>\n  </thead>\n  <tbody>\n    <tr>\n      <th>A</th>\n      <td>A1</td>\n      <td>A2</td>\n      <td>A3</td>\n      <td>A4</td>\n      <td>0.0</td>\n      <td>A1-A4</td>\n      <td>A1-A1-A4</td>\n      <td>NaN</td>\n    </tr>\n    <tr>\n      <th>B</th>\n      <td>B1</td>\n      <td>B2</td>\n      <td>B3</td>\n      <td>B4</td>\n      <td>0.0</td>\n      <td>B1-B4</td>\n      <td>B1-B1-B4</td>\n      <td>NaN</td>\n    </tr>\n    <tr>\n      <th>C</th>\n      <td>C1</td>\n      <td>C2</td>\n      <td>C3</td>\n      <td>C4</td>\n      <td>0.0</td>\n      <td>C1-C4</td>\n      <td>C1-C1-C4</td>\n      <td>NaN</td>\n    </tr>\n    <tr>\n      <th>D</th>\n      <td>D1</td>\n      <td>D2</td>\n      <td>D3</td>\n      <td>D4</td>\n      <td>0.0</td>\n      <td>D1-D4</td>\n      <td>D1-D1-D4</td>\n      <td>NaN</td>\n    </tr>\n    <tr>\n      <th>E</th>\n      <td>E1</td>\n      <td>E2</td>\n      <td>E3</td>\n      <td>E4</td>\n      <td>0.0</td>\n      <td>E1-E4</td>\n      <td>E1-E1-E4</td>\n      <td>NaN</td>\n    </tr>\n    <tr>\n      <th>F</th>\n      <td>F1</td>\n      <td>F2</td>\n      <td>F3</td>\n      <td>F4</td>\n      <td>0.0</td>\n      <td>F1-F4</td>\n      <td>F1-F1-F4</td>\n      <td>NaN</td>\n    </tr>\n    <tr>\n      <th>G</th>\n      <td>G1</td>\n      <td>G2</td>\n      <td>G3</td>\n      <td>G4</td>\n      <td>0.0</td>\n      <td>G1-G4</td>\n      <td>G1-G1-G4</td>\n      <td>NaN</td>\n    </tr>\n    <tr>\n      <th>H</th>\n      <td>H1</td>\n      <td>H2</td>\n      <td>H3</td>\n      <td>H4</td>\n      <td>0.0</td>\n      <td>H1-H4</td>\n      <td>H1-H1-H4</td>\n      <td>NaN</td>\n    </tr>\n    <tr>\n      <th>I</th>\n      <td>NaN</td>\n      <td>NaN</td>\n      <td>0</td>\n      <td>NaN</td>\n      <td>NaN</td>\n      <td>0</td>\n      <td>NaN</td>\n      <td>NaN</td>\n    </tr>\n    <tr>\n      <th>J</th>\n      <td>NaN</td>\n      <td>NaN</td>\n      <td>NaN</td>\n      <td>NaN</td>\n      <td>NaN</td>\n      <td>NaN</td>\n      <td>NaN</td>\n      <td>HELLO!</td>\n    </tr>\n  </tbody>\n</table>\n</div>"
     },
     "execution_count": 4,
     "metadata": {},
     "output_type": "execute_result"
    }
   ],
   "source": [
    "copy = df.copy()\n",
    "copy.loc[\"H\"] = [\"H1\", \"H2\", \"H3\", \"H4\"]\n",
    "copy.loc[:, \"Column5\"] = 0\n",
    "copy.loc[:, \"Column6\"] = copy.loc[:, \"Column1\"] + \"-\" + copy.loc[:, \"Column4\"]\n",
    "copy[\"Column7\"] = copy[\"Column1\"] + \"-\" + copy[\"Column6\"]\n",
    "copy.loc[\"I\", [\"Column3\", \"Column6\"]] = 0\n",
    "copy.loc[\"J\", \"new column\"] = \"HELLO!\"\n",
    "copy"
   ],
   "metadata": {
    "collapsed": false,
    "ExecuteTime": {
     "end_time": "2023-10-30T15:46:08.164177800Z",
     "start_time": "2023-10-30T15:46:08.114169700Z"
    }
   },
   "id": "946d3ef530033741"
  },
  {
   "cell_type": "markdown",
   "source": [
    "## Renaming columns and indexes"
   ],
   "metadata": {
    "collapsed": false
   },
   "id": "d91f48aef2cfc7e4"
  },
  {
   "cell_type": "code",
   "execution_count": 5,
   "outputs": [
    {
     "data": {
      "text/plain": "       A Column B   C Fredrik\n0     A1       A2  A3      A4\n1     B1       B2  B3      B4\n2     C1       C2  C3      C4\n3     D1       D2  D3      D4\nFour  E1       E2  E3      E4\n5     F1       F2  F3      F4\n6     G1       G2  G3      G4",
      "text/html": "<div>\n<style scoped>\n    .dataframe tbody tr th:only-of-type {\n        vertical-align: middle;\n    }\n\n    .dataframe tbody tr th {\n        vertical-align: top;\n    }\n\n    .dataframe thead th {\n        text-align: right;\n    }\n</style>\n<table border=\"1\" class=\"dataframe\">\n  <thead>\n    <tr style=\"text-align: right;\">\n      <th></th>\n      <th>A</th>\n      <th>Column B</th>\n      <th>C</th>\n      <th>Fredrik</th>\n    </tr>\n  </thead>\n  <tbody>\n    <tr>\n      <th>0</th>\n      <td>A1</td>\n      <td>A2</td>\n      <td>A3</td>\n      <td>A4</td>\n    </tr>\n    <tr>\n      <th>1</th>\n      <td>B1</td>\n      <td>B2</td>\n      <td>B3</td>\n      <td>B4</td>\n    </tr>\n    <tr>\n      <th>2</th>\n      <td>C1</td>\n      <td>C2</td>\n      <td>C3</td>\n      <td>C4</td>\n    </tr>\n    <tr>\n      <th>3</th>\n      <td>D1</td>\n      <td>D2</td>\n      <td>D3</td>\n      <td>D4</td>\n    </tr>\n    <tr>\n      <th>Four</th>\n      <td>E1</td>\n      <td>E2</td>\n      <td>E3</td>\n      <td>E4</td>\n    </tr>\n    <tr>\n      <th>5</th>\n      <td>F1</td>\n      <td>F2</td>\n      <td>F3</td>\n      <td>F4</td>\n    </tr>\n    <tr>\n      <th>6</th>\n      <td>G1</td>\n      <td>G2</td>\n      <td>G3</td>\n      <td>G4</td>\n    </tr>\n  </tbody>\n</table>\n</div>"
     },
     "execution_count": 5,
     "metadata": {},
     "output_type": "execute_result"
    }
   ],
   "source": [
    "copy = df.copy()\n",
    "copy.columns = [\"A\", \"B\", \"C\", \"D\"]\n",
    "copy.index = [0, 1, 2, 3, 4, 5, 6]\n",
    "copy.rename(columns={\"B\": \"Column B\", \"D\": \"Fredrik\"}, inplace=True)\n",
    "copy.rename(index={4: \"Four\"}, inplace=True)\n",
    "copy"
   ],
   "metadata": {
    "collapsed": false,
    "ExecuteTime": {
     "end_time": "2023-10-30T15:46:23.388336900Z",
     "start_time": "2023-10-30T15:46:23.352830900Z"
    }
   },
   "id": "b3a42a605b3d439"
  },
  {
   "cell_type": "markdown",
   "source": [
    "## Delete rows and columns"
   ],
   "metadata": {
    "collapsed": false
   },
   "id": "3e6e8a898e1cef1f"
  },
  {
   "cell_type": "code",
   "execution_count": 6,
   "outputs": [
    {
     "data": {
      "text/plain": "  Column1 Column2 Column4\nA      A1      A2      A4\nC      C1      C2      C4\nD      D1      D2      D4\nE      E1      E2      E4\nG      G1      G2      G4",
      "text/html": "<div>\n<style scoped>\n    .dataframe tbody tr th:only-of-type {\n        vertical-align: middle;\n    }\n\n    .dataframe tbody tr th {\n        vertical-align: top;\n    }\n\n    .dataframe thead th {\n        text-align: right;\n    }\n</style>\n<table border=\"1\" class=\"dataframe\">\n  <thead>\n    <tr style=\"text-align: right;\">\n      <th></th>\n      <th>Column1</th>\n      <th>Column2</th>\n      <th>Column4</th>\n    </tr>\n  </thead>\n  <tbody>\n    <tr>\n      <th>A</th>\n      <td>A1</td>\n      <td>A2</td>\n      <td>A4</td>\n    </tr>\n    <tr>\n      <th>C</th>\n      <td>C1</td>\n      <td>C2</td>\n      <td>C4</td>\n    </tr>\n    <tr>\n      <th>D</th>\n      <td>D1</td>\n      <td>D2</td>\n      <td>D4</td>\n    </tr>\n    <tr>\n      <th>E</th>\n      <td>E1</td>\n      <td>E2</td>\n      <td>E4</td>\n    </tr>\n    <tr>\n      <th>G</th>\n      <td>G1</td>\n      <td>G2</td>\n      <td>G4</td>\n    </tr>\n  </tbody>\n</table>\n</div>"
     },
     "execution_count": 6,
     "metadata": {},
     "output_type": "execute_result"
    }
   ],
   "source": [
    "copy = df.copy()\n",
    "copy.drop(index=[\"B\", \"F\"], columns=\"Column3\") # inplace=True to update \"copy\""
   ],
   "metadata": {
    "collapsed": false,
    "ExecuteTime": {
     "end_time": "2023-10-30T15:46:38.260444100Z",
     "start_time": "2023-10-30T15:46:38.233940800Z"
    }
   },
   "id": "8abab28ee224c99e"
  },
  {
   "cell_type": "code",
   "execution_count": null,
   "outputs": [],
   "source": [],
   "metadata": {
    "collapsed": false
   },
   "id": "3174fa2e17cc7ee1"
  }
 ],
 "metadata": {
  "kernelspec": {
   "display_name": "Python 3",
   "language": "python",
   "name": "python3"
  },
  "language_info": {
   "codemirror_mode": {
    "name": "ipython",
    "version": 2
   },
   "file_extension": ".py",
   "mimetype": "text/x-python",
   "name": "python",
   "nbconvert_exporter": "python",
   "pygments_lexer": "ipython2",
   "version": "2.7.6"
  }
 },
 "nbformat": 4,
 "nbformat_minor": 5
}
